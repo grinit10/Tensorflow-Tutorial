{
 "cells": [
  {
   "cell_type": "markdown",
   "source": [
    "# Ungraded Lab: Practice with the Keras Functional API\n",
    "\n",
    "This lab will demonstrate how to build models with the Functional syntax. You'll build one using the Sequential API and see how you can do the same with the Functional API. Both will arrive at the same architecture and you can train and evaluate it as usual."
   ],
   "metadata": {}
  },
  {
   "cell_type": "markdown",
   "source": [
    "## Imports"
   ],
   "metadata": {}
  },
  {
   "cell_type": "code",
   "execution_count": 1,
   "source": [
    "try:\r\n",
    "  # %tensorflow_version only exists in Colab.\r\n",
    "  %tensorflow_version 2.x\r\n",
    "except Exception:\r\n",
    "  pass\r\n",
    "\r\n",
    "import tensorflow as tf\r\n",
    "from tensorflow.python.keras.utils.vis_utils import plot_model\r\n",
    "import pydot\r\n",
    "from tensorflow.keras.models import Model"
   ],
   "outputs": [],
   "metadata": {}
  },
  {
   "cell_type": "markdown",
   "source": [
    "## Sequential API\n",
    "\n",
    "Here is how we use the `Sequential()` class to build a model."
   ],
   "metadata": {}
  },
  {
   "cell_type": "code",
   "execution_count": 2,
   "source": [
    "def build_model_with_sequential():\r\n",
    "    \r\n",
    "    # instantiate a Sequential class and linearly stack the layers of your model\r\n",
    "    seq_model = tf.keras.models.Sequential([tf.keras.layers.Flatten(input_shape=(28, 28)),\r\n",
    "                                            tf.keras.layers.Dense(128, activation=tf.nn.relu),\r\n",
    "                                            tf.keras.layers.Dense(10, activation=tf.nn.softmax)])\r\n",
    "    return seq_model"
   ],
   "outputs": [],
   "metadata": {
    "colab": {},
    "colab_type": "code",
    "id": "04Y-C9RYUTes"
   }
  },
  {
   "cell_type": "markdown",
   "source": [
    "## Functional API\n",
    "\n",
    "And here is how you build the same model above with the functional syntax."
   ],
   "metadata": {}
  },
  {
   "cell_type": "code",
   "execution_count": 3,
   "source": [
    "def build_model_with_functional():\r\n",
    "    \r\n",
    "    # instantiate the input Tensor\r\n",
    "    input_layer = tf.keras.Input(shape=(28, 28))\r\n",
    "    \r\n",
    "    # stack the layers using the syntax: new_layer()(previous_layer)\r\n",
    "    flatten_layer = tf.keras.layers.Flatten()(input_layer)\r\n",
    "    first_dense = tf.keras.layers.Dense(128, activation=tf.nn.relu)(flatten_layer)\r\n",
    "    output_layer = tf.keras.layers.Dense(10, activation=tf.nn.softmax)(first_dense)\r\n",
    "    \r\n",
    "    # declare inputs and outputs\r\n",
    "    func_model = Model(inputs=input_layer, outputs=output_layer)\r\n",
    "    \r\n",
    "    return func_model"
   ],
   "outputs": [],
   "metadata": {}
  },
  {
   "cell_type": "markdown",
   "source": [
    "## Build the model and visualize the model graph"
   ],
   "metadata": {}
  },
  {
   "cell_type": "markdown",
   "source": [
    "You can choose how to build your model below. Just uncomment which function you'd like to use. You'll notice that the plot will look the same."
   ],
   "metadata": {}
  },
  {
   "cell_type": "code",
   "execution_count": 4,
   "source": [
    "model = build_model_with_functional()\r\n",
    "#model = build_model_with_sequential()\r\n",
    "\r\n",
    "# Plot model graph\r\n",
    "plot_model(model, show_shapes=True, show_layer_names=True, to_file='model.png')"
   ],
   "outputs": [
    {
     "output_type": "stream",
     "name": "stdout",
     "text": [
      "('You must install pydot (`pip install pydot`) and install graphviz (see instructions at https://graphviz.gitlab.io/download/) ', 'for plot_model/model_to_dot to work.')\n"
     ]
    }
   ],
   "metadata": {}
  },
  {
   "cell_type": "markdown",
   "source": [
    "## Training the model\n",
    "\n",
    "Regardless if you built it with the Sequential or Functional API, you'll follow the same steps when training and evaluating your model."
   ],
   "metadata": {}
  },
  {
   "cell_type": "code",
   "execution_count": 5,
   "source": [
    "# prepare fashion mnist dataset\r\n",
    "mnist = tf.keras.datasets.fashion_mnist\r\n",
    "(training_images, training_labels), (test_images, test_labels) = mnist.load_data()\r\n",
    "training_images = training_images / 255.0\r\n",
    "test_images = test_images / 255.0\r\n",
    "\r\n",
    "# configure, train, and evaluate the model\r\n",
    "model.compile(optimizer=tf.optimizers.Adam(),\r\n",
    "              loss='sparse_categorical_crossentropy',\r\n",
    "              metrics=['accuracy'])\r\n",
    "model.fit(training_images, training_labels, epochs=5)\r\n",
    "model.evaluate(test_images, test_labels)"
   ],
   "outputs": [
    {
     "output_type": "stream",
     "name": "stdout",
     "text": [
      "Epoch 1/5\n",
      "1875/1875 [==============================] - 4s 1ms/step - loss: 0.5017 - accuracy: 0.8226\n",
      "Epoch 2/5\n",
      "1875/1875 [==============================] - 3s 1ms/step - loss: 0.3749 - accuracy: 0.8648\n",
      "Epoch 3/5\n",
      "1875/1875 [==============================] - 2s 1ms/step - loss: 0.3353 - accuracy: 0.8775\n",
      "Epoch 4/5\n",
      "1875/1875 [==============================] - 3s 1ms/step - loss: 0.3117 - accuracy: 0.8866\n",
      "Epoch 5/5\n",
      "1875/1875 [==============================] - 3s 1ms/step - loss: 0.2932 - accuracy: 0.8929\n",
      "313/313 [==============================] - 1s 2ms/step - loss: 0.3473 - accuracy: 0.8788\n"
     ]
    },
    {
     "output_type": "execute_result",
     "data": {
      "text/plain": [
       "[0.34733280539512634, 0.8787999749183655]"
      ]
     },
     "metadata": {},
     "execution_count": 5
    }
   ],
   "metadata": {}
  }
 ],
 "metadata": {
  "colab": {
   "include_colab_link": true,
   "name": "FunctionalCoLab1.ipynb",
   "provenance": []
  },
  "kernelspec": {
   "name": "python3",
   "display_name": "Python 3.6.13 64-bit ('tensorflow': conda)"
  },
  "language_info": {
   "codemirror_mode": {
    "name": "ipython",
    "version": 3
   },
   "file_extension": ".py",
   "mimetype": "text/x-python",
   "name": "python",
   "nbconvert_exporter": "python",
   "pygments_lexer": "ipython3",
   "version": "3.6.13"
  },
  "interpreter": {
   "hash": "9a417aca87ac67f7a1fd26255ff8c57e1923c987fb7a47bb19755c58197afd89"
  }
 },
 "nbformat": 4,
 "nbformat_minor": 4
}