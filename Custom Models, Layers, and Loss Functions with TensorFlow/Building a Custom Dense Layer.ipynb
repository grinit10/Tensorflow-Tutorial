{
 "cells": [
  {
   "cell_type": "markdown",
   "source": [
    "# Ungraded Lab: Building a Custom Dense Layer\n",
    "\n",
    "In this lab, we'll walk through how to create a custom layer that inherits the [Layer](https://keras.io/api/layers/base_layer/#layer-class) class. Unlike simple Lambda layers you did previously, the custom layer here will contain weights that can be updated during training."
   ],
   "metadata": {}
  },
  {
   "cell_type": "markdown",
   "source": [
    "## Imports"
   ],
   "metadata": {}
  },
  {
   "cell_type": "code",
   "execution_count": 1,
   "source": [
    "try:\r\n",
    "    # %tensorflow_version only exists in Colab.\r\n",
    "    %tensorflow_version 2.x\r\n",
    "except Exception:\r\n",
    "    pass\r\n",
    "\r\n",
    "import tensorflow as tf\r\n",
    "import numpy as np"
   ],
   "outputs": [],
   "metadata": {
    "colab": {},
    "colab_type": "code",
    "id": "DpioxwFXD9Is"
   }
  },
  {
   "cell_type": "markdown",
   "source": [
    "## Custom Layer with weights\n",
    "\n",
    "To make custom layer that is trainable, we need to define a class that inherits the [Layer](https://keras.io/api/layers/base_layer/#layer-class) base class from Keras. The Python syntax is shown below in the class declaration. This class requires three functions: `__init__()`, `build()` and `call()`. These ensure that our custom layer has a *state* and *computation* that can be accessed during training or inference."
   ],
   "metadata": {}
  },
  {
   "cell_type": "code",
   "execution_count": 2,
   "source": [
    "# inherit from this base class\r\n",
    "from tensorflow.keras.layers import Layer\r\n",
    "\r\n",
    "class SimpleDense(Layer):\r\n",
    "\r\n",
    "    def __init__(self, units=32):\r\n",
    "        '''Initializes the instance attributes'''\r\n",
    "        super(SimpleDense, self).__init__()\r\n",
    "        self.units = units\r\n",
    "\r\n",
    "    def build(self, input_shape):\r\n",
    "        '''Create the state of the layer (weights)'''\r\n",
    "        # initialize the weights\r\n",
    "        w_init = tf.random_normal_initializer()\r\n",
    "        self.w = tf.Variable(name=\"kernel\",\r\n",
    "            initial_value=w_init(shape=(input_shape[-1], self.units),\r\n",
    "                                 dtype='float32'),\r\n",
    "            trainable=True)\r\n",
    "\r\n",
    "        # initialize the biases\r\n",
    "        b_init = tf.zeros_initializer()\r\n",
    "        self.b = tf.Variable(name=\"bias\",\r\n",
    "            initial_value=b_init(shape=(self.units,), dtype='float32'),\r\n",
    "            trainable=True)\r\n",
    "\r\n",
    "    def call(self, inputs):\r\n",
    "        '''Defines the computation from inputs to outputs'''\r\n",
    "        return tf.matmul(inputs, self.w) + self.b"
   ],
   "outputs": [],
   "metadata": {
    "colab": {},
    "colab_type": "code",
    "id": "jnVrzRT6BPWl"
   }
  },
  {
   "cell_type": "markdown",
   "source": [
    "Now we can use our custom layer like below:"
   ],
   "metadata": {}
  },
  {
   "cell_type": "code",
   "execution_count": 3,
   "source": [
    "# declare an instance of the class\r\n",
    "my_dense = SimpleDense(units=1)\r\n",
    "\r\n",
    "# define an input and feed into the layer\r\n",
    "x = tf.ones((1, 1))\r\n",
    "y = my_dense(x)\r\n",
    "\r\n",
    "# parameters of the base Layer class like `variables` can be used\r\n",
    "print(my_dense.variables)"
   ],
   "outputs": [
    {
     "output_type": "stream",
     "name": "stdout",
     "text": [
      "[<tf.Variable 'simple_dense/kernel:0' shape=(1, 1) dtype=float32, numpy=array([[0.02623384]], dtype=float32)>, <tf.Variable 'simple_dense/bias:0' shape=(1,) dtype=float32, numpy=array([0.], dtype=float32)>]\n"
     ]
    }
   ],
   "metadata": {}
  },
  {
   "cell_type": "markdown",
   "source": [
    "Let's then try using it in simple network:"
   ],
   "metadata": {}
  },
  {
   "cell_type": "code",
   "execution_count": 4,
   "source": [
    "# define the dataset\r\n",
    "xs = np.array([-1.0,  0.0, 1.0, 2.0, 3.0, 4.0], dtype=float)\r\n",
    "ys = np.array([-3.0, -1.0, 1.0, 3.0, 5.0, 7.0], dtype=float)\r\n",
    "\r\n",
    "\r\n",
    "# use the Sequential API to build a model with our custom layer\r\n",
    "my_layer = SimpleDense(units=1)\r\n",
    "model = tf.keras.Sequential([my_layer])\r\n",
    "\r\n",
    "# configure and train the model\r\n",
    "model.compile(optimizer='sgd', loss='mean_squared_error')\r\n",
    "model.fit(xs, ys, epochs=500,verbose=0)\r\n",
    "\r\n",
    "# perform inference\r\n",
    "print(model.predict([10.0]))\r\n",
    "\r\n",
    "# see the updated state of the variables\r\n",
    "print(my_layer.variables)"
   ],
   "outputs": [
    {
     "output_type": "stream",
     "name": "stdout",
     "text": [
      "[[18.98172]]\n",
      "[<tf.Variable 'simple_dense_1/kernel:0' shape=(1, 1) dtype=float32, numpy=array([[1.9973506]], dtype=float32)>, <tf.Variable 'simple_dense_1/bias:0' shape=(1,) dtype=float32, numpy=array([-0.99178594], dtype=float32)>]\n"
     ]
    }
   ],
   "metadata": {
    "colab": {},
    "colab_type": "code",
    "id": "WwTPJT4DkTyW"
   }
  }
 ],
 "metadata": {
  "colab": {
   "authorship_tag": "ABX9TyMm2GqP/jiEhAWgS1uK97vE",
   "collapsed_sections": [],
   "include_colab_link": true,
   "name": "CustomDenseLayer.ipynb",
   "provenance": []
  },
  "kernelspec": {
   "name": "python3",
   "display_name": "Python 3.6.13 64-bit ('tensorflow': conda)"
  },
  "language_info": {
   "codemirror_mode": {
    "name": "ipython",
    "version": 3
   },
   "file_extension": ".py",
   "mimetype": "text/x-python",
   "name": "python",
   "nbconvert_exporter": "python",
   "pygments_lexer": "ipython3",
   "version": "3.6.13"
  },
  "interpreter": {
   "hash": "9a417aca87ac67f7a1fd26255ff8c57e1923c987fb7a47bb19755c58197afd89"
  }
 },
 "nbformat": 4,
 "nbformat_minor": 4
}