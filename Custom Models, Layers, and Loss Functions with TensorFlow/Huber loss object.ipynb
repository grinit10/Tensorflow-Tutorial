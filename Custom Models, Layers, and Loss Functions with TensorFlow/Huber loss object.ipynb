{
 "cells": [
  {
   "cell_type": "markdown",
   "source": [
    "# Ungraded Lab: Huber Loss hyperparameter and class\n",
    "\n",
    "In this lab, we'll extend our previous Huber loss function and show how you can include hyperparameters in defining loss functions. We'll also look at how to implement a custom loss as an object by inheriting the [Loss](https://www.tensorflow.org/api_docs/python/tf/keras/losses/Loss) class."
   ],
   "metadata": {}
  },
  {
   "cell_type": "markdown",
   "source": [
    "## Imports"
   ],
   "metadata": {}
  },
  {
   "cell_type": "code",
   "execution_count": 1,
   "source": [
    "try:\r\n",
    "    # %tensorflow_version only exists in Colab.\r\n",
    "    %tensorflow_version 2.x\r\n",
    "except Exception:\r\n",
    "    pass\r\n",
    "\r\n",
    "import tensorflow as tf\r\n",
    "import numpy as np\r\n",
    "from tensorflow import keras"
   ],
   "outputs": [],
   "metadata": {
    "colab": {},
    "colab_type": "code",
    "id": "0p84I7yFHRT2"
   }
  },
  {
   "cell_type": "markdown",
   "source": [
    "## Dataset\n",
    "\n",
    "As before, this model will be trained on the `xs` and `ys` below where the relationship is $y = 2x-1$. Thus, later, when we test for `x=10`, whichever version of the model gets the closest answer to `19` will be deemed more accurate."
   ],
   "metadata": {}
  },
  {
   "cell_type": "code",
   "execution_count": 2,
   "source": [
    "# inputs\r\n",
    "xs = np.array([-1.0,  0.0, 1.0, 2.0, 3.0, 4.0], dtype=float)\r\n",
    "\r\n",
    "# labels\r\n",
    "ys = np.array([-3.0, -1.0, 1.0, 3.0, 5.0, 7.0], dtype=float)"
   ],
   "outputs": [],
   "metadata": {
    "colab": {},
    "colab_type": "code",
    "id": "0pajvrhrInPa"
   }
  },
  {
   "cell_type": "markdown",
   "source": [
    "## Custom loss with hyperparameter\n",
    "\n",
    "The `loss` argument in `model.compile()` only accepts functions that accepts two parameters: the ground truth (`y_true`) and the model predictions (`y_pred`). If we want to include a hyperparameter that we can tune, then we can define a wrapper function that accepts this hyperparameter."
   ],
   "metadata": {}
  },
  {
   "cell_type": "code",
   "execution_count": 3,
   "source": [
    "# wrapper function that accepts the hyperparameter\r\n",
    "def my_huber_loss_with_threshold(threshold):\r\n",
    "  \r\n",
    "    # function that accepts the ground truth and predictions\r\n",
    "    def my_huber_loss(y_true, y_pred):\r\n",
    "        error = y_true - y_pred\r\n",
    "        is_small_error = tf.abs(error) <= threshold\r\n",
    "        small_error_loss = tf.square(error) / 2\r\n",
    "        big_error_loss = threshold * (tf.abs(error) - (0.5 * threshold))\r\n",
    "        \r\n",
    "        return tf.where(is_small_error, small_error_loss, big_error_loss) \r\n",
    "\r\n",
    "    # return the inner function tuned by the hyperparameter\r\n",
    "    return my_huber_loss"
   ],
   "outputs": [],
   "metadata": {
    "colab": {},
    "colab_type": "code",
    "id": "FvRZpxk2tGn6"
   }
  },
  {
   "cell_type": "markdown",
   "source": [
    "We can now specify the `loss` as the wrapper function above. Notice that we can now set the `threshold` value. Try varying this value and see the results you get."
   ],
   "metadata": {}
  },
  {
   "cell_type": "code",
   "execution_count": 4,
   "source": [
    "model = tf.keras.Sequential([keras.layers.Dense(units=1, input_shape=[1])])\r\n",
    "model.compile(optimizer='sgd', loss=my_huber_loss_with_threshold(threshold=1.2))\r\n",
    "model.fit(xs, ys, epochs=500,verbose=0)\r\n",
    "print(model.predict([10.0]))"
   ],
   "outputs": [
    {
     "output_type": "stream",
     "name": "stdout",
     "text": [
      "[[18.796106]]\n"
     ]
    }
   ],
   "metadata": {
    "colab": {},
    "colab_type": "code",
    "id": "K7rgmb5qH5QX"
   }
  },
  {
   "cell_type": "markdown",
   "source": [
    "## Implement Custom Loss as a Class\n",
    "\n",
    "We can also implement our custom loss as a class. It inherits from the Keras Loss class and the syntax and required methods are shown below."
   ],
   "metadata": {}
  },
  {
   "cell_type": "code",
   "execution_count": 5,
   "source": [
    "from tensorflow.keras.losses import Loss\r\n",
    "\r\n",
    "class MyHuberLoss(Loss):\r\n",
    "  \r\n",
    "    # initialize instance attributes\r\n",
    "    def __init__(self, threshold=1):\r\n",
    "        super().__init__()\r\n",
    "        self.threshold = threshold\r\n",
    "\r\n",
    "    # compute loss\r\n",
    "    def call(self, y_true, y_pred):\r\n",
    "        error = y_true - y_pred\r\n",
    "        is_small_error = tf.abs(error) <= self.threshold\r\n",
    "        small_error_loss = tf.square(error) / 2\r\n",
    "        big_error_loss = self.threshold * (tf.abs(error) - (0.5 * self.threshold))\r\n",
    "        return tf.where(is_small_error, small_error_loss, big_error_loss)"
   ],
   "outputs": [],
   "metadata": {
    "colab": {},
    "colab_type": "code",
    "id": "iderl2m0saTa"
   }
  },
  {
   "cell_type": "markdown",
   "source": [
    "You can specify the loss by instantiating an object from your custom loss class."
   ],
   "metadata": {}
  },
  {
   "cell_type": "code",
   "execution_count": 6,
   "source": [
    "model = tf.keras.Sequential([keras.layers.Dense(units=1, input_shape=[1])])\n",
    "model.compile(optimizer='sgd', loss=MyHuberLoss(threshold=1.02))\n",
    "model.fit(xs, ys, epochs=500,verbose=0)\n",
    "print(model.predict([10.0]))"
   ],
   "outputs": [
    {
     "output_type": "stream",
     "name": "stdout",
     "text": [
      "[[18.787994]]\n"
     ]
    }
   ],
   "metadata": {
    "colab": {},
    "colab_type": "code",
    "id": "lwKWfSmDIayP"
   }
  }
 ],
 "metadata": {
  "colab": {
   "include_colab_link": true,
   "name": "huber-object-loss.ipynb",
   "provenance": []
  },
  "kernelspec": {
   "name": "python3",
   "display_name": "Python 3.6.13 64-bit ('tensorflow': conda)"
  },
  "language_info": {
   "codemirror_mode": {
    "name": "ipython",
    "version": 3
   },
   "file_extension": ".py",
   "mimetype": "text/x-python",
   "name": "python",
   "nbconvert_exporter": "python",
   "pygments_lexer": "ipython3",
   "version": "3.6.13"
  },
  "interpreter": {
   "hash": "9a417aca87ac67f7a1fd26255ff8c57e1923c987fb7a47bb19755c58197afd89"
  }
 },
 "nbformat": 4,
 "nbformat_minor": 4
}