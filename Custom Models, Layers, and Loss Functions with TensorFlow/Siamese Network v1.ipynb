{
 "cells": [
  {
   "cell_type": "markdown",
   "source": [
    "# Ungraded Lab: Implement a Siamese network"
   ],
   "metadata": {}
  },
  {
   "cell_type": "markdown",
   "source": [
    "This lab will go through creating and training a multi-input model. You will build a basic Siamese Network to find the similarity or dissimilarity between items of clothing. For Week 1, you will just focus on constructing the network. You will revisit this lab in Week 2 when we talk about custom loss functions."
   ],
   "metadata": {}
  },
  {
   "cell_type": "markdown",
   "source": [
    "## Imports"
   ],
   "metadata": {}
  },
  {
   "cell_type": "code",
   "execution_count": 1,
   "source": [
    "try:\r\n",
    "# %tensorflow_version only exists in Colab.\r\n",
    "  %tensorflow_version 2.x\r\n",
    "except Exception:\r\n",
    "  pass\r\n",
    "\r\n",
    "import tensorflow as tf\r\n",
    "from tensorflow.keras.models import Model\r\n",
    "from tensorflow.keras.layers import Input, Flatten, Dense, Dropout, Lambda\r\n",
    "from tensorflow.keras.optimizers import RMSprop\r\n",
    "from tensorflow.keras.datasets import fashion_mnist\r\n",
    "from tensorflow.python.keras.utils.vis_utils import plot_model\r\n",
    "from tensorflow.keras import backend as K\r\n",
    "\r\n",
    "import numpy as np\r\n",
    "import matplotlib.pyplot as plt\r\n",
    "from PIL import Image, ImageFont, ImageDraw\r\n",
    "import random"
   ],
   "outputs": [],
   "metadata": {
    "colab": {},
    "colab_type": "code",
    "id": "nVHTXTZpkdtM"
   }
  },
  {
   "cell_type": "markdown",
   "source": [
    "## Prepare the Dataset\n",
    "\n",
    "First define a few utilities for preparing and visualizing your dataset."
   ],
   "metadata": {}
  },
  {
   "cell_type": "code",
   "execution_count": 2,
   "source": [
    "def create_pairs(x, digit_indices):\r\n",
    "    '''Positive and negative pair creation.\r\n",
    "    Alternates between positive and negative pairs.\r\n",
    "    '''\r\n",
    "    pairs = []\r\n",
    "    labels = []\r\n",
    "    n = min([len(digit_indices[d]) for d in range(10)]) - 1\r\n",
    "    \r\n",
    "    for d in range(10):\r\n",
    "        for i in range(n):\r\n",
    "            z1, z2 = digit_indices[d][i], digit_indices[d][i + 1]\r\n",
    "            pairs += [[x[z1], x[z2]]]\r\n",
    "            inc = random.randrange(1, 10)\r\n",
    "            dn = (d + inc) % 10\r\n",
    "            z1, z2 = digit_indices[d][i], digit_indices[dn][i]\r\n",
    "            pairs += [[x[z1], x[z2]]]\r\n",
    "            labels += [1, 0]\r\n",
    "            \r\n",
    "    return np.array(pairs), np.array(labels)\r\n",
    "\r\n",
    "\r\n",
    "def create_pairs_on_set(images, labels):\r\n",
    "    \r\n",
    "    digit_indices = [np.where(labels == i)[0] for i in range(10)]\r\n",
    "    pairs, y = create_pairs(images, digit_indices)\r\n",
    "    y = y.astype('float32')\r\n",
    "    \r\n",
    "    return pairs, y\r\n",
    "\r\n",
    "\r\n",
    "def show_image(image):\r\n",
    "    plt.figure()\r\n",
    "    plt.imshow(image)\r\n",
    "    plt.colorbar()\r\n",
    "    plt.grid(False)\r\n",
    "    plt.show()"
   ],
   "outputs": [],
   "metadata": {
    "colab": {},
    "colab_type": "code",
    "id": "iSQMl9cZkgDx"
   }
  },
  {
   "cell_type": "markdown",
   "source": [
    "You can now download and prepare our train and test sets. You will also create pairs of images that will go into the multi-input model."
   ],
   "metadata": {}
  },
  {
   "cell_type": "code",
   "execution_count": 3,
   "source": [
    "# load the dataset\r\n",
    "(train_images, train_labels), (test_images, test_labels) = fashion_mnist.load_data()\r\n",
    "\r\n",
    "# prepare train and test sets\r\n",
    "train_images = train_images.astype('float32')\r\n",
    "test_images = test_images.astype('float32')\r\n",
    "\r\n",
    "# normalize values\r\n",
    "train_images = train_images / 255.0\r\n",
    "test_images = test_images / 255.0\r\n",
    "\r\n",
    "# create pairs on train and test sets\r\n",
    "tr_pairs, tr_y = create_pairs_on_set(train_images, train_labels)\r\n",
    "ts_pairs, ts_y = create_pairs_on_set(test_images, test_labels)"
   ],
   "outputs": [],
   "metadata": {
    "colab": {},
    "colab_type": "code",
    "id": "ook7lKQakomz"
   }
  },
  {
   "cell_type": "markdown",
   "source": [
    "You can see a sample pair of images below."
   ],
   "metadata": {}
  },
  {
   "cell_type": "code",
   "execution_count": 4,
   "source": [
    "# array index\r\n",
    "this_pair = 8\r\n",
    "\r\n",
    "# show images at this index\r\n",
    "show_image(ts_pairs[this_pair][0])\r\n",
    "show_image(ts_pairs[this_pair][1])\r\n",
    "\r\n",
    "# print the label for this pair\r\n",
    "print(ts_y[this_pair])"
   ],
   "outputs": [
    {
     "output_type": "display_data",
     "data": {
      "image/png": "[encoded data removed]",
      "text/plain": [
       "<Figure size 432x288 with 2 Axes>"
      ]
     },
     "metadata": {
      "needs_background": "light"
     }
    },
    {
     "output_type": "display_data",
     "data": {
      "image/png": "[encoded data removed]",
      "text/plain": [
       "<Figure size 432x288 with 2 Axes>"
      ]
     },
     "metadata": {
      "needs_background": "light"
     }
    },
    {
     "output_type": "stream",
     "name": "stdout",
     "text": [
      "1.0\n"
     ]
    }
   ],
   "metadata": {
    "colab": {},
    "colab_type": "code",
    "id": "BhTpANwipLIk"
   }
  },
  {
   "cell_type": "code",
   "execution_count": 5,
   "source": [
    "# print other pairs\r\n",
    "\r\n",
    "show_image(tr_pairs[:,0][0])\r\n",
    "show_image(tr_pairs[:,0][1])\r\n",
    "\r\n",
    "show_image(tr_pairs[:,1][0])\r\n",
    "show_image(tr_pairs[:,1][1])"
   ],
   "outputs": [
    {
     "output_type": "display_data",
     "data": {
      "image/png": "[encoded data removed]",
      "text/plain": [
       "<Figure size 432x288 with 2 Axes>"
      ]
     },
     "metadata": {
      "needs_background": "light"
     }
    },
    {
     "output_type": "display_data",
     "data": {
      "image/png": "[encoded data removed]",
      "text/plain": [
       "<Figure size 432x288 with 2 Axes>"
      ]
     },
     "metadata": {
      "needs_background": "light"
     }
    },
    {
     "output_type": "display_data",
     "data": {
      "image/png": "[encoded data removed]",
      "text/plain": [
       "<Figure size 432x288 with 2 Axes>"
      ]
     },
     "metadata": {
      "needs_background": "light"
     }
    },
    {
     "output_type": "display_data",
     "data": {
      "image/png": "[encoded data removed]",
      "text/plain": [
       "<Figure size 432x288 with 2 Axes>"
      ]
     },
     "metadata": {
      "needs_background": "light"
     }
    }
   ],
   "metadata": {
    "colab": {},
    "colab_type": "code",
    "id": "lbgAYQW0zT_4"
   }
  },
  {
   "cell_type": "markdown",
   "source": [
    "## Build the Model\n",
    "\n",
    "Next, you'll define some utilities for building our model."
   ],
   "metadata": {}
  },
  {
   "cell_type": "code",
   "execution_count": 6,
   "source": [
    "def initialize_base_network():\r\n",
    "    input = Input(shape=(28,28,), name=\"base_input\")\r\n",
    "    x = Flatten(name=\"flatten_input\")(input)\r\n",
    "    x = Dense(128, activation='relu', name=\"first_base_dense\")(x)\r\n",
    "    x = Dropout(0.1, name=\"first_dropout\")(x)\r\n",
    "    x = Dense(128, activation='relu', name=\"second_base_dense\")(x)\r\n",
    "    x = Dropout(0.1, name=\"second_dropout\")(x)\r\n",
    "    x = Dense(128, activation='relu', name=\"third_base_dense\")(x)\r\n",
    "\r\n",
    "    return Model(inputs=input, outputs=x)\r\n",
    "\r\n",
    "\r\n",
    "def euclidean_distance(vects):\r\n",
    "    x, y = vects\r\n",
    "    sum_square = K.sum(K.square(x - y), axis=1, keepdims=True)\r\n",
    "    return K.sqrt(K.maximum(sum_square, K.epsilon()))\r\n",
    "\r\n",
    "\r\n",
    "def eucl_dist_output_shape(shapes):\r\n",
    "    shape1, shape2 = shapes\r\n",
    "    return (shape1[0], 1)"
   ],
   "outputs": [],
   "metadata": {
    "colab": {},
    "colab_type": "code",
    "id": "wMo2HbKLkuAa"
   }
  },
  {
   "cell_type": "markdown",
   "source": [
    "Let's see how our base network looks. This is where the two inputs will pass through to generate an output vector."
   ],
   "metadata": {}
  },
  {
   "cell_type": "code",
   "execution_count": 7,
   "source": [
    "base_network = initialize_base_network()\r\n",
    "plot_model(base_network, show_shapes=True, show_layer_names=True, to_file='base-model.png')"
   ],
   "outputs": [
    {
     "output_type": "stream",
     "name": "stdout",
     "text": [
      "('You must install pydot (`pip install pydot`) and install graphviz (see instructions at https://graphviz.gitlab.io/download/) ', 'for plot_model/model_to_dot to work.')\n"
     ]
    }
   ],
   "metadata": {
    "colab": {},
    "colab_type": "code",
    "id": "8FjSLg_LoJAy"
   }
  },
  {
   "cell_type": "markdown",
   "source": [
    "Let's now build the Siamese network. The plot will show two inputs going to the base network."
   ],
   "metadata": {}
  },
  {
   "cell_type": "code",
   "execution_count": 8,
   "source": [
    "# create the left input and point to the base network\r\n",
    "input_a = Input(shape=(28,28,), name=\"left_input\")\r\n",
    "vect_output_a = base_network(input_a)\r\n",
    "\r\n",
    "# create the right input and point to the base network\r\n",
    "input_b = Input(shape=(28,28,), name=\"right_input\")\r\n",
    "vect_output_b = base_network(input_b)\r\n",
    "\r\n",
    "# measure the similarity of the two vector outputs\r\n",
    "output = Lambda(euclidean_distance, name=\"output_layer\", output_shape=eucl_dist_output_shape)([vect_output_a, vect_output_b])\r\n",
    "\r\n",
    "# specify the inputs and output of the model\r\n",
    "model = Model([input_a, input_b], output)\r\n",
    "\r\n",
    "# plot model graph\r\n",
    "plot_model(model, show_shapes=True, show_layer_names=True, to_file='outer-model.png')"
   ],
   "outputs": [
    {
     "output_type": "stream",
     "name": "stdout",
     "text": [
      "('You must install pydot (`pip install pydot`) and install graphviz (see instructions at https://graphviz.gitlab.io/download/) ', 'for plot_model/model_to_dot to work.')\n"
     ]
    }
   ],
   "metadata": {
    "colab": {},
    "colab_type": "code",
    "id": "Qe4YNz0kkwq5"
   }
  },
  {
   "cell_type": "markdown",
   "source": [
    "## Train the Model\n",
    "\n",
    "You can now define the custom loss for our network and start training."
   ],
   "metadata": {}
  },
  {
   "cell_type": "code",
   "execution_count": 9,
   "source": [
    "def contrastive_loss_with_margin(margin):\r\n",
    "    def contrastive_loss(y_true, y_pred):\r\n",
    "        '''Contrastive loss from Hadsell-et-al.'06\r\n",
    "        http://yann.lecun.com/exdb/publis/pdf/hadsell-chopra-lecun-06.pdf\r\n",
    "        '''\r\n",
    "        square_pred = K.square(y_pred)\r\n",
    "        margin_square = K.square(K.maximum(margin - y_pred, 0))\r\n",
    "        return K.mean(y_true * square_pred + (1 - y_true) * margin_square)\r\n",
    "    return contrastive_loss"
   ],
   "outputs": [],
   "metadata": {
    "colab": {},
    "colab_type": "code",
    "id": "HswzRyDAk-V7"
   }
  },
  {
   "cell_type": "code",
   "execution_count": 10,
   "source": [
    "rms = RMSprop()\r\n",
    "model.compile(loss=contrastive_loss_with_margin(margin=1), optimizer=rms)\r\n",
    "history = model.fit([tr_pairs[:,0], tr_pairs[:,1]], tr_y, epochs=20, batch_size=128, validation_data=([ts_pairs[:,0], ts_pairs[:,1]], ts_y))"
   ],
   "outputs": [
    {
     "output_type": "stream",
     "name": "stdout",
     "text": [
      "Epoch 1/20\n",
      "938/938 [==============================] - 4s 4ms/step - loss: 0.1124 - val_loss: 0.0896\n",
      "Epoch 2/20\n",
      "938/938 [==============================] - 4s 4ms/step - loss: 0.0817 - val_loss: 0.0761\n",
      "Epoch 3/20\n",
      "938/938 [==============================] - 4s 4ms/step - loss: 0.0725 - val_loss: 0.0702\n",
      "Epoch 4/20\n",
      "938/938 [==============================] - 4s 4ms/step - loss: 0.0677 - val_loss: 0.0698\n",
      "Epoch 5/20\n",
      "938/938 [==============================] - 4s 4ms/step - loss: 0.0642 - val_loss: 0.0657\n",
      "Epoch 6/20\n",
      "938/938 [==============================] - 3s 4ms/step - loss: 0.0608 - val_loss: 0.0633\n",
      "Epoch 7/20\n",
      "938/938 [==============================] - 4s 4ms/step - loss: 0.0591 - val_loss: 0.0639\n",
      "Epoch 8/20\n",
      "938/938 [==============================] - 4s 4ms/step - loss: 0.0577 - val_loss: 0.0644\n",
      "Epoch 9/20\n",
      "938/938 [==============================] - 4s 4ms/step - loss: 0.0572 - val_loss: 0.0648\n",
      "Epoch 10/20\n",
      "938/938 [==============================] - 4s 4ms/step - loss: 0.0556 - val_loss: 0.0617\n",
      "Epoch 11/20\n",
      "938/938 [==============================] - 4s 4ms/step - loss: 0.0553 - val_loss: 0.0629\n",
      "Epoch 12/20\n",
      "938/938 [==============================] - 4s 4ms/step - loss: 0.0543 - val_loss: 0.0616\n",
      "Epoch 13/20\n",
      "938/938 [==============================] - 3s 4ms/step - loss: 0.0534 - val_loss: 0.0610\n",
      "Epoch 14/20\n",
      "938/938 [==============================] - 3s 4ms/step - loss: 0.0530 - val_loss: 0.0611\n",
      "Epoch 15/20\n",
      "938/938 [==============================] - 3s 4ms/step - loss: 0.0524 - val_loss: 0.0607\n",
      "Epoch 16/20\n",
      "938/938 [==============================] - 3s 3ms/step - loss: 0.0519 - val_loss: 0.0622\n",
      "Epoch 17/20\n",
      "938/938 [==============================] - 3s 4ms/step - loss: 0.0514 - val_loss: 0.0638\n",
      "Epoch 18/20\n",
      "938/938 [==============================] - 3s 4ms/step - loss: 0.0508 - val_loss: 0.0640\n",
      "Epoch 19/20\n",
      "938/938 [==============================] - 3s 4ms/step - loss: 0.0504 - val_loss: 0.0623\n",
      "Epoch 20/20\n",
      "938/938 [==============================] - 3s 4ms/step - loss: 0.0502 - val_loss: 0.0629\n"
     ]
    }
   ],
   "metadata": {
    "colab": {},
    "colab_type": "code",
    "id": "UIGaA9TMlBCc"
   }
  },
  {
   "cell_type": "markdown",
   "source": [
    "## Model Evaluation\n",
    "\n",
    "As usual, you can evaluate our model by computing the accuracy and observing the metrics during training."
   ],
   "metadata": {}
  },
  {
   "cell_type": "code",
   "execution_count": 11,
   "source": [
    "def compute_accuracy(y_true, y_pred):\r\n",
    "    '''Compute classification accuracy with a fixed threshold on distances.\r\n",
    "    '''\r\n",
    "    pred = y_pred.ravel() < 0.5\r\n",
    "    return np.mean(pred == y_true)"
   ],
   "outputs": [],
   "metadata": {
    "colab": {},
    "colab_type": "code",
    "id": "RYwU4CIhlIE4"
   }
  },
  {
   "cell_type": "code",
   "execution_count": 12,
   "source": [
    "loss = model.evaluate(x=[ts_pairs[:,0],ts_pairs[:,1]], y=ts_y)\r\n",
    "\r\n",
    "y_pred_train = model.predict([tr_pairs[1:8,0], tr_pairs[1:8,1]])\r\n",
    "train_accuracy = compute_accuracy(tr_y, y_pred_train)\r\n",
    "\r\n",
    "y_pred_test = model.predict([ts_pairs[1:8,0], ts_pairs[1:8,1]])\r\n",
    "test_accuracy = compute_accuracy(ts_y, y_pred_test)\r\n",
    "\r\n",
    "print(\"Loss = {}, Train Accuracy = {} Test Accuracy = {}\".format(loss, train_accuracy, test_accuracy))"
   ],
   "outputs": [
    {
     "output_type": "stream",
     "name": "stdout",
     "text": [
      "625/625 [==============================] - 1s 1ms/step - loss: 0.0629\n",
      "Loss = 0.06289467215538025, Train Accuracy = 0.0 Test Accuracy = 0.0\n"
     ]
    },
    {
     "output_type": "stream",
     "name": "stderr",
     "text": [
      "C:\\Users\\Arnab\\.conda\\envs\\tensorflow\\lib\\site-packages\\ipykernel_launcher.py:5: DeprecationWarning: elementwise comparison failed; this will raise an error in the future.\n",
      "  \"\"\"\n"
     ]
    }
   ],
   "metadata": {
    "colab": {},
    "colab_type": "code",
    "id": "IyfJWzjYlKMg"
   }
  },
  {
   "cell_type": "code",
   "execution_count": 13,
   "source": [
    "def plot_metrics(metric_name, title, ylim=5):\r\n",
    "    plt.title(title)\r\n",
    "    plt.ylim(0,ylim)\r\n",
    "    plt.plot(history.history[metric_name],color='blue',label=metric_name)\r\n",
    "    plt.plot(history.history['val_' + metric_name],color='green',label='val_' + metric_name)\r\n",
    "\r\n",
    "\r\n",
    "plot_metrics(metric_name='loss', title=\"Loss\", ylim=0.2)"
   ],
   "outputs": [
    {
     "output_type": "display_data",
     "data": {
      "image/png": "[encoded data removed]",
      "text/plain": [
       "<Figure size 432x288 with 1 Axes>"
      ]
     },
     "metadata": {
      "needs_background": "light"
     }
    }
   ],
   "metadata": {
    "colab": {},
    "colab_type": "code",
    "id": "3obxy4EBlMyI"
   }
  },
  {
   "cell_type": "code",
   "execution_count": 14,
   "source": [
    "# Matplotlib config\r\n",
    "def visualize_images():\r\n",
    "    plt.rc('image', cmap='gray_r')\r\n",
    "    plt.rc('grid', linewidth=0)\r\n",
    "    plt.rc('xtick', top=False, bottom=False, labelsize='large')\r\n",
    "    plt.rc('ytick', left=False, right=False, labelsize='large')\r\n",
    "    plt.rc('axes', facecolor='F8F8F8', titlesize=\"large\", edgecolor='white')\r\n",
    "    plt.rc('text', color='a8151a')\r\n",
    "    plt.rc('figure', facecolor='F0F0F0')# Matplotlib fonts\r\n",
    "\r\n",
    "\r\n",
    "# utility to display a row of digits with their predictions\r\n",
    "def display_images(left, right, predictions, labels, title, n):\r\n",
    "    plt.figure(figsize=(17,3))\r\n",
    "    plt.title(title)\r\n",
    "    plt.yticks([])\r\n",
    "    plt.xticks([])\r\n",
    "    plt.grid(None)\r\n",
    "    left = np.reshape(left, [n, 28, 28])\r\n",
    "    left = np.swapaxes(left, 0, 1)\r\n",
    "    left = np.reshape(left, [28, 28*n])\r\n",
    "    plt.imshow(left)\r\n",
    "    plt.figure(figsize=(17,3))\r\n",
    "    plt.yticks([])\r\n",
    "    plt.xticks([28*x+14 for x in range(n)], predictions)\r\n",
    "    for i,t in enumerate(plt.gca().xaxis.get_ticklabels()):\r\n",
    "        if predictions[i] > 0.5: t.set_color('red') # bad predictions in red\r\n",
    "    plt.grid(None)\r\n",
    "    right = np.reshape(right, [n, 28, 28])\r\n",
    "    right = np.swapaxes(right, 0, 1)\r\n",
    "    right = np.reshape(right, [28, 28*n])\r\n",
    "    plt.imshow(right)\r\n",
    "\r\n"
   ],
   "outputs": [],
   "metadata": {
    "colab": {},
    "colab_type": "code",
    "id": "E9KLCFiClP9Q"
   }
  },
  {
   "cell_type": "markdown",
   "source": [
    "You can see sample results for 10 pairs of items below."
   ],
   "metadata": {}
  },
  {
   "cell_type": "code",
   "execution_count": 15,
   "source": [
    "y_pred_train = np.squeeze(y_pred_train)\r\n",
    "indexes = np.random.choice(len(y_pred_train), size=10)\r\n",
    "display_images(tr_pairs[:, 0][indexes], tr_pairs[:, 1][indexes], y_pred_train[indexes], tr_y[indexes], \"clothes and their dissimilarity\", 10)"
   ],
   "outputs": [
    {
     "output_type": "display_data",
     "data": {
      "image/png": "[encoded data removed]",
      "text/plain": [
       "<Figure size 1224x216 with 1 Axes>"
      ]
     },
     "metadata": {}
    },
    {
     "output_type": "display_data",
     "data": {
      "image/png": "[encoded data removed]",
      "text/plain": [
       "<Figure size 1224x216 with 1 Axes>"
      ]
     },
     "metadata": {
      "needs_background": "light"
     }
    }
   ],
   "metadata": {
    "colab": {},
    "colab_type": "code",
    "id": "VRxB-Tmemzt9"
   }
  }
 ],
 "metadata": {
  "colab": {
   "include_colab_link": true,
   "name": "siamese-network.ipynb",
   "provenance": []
  },
  "kernelspec": {
   "name": "python3",
   "display_name": "Python 3.6.13 64-bit ('tensorflow': conda)"
  },
  "language_info": {
   "codemirror_mode": {
    "name": "ipython",
    "version": 3
   },
   "file_extension": ".py",
   "mimetype": "text/x-python",
   "name": "python",
   "nbconvert_exporter": "python",
   "pygments_lexer": "ipython3",
   "version": "3.6.13"
  },
  "interpreter": {
   "hash": "9a417aca87ac67f7a1fd26255ff8c57e1923c987fb7a47bb19755c58197afd89"
  }
 },
 "nbformat": 4,
 "nbformat_minor": 4
}