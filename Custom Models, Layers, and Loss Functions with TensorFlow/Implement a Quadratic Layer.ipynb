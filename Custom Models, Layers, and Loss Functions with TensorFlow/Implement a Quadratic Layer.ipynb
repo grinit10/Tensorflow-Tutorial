{
 "cells": [
  {
   "cell_type": "markdown",
   "source": [
    "# Week 3 Assignment: Implement a Quadratic Layer"
   ],
   "metadata": {}
  },
  {
   "cell_type": "markdown",
   "source": [
    "In this week's programming exercise, you will build a custom quadratic layer which computes $y = ax^2 + bx + c$. Similar to the ungraded lab, this layer will be plugged into a model that will be trained on the MNIST dataset. Let's get started!"
   ],
   "metadata": {}
  },
  {
   "cell_type": "markdown",
   "source": [
    "### Imports"
   ],
   "metadata": {}
  },
  {
   "cell_type": "code",
   "execution_count": 1,
   "source": [
    "import tensorflow as tf\r\n",
    "from tensorflow.keras.layers import Layer\r\n",
    "\r\n",
    "import utils_quadratic_layer"
   ],
   "outputs": [],
   "metadata": {}
  },
  {
   "cell_type": "markdown",
   "source": [
    "### Define the quadratic layer (TODO)\n",
    "Implement a simple quadratic layer. It has 3 state variables: $a$, $b$ and $c$. The computation returned is $ax^2 + bx + c$. Make sure it can also accept an activation function.\n",
    "\n",
    "#### `__init__`\n",
    "- call `super(my_fun, self)` to access the base class of `my_fun`, and call the `__init__()` function to initialize that base class.  In this case, `my_fun` is `SimpleQuadratic` and its base class is `Layer`.\n",
    "- self.units: set this using one of the function parameters.\n",
    "- self.activation: The function parameter `activation` will be passed in as a string.  To get the tensorflow object associated with the string, please use `tf.keras.activations.get()` \n",
    "\n",
    "\n",
    "#### `build`\n",
    "The following are suggested steps for writing your code.  If you prefer to use fewer lines to implement it, feel free to do so.  Either way, you'll want to set `self.a`, `self.b` and `self.c`.\n",
    "\n",
    "- a_init: set this to tensorflow's `random_normal_initializer()`\n",
    "- a_init_val: Use the `random_normal_initializer()` that you just created and invoke it, setting the `shape` and `dtype`.\n",
    "    - The `shape` of `a` should have its row dimension equal to the last dimension of `input_shape`, and its column dimension equal to the number of units in the layer.  \n",
    "    - This is because you'll be matrix multiplying x^2 * a, so the dimensions should be compatible.\n",
    "    - set the dtype to 'float32'\n",
    "- self.a: create a tensor using tf.Variable, setting the initial_value and set trainable to True.\n",
    "\n",
    "- b_init, b_init_val, and self.b: these will be set in the same way that you implemented a_init, a_init_val and self.a\n",
    "- c_init: set this to `tf.zeros_initializer`.\n",
    "- c_init_val: Set this by calling the tf.zeros_initializer that you just instantiated, and set the `shape` and `dtype`\n",
    "  - shape: This will be a vector equal to the number of units.  This expects a tuple, and remember that a tuple `(9,)` includes a comma.\n",
    "  - dtype: set to 'float32'.\n",
    "- self.c: create a tensor using tf.Variable, and set the parameters `initial_value` and `trainable`.\n",
    "\n",
    "#### `call`\n",
    "The following section performs the multiplication x^2*a + x*b + c.  The steps are broken down for clarity, but you can also perform this calculation in fewer lines if you prefer.\n",
    "- x_squared: use tf.math.square()\n",
    "- x_squared_times_a: use tf.matmul().  \n",
    "  - If you see an error saying `InvalidArgumentError: Matrix size-incompatible`, please check the order of the matrix multiplication to make sure that the matrix dimensions line up.\n",
    "- x_times_b: use tf.matmul().\n",
    "- x2a_plus_xb_plus_c: add the three terms together.\n",
    "- activated_x2a_plus_xb_plus_c: apply the class's `activation` to the sum of the three terms.\n"
   ],
   "metadata": {}
  },
  {
   "cell_type": "code",
   "execution_count": 2,
   "source": [
    "## Please uncomment all lines in this cell and replace those marked with `# YOUR CODE HERE`.\r\n",
    "## You can select all lines in this code cell with Ctrl+A (Windows/Linux) or Cmd+A (Mac), then press Ctrl+/ (Windows/Linux) or Cmd+/ (Mac) to uncomment.\r\n",
    "\r\n",
    "\r\n",
    "\r\n",
    "class SimpleQuadratic(Layer):\r\n",
    "\r\n",
    "    def __init__(self, units=32, activation=None):\r\n",
    "        '''Initializes the class and sets up the internal variables'''\r\n",
    "        # YOUR CODE HERE\r\n",
    "        super(SimpleQuadratic, self).__init__()\r\n",
    "        self.units = units\r\n",
    "        self.activation = tf.keras.activations.get(activation)\r\n",
    "    \r\n",
    "    def build(self, input_shape):\r\n",
    "        '''Create the state of the layer (weights)'''\r\n",
    "        # a and b should be initialized with random normal, c (or the bias) with zeros.\r\n",
    "        # remember to set these as trainable.\r\n",
    "        # YOUR CODE HERE\r\n",
    "        a_init = tf.random_normal_initializer()\r\n",
    "        b_init = tf.random_normal_initializer()\r\n",
    "        c_init = tf.zeros_initializer()\r\n",
    "        \r\n",
    "        self.a = tf.Variable(name = \"kernel\", initial_value = a_init(shape= (input_shape[-1], self.units), \r\n",
    "                                                                    dtype= \"float32\"), trainable = True)\r\n",
    "        \r\n",
    "        self.b = tf.Variable(name = \"kernel\", initial_value = b_init(shape= (input_shape[-1], self.units), \r\n",
    "                                                                    dtype= \"float32\"), trainable = True)\r\n",
    "        \r\n",
    "        self.c = tf.Variable(name = \"bias\", initial_value = c_init(shape= (self.units,), \r\n",
    "                                                                    dtype= \"float32\"), trainable = True)\r\n",
    "   \r\n",
    "    def call(self, inputs):\r\n",
    "        '''Defines the computation from inputs to outputs'''\r\n",
    "        # YOUR CODE HERE\r\n",
    "        result = tf.matmul(tf.math.square(inputs), self.a) + tf.matmul(inputs, self.b) + self.c\r\n",
    "        return self.activation(result)"
   ],
   "outputs": [],
   "metadata": {
    "colab": {},
    "colab_type": "code",
    "deletable": false,
    "id": "Ga20PttZFXm4",
    "nbgrader": {
     "cell_type": "code",
     "checksum": "687a4c4733c3c581631c2b476104b829",
     "grade": false,
     "grade_id": "cell-c302ddc177c098f8",
     "locked": false,
     "schema_version": 3,
     "solution": true,
     "task": false
    }
   }
  },
  {
   "cell_type": "markdown",
   "source": [
    "Test your implementation"
   ],
   "metadata": {}
  },
  {
   "cell_type": "code",
   "execution_count": 3,
   "source": [
    "utils_quadratic_layer.test_simple_quadratic(SimpleQuadratic)\r\n"
   ],
   "outputs": [
    {
     "output_type": "stream",
     "name": "stdout",
     "text": [
      "\u001b[92m All public tests passed\n"
     ]
    }
   ],
   "metadata": {
    "deletable": false,
    "editable": false,
    "nbgrader": {
     "cell_type": "code",
     "checksum": "0965bec4878a263cf06b286cd0fe3b2a",
     "grade": true,
     "grade_id": "cell-c3ebc4cccbb7f454",
     "locked": true,
     "points": 1,
     "schema_version": 3,
     "solution": false,
     "task": false
    }
   }
  },
  {
   "cell_type": "markdown",
   "source": [
    "Train your model with the `SimpleQuadratic` layer that you just implemented."
   ],
   "metadata": {}
  },
  {
   "cell_type": "code",
   "execution_count": 4,
   "source": [
    "# THIS CODE SHOULD RUN WITHOUT MODIFICATION\r\n",
    "# AND SHOULD RETURN TRAINING/TESTING ACCURACY at 97%+\r\n",
    "\r\n",
    "mnist = tf.keras.datasets.mnist\r\n",
    "\r\n",
    "(x_train, y_train),(x_test, y_test) = mnist.load_data()\r\n",
    "x_train, x_test = x_train / 255.0, x_test / 255.0\r\n",
    "\r\n",
    "model = tf.keras.models.Sequential([\r\n",
    "  tf.keras.layers.Flatten(input_shape=(28, 28)),\r\n",
    "  SimpleQuadratic(128, activation='relu'),\r\n",
    "  tf.keras.layers.Dropout(0.2),\r\n",
    "  tf.keras.layers.Dense(10, activation='softmax')\r\n",
    "])\r\n",
    "\r\n",
    "model.compile(optimizer='adam',\r\n",
    "              loss='sparse_categorical_crossentropy',\r\n",
    "              metrics=['accuracy'])\r\n",
    "\r\n",
    "model.fit(x_train, y_train, epochs=5)\r\n",
    "model.evaluate(x_test, y_test)"
   ],
   "outputs": [
    {
     "output_type": "stream",
     "name": "stdout",
     "text": [
      "Epoch 1/5\n",
      "1875/1875 [==============================] - 3s 2ms/step - loss: 0.2698 - accuracy: 0.9202\n",
      "Epoch 2/5\n",
      "1875/1875 [==============================] - 3s 1ms/step - loss: 0.1321 - accuracy: 0.9606\n",
      "Epoch 3/5\n",
      "1875/1875 [==============================] - 3s 2ms/step - loss: 0.1004 - accuracy: 0.9692\n",
      "Epoch 4/5\n",
      "1875/1875 [==============================] - 3s 1ms/step - loss: 0.0823 - accuracy: 0.9736\n",
      "Epoch 5/5\n",
      "1875/1875 [==============================] - 3s 2ms/step - loss: 0.0711 - accuracy: 0.9770\n",
      "313/313 [==============================] - 0s 1ms/step - loss: 0.0733 - accuracy: 0.9773\n"
     ]
    },
    {
     "output_type": "execute_result",
     "data": {
      "text/plain": [
       "[0.0733022689819336, 0.9772999882698059]"
      ]
     },
     "metadata": {},
     "execution_count": 4
    }
   ],
   "metadata": {
    "colab": {},
    "colab_type": "code",
    "id": "14tl1CluExjJ"
   }
  }
 ],
 "metadata": {
  "colab": {
   "authorship_tag": "ABX9TyMTFXTWT0EUVuqg6u/LBbJK",
   "collapsed_sections": [],
   "include_colab_link": true,
   "name": "QuadraticLayer_Answer.ipynb",
   "provenance": []
  },
  "kernelspec": {
   "name": "python3",
   "display_name": "Python 3.6.13 64-bit ('tensorflow': conda)"
  },
  "language_info": {
   "codemirror_mode": {
    "name": "ipython",
    "version": 3
   },
   "file_extension": ".py",
   "mimetype": "text/x-python",
   "name": "python",
   "nbconvert_exporter": "python",
   "pygments_lexer": "ipython3",
   "version": "3.6.13"
  },
  "interpreter": {
   "hash": "9a417aca87ac67f7a1fd26255ff8c57e1923c987fb7a47bb19755c58197afd89"
  }
 },
 "nbformat": 4,
 "nbformat_minor": 4
}