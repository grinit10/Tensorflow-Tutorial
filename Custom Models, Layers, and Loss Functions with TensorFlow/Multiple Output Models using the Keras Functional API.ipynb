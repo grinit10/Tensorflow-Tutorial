{
 "cells": [
  {
   "cell_type": "markdown",
   "source": [
    "\n",
    "\n",
    "# Week 1: Multiple Output Models using the Keras Functional API\n",
    "\n",
    "Welcome to the first programming assignment of the course! Your task will be to use the Keras functional API to train a model to predict two outputs. For this lab, you will use the **[Wine Quality Dataset](https://archive.ics.uci.edu/ml/datasets/Wine+Quality)** from the **UCI machine learning repository**. It has separate datasets for red wine and white wine.\n",
    "\n",
    "Normally, the wines are classified into one of the quality ratings specified in the attributes. In this exercise, you will combine the two datasets to predict the wine quality and whether the wine is red or white solely from the attributes. \n",
    "\n",
    "You will model wine quality estimations as a regression problem and wine type detection as a binary classification problem.\n",
    "\n",
    "#### Please complete sections that are marked **(TODO)**"
   ],
   "metadata": {
    "colab_type": "text",
    "id": "ZL_6GK8qX35J"
   }
  },
  {
   "cell_type": "markdown",
   "source": [
    "## Imports"
   ],
   "metadata": {
    "colab_type": "text",
    "id": "obdcD6urYBY9"
   }
  },
  {
   "cell_type": "code",
   "execution_count": 1,
   "source": [
    "import tensorflow as tf\r\n",
    "from tensorflow.keras import Model\r\n",
    "from tensorflow.keras.layers import Dense, Input\r\n",
    "\r\n",
    "import numpy as np\r\n",
    "import matplotlib.pyplot as plt\r\n",
    "import pandas as pd\r\n",
    "from sklearn.model_selection import train_test_split\r\n",
    "from sklearn.metrics import confusion_matrix\r\n",
    "import itertools\r\n",
    "\r\n",
    "import utils_wine_quality"
   ],
   "outputs": [],
   "metadata": {
    "colab": {},
    "colab_type": "code",
    "id": "t8N3pcTQ5oQI"
   }
  },
  {
   "cell_type": "markdown",
   "source": [
    "## Load Dataset\n",
    "\n",
    "\n",
    "You will now load the dataset from the [UCI Machine Learning Repository](https://archive.ics.uci.edu/ml/index.php) which are already saved in your workspace.\n",
    "\n",
    "### Pre-process the white wine dataset (TODO)\n",
    "You will add a new column named `is_red` in your dataframe to indicate if the wine is white or red. \n",
    "- In the white wine dataset, you will fill the column `is_red` with  zeros (0)."
   ],
   "metadata": {
    "colab_type": "text",
    "id": "gQMERzWQYpgm"
   }
  },
  {
   "cell_type": "code",
   "execution_count": 2,
   "source": [
    "## Please uncomment all lines in this cell and replace those marked with `# YOUR CODE HERE`.\r\n",
    "## You can select all lines in this code cell with Ctrl+A (Windows/Linux) or Cmd+A (Mac), then press Ctrl+/ (Windows/Linux) or Cmd+/ (Mac) to uncomment.\r\n",
    "\r\n",
    "\r\n",
    "\r\n",
    "# # URL of the white wine dataset\r\n",
    "URI = './winequality-white.csv'\r\n",
    "\r\n",
    "# # load the dataset from the URL\r\n",
    "white_df = pd.read_csv(URI, sep=\";\")\r\n",
    "\r\n",
    "# # fill the `is_red` column with zeros.\r\n",
    "white_df[\"is_red\"] = 0\r\n",
    "\r\n",
    "# # keep only the first of duplicate items\r\n",
    "white_df = white_df.drop_duplicates(keep='first')\r\n"
   ],
   "outputs": [],
   "metadata": {
    "colab": {},
    "colab_type": "code",
    "deletable": false,
    "id": "2qYAjKXCd4RH",
    "nbgrader": {
     "cell_type": "code",
     "checksum": "325ea195519b7035934c95bb529a062c",
     "grade": false,
     "grade_id": "cell-e5bfa0f152d9a21f",
     "locked": false,
     "schema_version": 3,
     "solution": true,
     "task": false
    }
   }
  },
  {
   "cell_type": "code",
   "execution_count": 3,
   "source": [
    "# You can click `File -> Open` in the menu above and open the `utils_wine_quality.py` file \r\n",
    "# in case you want to inspect the unit tests being used for each graded function.\r\n",
    "\r\n",
    "utils_wine_quality.test_white_df(white_df)\r\n"
   ],
   "outputs": [
    {
     "output_type": "stream",
     "name": "stdout",
     "text": [
      "\u001b[92m All public tests passed\n"
     ]
    }
   ],
   "metadata": {
    "deletable": false,
    "editable": false,
    "nbgrader": {
     "cell_type": "code",
     "checksum": "defe38d6ec58fd31cd67b89e46c4373f",
     "grade": true,
     "grade_id": "cell-30575e713b55fc51",
     "locked": true,
     "points": 1,
     "schema_version": 3,
     "solution": false,
     "task": false
    }
   }
  },
  {
   "cell_type": "code",
   "execution_count": 4,
   "source": [
    "print(white_df.alcohol[0])\r\n",
    "print(white_df.alcohol[100])\r\n",
    "\r\n",
    "# EXPECTED OUTPUT\r\n",
    "# 8.8\r\n",
    "# 9.1"
   ],
   "outputs": [
    {
     "output_type": "stream",
     "name": "stdout",
     "text": [
      "8.8\n",
      "9.1\n"
     ]
    }
   ],
   "metadata": {
    "colab": {},
    "colab_type": "code",
    "id": "OQHK0ohBQRCk"
   }
  },
  {
   "cell_type": "markdown",
   "source": [
    "### Pre-process the red wine dataset (TODO)\n",
    "- In the red wine dataset, you will fill in the column `is_red` with ones (1)."
   ],
   "metadata": {}
  },
  {
   "cell_type": "code",
   "execution_count": 5,
   "source": [
    "## Please uncomment all lines in this cell and replace those marked with `# YOUR CODE HERE`.\r\n",
    "## You can select all lines in this code cell with Ctrl+A (Windows/Linux) or Cmd+A (Mac), then press Ctrl+/ (Windows/Linux) or Cmd+/ (Mac) to uncomment.\r\n",
    "\r\n",
    "\r\n",
    "\r\n",
    "# # URL of the red wine dataset\r\n",
    "URI = './winequality-red.csv'\r\n",
    "\r\n",
    "# # load the dataset from the URL\r\n",
    "red_df = pd.read_csv(URI, sep=\";\")\r\n",
    "\r\n",
    "# # fill the `is_red` column with ones.\r\n",
    "red_df[\"is_red\"] = 1\r\n",
    "\r\n",
    "# # keep only the first of duplicate items\r\n",
    "red_df = red_df.drop_duplicates(keep='first')\r\n"
   ],
   "outputs": [],
   "metadata": {
    "colab": {},
    "colab_type": "code",
    "deletable": false,
    "id": "8y3QxKwBed8v",
    "nbgrader": {
     "cell_type": "code",
     "checksum": "12e0963d15be33b01b4e6ebc8945e51e",
     "grade": false,
     "grade_id": "cell-e47a40f306593274",
     "locked": false,
     "schema_version": 3,
     "solution": true,
     "task": false
    }
   }
  },
  {
   "cell_type": "code",
   "execution_count": 6,
   "source": [
    "utils_wine_quality.test_red_df(red_df)\r\n"
   ],
   "outputs": [
    {
     "output_type": "stream",
     "name": "stdout",
     "text": [
      "\u001b[92m All public tests passed\n"
     ]
    }
   ],
   "metadata": {
    "deletable": false,
    "editable": false,
    "nbgrader": {
     "cell_type": "code",
     "checksum": "d8e0c91b0fd668b63ba74a8f2f958b59",
     "grade": true,
     "grade_id": "cell-2a75937adcc0c25b",
     "locked": true,
     "points": 1,
     "schema_version": 3,
     "solution": false,
     "task": false
    }
   }
  },
  {
   "cell_type": "code",
   "execution_count": 7,
   "source": [
    "print(red_df.alcohol[0])\r\n",
    "print(red_df.alcohol[100])\r\n",
    "\r\n",
    "# EXPECTED OUTPUT\r\n",
    "# 9.4\r\n",
    "# 10.2"
   ],
   "outputs": [
    {
     "output_type": "stream",
     "name": "stdout",
     "text": [
      "9.4\n",
      "10.2\n"
     ]
    }
   ],
   "metadata": {
    "colab": {},
    "colab_type": "code",
    "id": "zsB3LUzNQpo_"
   }
  },
  {
   "cell_type": "markdown",
   "source": [
    "### Concatenate the datasets\n",
    "\n",
    "Next, concatenate the red and white wine dataframes."
   ],
   "metadata": {
    "colab_type": "text",
    "id": "2G8B-NYuM6-f"
   }
  },
  {
   "cell_type": "code",
   "execution_count": 8,
   "source": [
    "df = pd.concat([red_df, white_df], ignore_index=True)"
   ],
   "outputs": [],
   "metadata": {
    "colab": {},
    "colab_type": "code",
    "id": "YpQrOjJbfN3m"
   }
  },
  {
   "cell_type": "code",
   "execution_count": 9,
   "source": [
    "print(df.alcohol[0])\r\n",
    "print(df.alcohol[100])\r\n",
    "\r\n",
    "# EXPECTED OUTPUT\r\n",
    "# 9.4\r\n",
    "# 9.5"
   ],
   "outputs": [
    {
     "output_type": "stream",
     "name": "stdout",
     "text": [
      "9.4\n",
      "9.5\n"
     ]
    }
   ],
   "metadata": {
    "colab": {},
    "colab_type": "code",
    "id": "Se2dTmThQyjb"
   }
  },
  {
   "cell_type": "markdown",
   "source": [
    "In a real-world scenario, you should shuffle the data. For this assignment however, **you are not** going to do that because the grader needs to test with deterministic data. If you want the code to do it **after** you've gotten your grade for this notebook, we left the commented line below for reference"
   ],
   "metadata": {}
  },
  {
   "cell_type": "code",
   "execution_count": 10,
   "source": [
    "#df = df.iloc[np.random.permutation(len(df))]"
   ],
   "outputs": [],
   "metadata": {
    "colab": {},
    "colab_type": "code",
    "id": "wx6y3rPpQv4k"
   }
  },
  {
   "cell_type": "markdown",
   "source": [
    "This will chart the quality of the wines."
   ],
   "metadata": {
    "colab_type": "text",
    "id": "-EqIcbg5M_n1"
   }
  },
  {
   "cell_type": "code",
   "execution_count": 11,
   "source": [
    "df['quality'].hist(bins=20);"
   ],
   "outputs": [
    {
     "output_type": "display_data",
     "data": {
      "image/png": "[encoded data removed]",
      "text/plain": [
       "<Figure size 432x288 with 1 Axes>"
      ]
     },
     "metadata": {
      "needs_background": "light"
     }
    }
   ],
   "metadata": {
    "colab": {},
    "colab_type": "code",
    "id": "IsvK0-Sgy17C"
   }
  },
  {
   "cell_type": "markdown",
   "source": [
    "### Imbalanced data (TODO)\n",
    "You can see from the plot above that the wine quality dataset is imbalanced. \n",
    "- Since there are very few observations with quality equal to 3, 4, 8 and 9, you can drop these observations from your dataset. \n",
    "- You can do this by removing data belonging to all classes except those > 4 and < 8."
   ],
   "metadata": {
    "colab_type": "text",
    "id": "Nut1rmYLzf-p"
   }
  },
  {
   "cell_type": "code",
   "execution_count": 12,
   "source": [
    "## Please uncomment all lines in this cell and replace those marked with `# YOUR CODE HERE`.\r\n",
    "## You can select all lines in this code cell with Ctrl+A (Windows/Linux) or Cmd+A (Mac), then press Ctrl+/ (Windows/Linux) or Cmd+/ (Mac) to uncomment.\r\n",
    "\r\n",
    "\r\n",
    "\r\n",
    "# # get data with wine quality greater than 4 and less than 8\r\n",
    "df = df[(df['quality'] > 4) & (df['quality'] < 8 )]\r\n",
    "\r\n",
    "# # reset index and drop the old one\r\n",
    "df = df.reset_index(drop=True)"
   ],
   "outputs": [],
   "metadata": {
    "colab": {},
    "colab_type": "code",
    "deletable": false,
    "id": "doH9_-gnf3sz",
    "nbgrader": {
     "cell_type": "code",
     "checksum": "d9ba9fc3a3ca02ccc567be33652b80fe",
     "grade": false,
     "grade_id": "cell-6a3e9db696f6827b",
     "locked": false,
     "schema_version": 3,
     "solution": true,
     "task": false
    }
   }
  },
  {
   "cell_type": "code",
   "execution_count": 13,
   "source": [
    "utils_wine_quality.test_df_drop(df)\r\n",
    "\r\n"
   ],
   "outputs": [
    {
     "output_type": "stream",
     "name": "stdout",
     "text": [
      "\u001b[92m All public tests passed\n"
     ]
    }
   ],
   "metadata": {
    "deletable": false,
    "editable": false,
    "nbgrader": {
     "cell_type": "code",
     "checksum": "281e1d86a4803560ed5892cd7eda4c01",
     "grade": true,
     "grade_id": "cell-aed3da719d4682c7",
     "locked": true,
     "points": 1,
     "schema_version": 3,
     "solution": false,
     "task": false
    }
   }
  },
  {
   "cell_type": "code",
   "execution_count": 14,
   "source": [
    "print(df.alcohol[0])\r\n",
    "print(df.alcohol[100])\r\n",
    "\r\n",
    "# EXPECTED OUTPUT\r\n",
    "# 9.4\r\n",
    "# 10.9"
   ],
   "outputs": [
    {
     "output_type": "stream",
     "name": "stdout",
     "text": [
      "9.4\n",
      "10.9\n"
     ]
    }
   ],
   "metadata": {
    "colab": {},
    "colab_type": "code",
    "id": "xNR1iAlMRPXO"
   }
  },
  {
   "cell_type": "markdown",
   "source": [
    "You can plot again to see the new range of data and quality"
   ],
   "metadata": {
    "colab_type": "text",
    "id": "cwhuRpnVRTzG"
   }
  },
  {
   "cell_type": "code",
   "execution_count": 15,
   "source": [
    "df['quality'].hist(bins=20);"
   ],
   "outputs": [
    {
     "output_type": "display_data",
     "data": {
      "image/png": "[encoded data removed]",
      "text/plain": [
       "<Figure size 432x288 with 1 Axes>"
      ]
     },
     "metadata": {
      "needs_background": "light"
     }
    }
   ],
   "metadata": {
    "colab": {},
    "colab_type": "code",
    "id": "857ygzZiLgGg"
   }
  },
  {
   "cell_type": "markdown",
   "source": [
    "### Train Test Split (TODO)\n",
    "\n",
    "Next, you can split the datasets into training, test and validation datasets.\n",
    "- The data frame should be split 80:20 into `train` and `test` sets.\n",
    "- The resulting `train` should then be split 80:20 into `train` and `val` sets.\n",
    "- The `train_test_split` parameter `test_size` takes a float value that ranges between 0. and 1, and represents the proportion of the dataset that is allocated to the test set.  The rest of the data is allocated to the training set."
   ],
   "metadata": {
    "colab_type": "text",
    "id": "n3k0vqSsp84t"
   }
  },
  {
   "cell_type": "code",
   "execution_count": 16,
   "source": [
    "## Please uncomment all lines in this cell and replace those marked with `# YOUR CODE HERE`.\r\n",
    "## You can select all lines in this code cell with Ctrl+A (Windows/Linux) or Cmd+A (Mac), then press Ctrl+/ (Windows/Linux) or Cmd+/ (Mac) to uncomment.\r\n",
    "\r\n",
    "\r\n",
    "\r\n",
    "## Please do not change the random_state parameter. This is needed for grading.\r\n",
    "\r\n",
    "# # split df into 80:20 train and test sets\r\n",
    "train, test = train_test_split(df, test_size=0.2, random_state = 1)\r\n",
    "                               \r\n",
    "# # split train into 80:20 train and val sets\r\n",
    "train, val = train_test_split(train, test_size=0.2, random_state = 1)"
   ],
   "outputs": [],
   "metadata": {
    "colab": {},
    "colab_type": "code",
    "deletable": false,
    "id": "PAVIf2-fgRVY",
    "nbgrader": {
     "cell_type": "code",
     "checksum": "7f5738f4fb51d65adc9a8acbdf2b9970",
     "grade": false,
     "grade_id": "cell-91946cadf745206b",
     "locked": false,
     "schema_version": 3,
     "solution": true,
     "task": false
    }
   }
  },
  {
   "cell_type": "code",
   "execution_count": 17,
   "source": [
    "utils_wine_quality.test_data_sizes(train.size, test.size, val.size)\r\n",
    "\r\n"
   ],
   "outputs": [
    {
     "output_type": "stream",
     "name": "stdout",
     "text": [
      "\u001b[92m All public tests passed\n"
     ]
    }
   ],
   "metadata": {
    "colab": {},
    "colab_type": "code",
    "deletable": false,
    "editable": false,
    "id": "57h9LcEzRWpk",
    "nbgrader": {
     "cell_type": "code",
     "checksum": "42adbe9e66efac7c7a5f8cd73ac92f22",
     "grade": true,
     "grade_id": "cell-64b8b38cd0b965f6",
     "locked": true,
     "points": 1,
     "schema_version": 3,
     "solution": false,
     "task": false
    }
   }
  },
  {
   "cell_type": "markdown",
   "source": [
    "Here's where you can explore the training stats. You can pop the labels 'is_red' and 'quality' from the data as these will be used as the labels\n"
   ],
   "metadata": {
    "colab_type": "text",
    "id": "RwTNu4KFqG-K"
   }
  },
  {
   "cell_type": "code",
   "execution_count": 18,
   "source": [
    "train_stats = train.describe()\r\n",
    "train_stats.pop('is_red')\r\n",
    "train_stats.pop('quality')\r\n",
    "train_stats = train_stats.transpose()"
   ],
   "outputs": [],
   "metadata": {
    "colab": {},
    "colab_type": "code",
    "id": "Y_afyhhHM6WQ"
   }
  },
  {
   "cell_type": "markdown",
   "source": [
    "Explore the training stats!"
   ],
   "metadata": {
    "colab_type": "text",
    "id": "ahvbYm4fNqSt"
   }
  },
  {
   "cell_type": "code",
   "execution_count": 19,
   "source": [
    "train_stats"
   ],
   "outputs": [
    {
     "output_type": "execute_result",
     "data": {
      "text/html": [
       "<div>\n",
       "<style scoped>\n",
       "    .dataframe tbody tr th:only-of-type {\n",
       "        vertical-align: middle;\n",
       "    }\n",
       "\n",
       "    .dataframe tbody tr th {\n",
       "        vertical-align: top;\n",
       "    }\n",
       "\n",
       "    .dataframe thead th {\n",
       "        text-align: right;\n",
       "    }\n",
       "</style>\n",
       "<table border=\"1\" class=\"dataframe\">\n",
       "  <thead>\n",
       "    <tr style=\"text-align: right;\">\n",
       "      <th></th>\n",
       "      <th>count</th>\n",
       "      <th>mean</th>\n",
       "      <th>std</th>\n",
       "      <th>min</th>\n",
       "      <th>25%</th>\n",
       "      <th>50%</th>\n",
       "      <th>75%</th>\n",
       "      <th>max</th>\n",
       "    </tr>\n",
       "  </thead>\n",
       "  <tbody>\n",
       "    <tr>\n",
       "      <th>fixed acidity</th>\n",
       "      <td>3155.0</td>\n",
       "      <td>7.221616</td>\n",
       "      <td>1.325297</td>\n",
       "      <td>3.80000</td>\n",
       "      <td>6.40000</td>\n",
       "      <td>7.00000</td>\n",
       "      <td>7.7000</td>\n",
       "      <td>15.60000</td>\n",
       "    </tr>\n",
       "    <tr>\n",
       "      <th>volatile acidity</th>\n",
       "      <td>3155.0</td>\n",
       "      <td>0.338929</td>\n",
       "      <td>0.162476</td>\n",
       "      <td>0.08000</td>\n",
       "      <td>0.23000</td>\n",
       "      <td>0.29000</td>\n",
       "      <td>0.4000</td>\n",
       "      <td>1.24000</td>\n",
       "    </tr>\n",
       "    <tr>\n",
       "      <th>citric acid</th>\n",
       "      <td>3155.0</td>\n",
       "      <td>0.321569</td>\n",
       "      <td>0.147970</td>\n",
       "      <td>0.00000</td>\n",
       "      <td>0.25000</td>\n",
       "      <td>0.31000</td>\n",
       "      <td>0.4000</td>\n",
       "      <td>1.66000</td>\n",
       "    </tr>\n",
       "    <tr>\n",
       "      <th>residual sugar</th>\n",
       "      <td>3155.0</td>\n",
       "      <td>5.155911</td>\n",
       "      <td>4.639632</td>\n",
       "      <td>0.60000</td>\n",
       "      <td>1.80000</td>\n",
       "      <td>2.80000</td>\n",
       "      <td>7.6500</td>\n",
       "      <td>65.80000</td>\n",
       "    </tr>\n",
       "    <tr>\n",
       "      <th>chlorides</th>\n",
       "      <td>3155.0</td>\n",
       "      <td>0.056976</td>\n",
       "      <td>0.036802</td>\n",
       "      <td>0.01200</td>\n",
       "      <td>0.03800</td>\n",
       "      <td>0.04700</td>\n",
       "      <td>0.0660</td>\n",
       "      <td>0.61100</td>\n",
       "    </tr>\n",
       "    <tr>\n",
       "      <th>free sulfur dioxide</th>\n",
       "      <td>3155.0</td>\n",
       "      <td>30.388590</td>\n",
       "      <td>17.236784</td>\n",
       "      <td>1.00000</td>\n",
       "      <td>17.00000</td>\n",
       "      <td>28.00000</td>\n",
       "      <td>41.0000</td>\n",
       "      <td>131.00000</td>\n",
       "    </tr>\n",
       "    <tr>\n",
       "      <th>total sulfur dioxide</th>\n",
       "      <td>3155.0</td>\n",
       "      <td>115.062282</td>\n",
       "      <td>56.706617</td>\n",
       "      <td>6.00000</td>\n",
       "      <td>75.00000</td>\n",
       "      <td>117.00000</td>\n",
       "      <td>156.0000</td>\n",
       "      <td>344.00000</td>\n",
       "    </tr>\n",
       "    <tr>\n",
       "      <th>density</th>\n",
       "      <td>3155.0</td>\n",
       "      <td>0.994633</td>\n",
       "      <td>0.003005</td>\n",
       "      <td>0.98711</td>\n",
       "      <td>0.99232</td>\n",
       "      <td>0.99481</td>\n",
       "      <td>0.9968</td>\n",
       "      <td>1.03898</td>\n",
       "    </tr>\n",
       "    <tr>\n",
       "      <th>pH</th>\n",
       "      <td>3155.0</td>\n",
       "      <td>3.223201</td>\n",
       "      <td>0.161272</td>\n",
       "      <td>2.72000</td>\n",
       "      <td>3.11000</td>\n",
       "      <td>3.21000</td>\n",
       "      <td>3.3300</td>\n",
       "      <td>4.01000</td>\n",
       "    </tr>\n",
       "    <tr>\n",
       "      <th>sulphates</th>\n",
       "      <td>3155.0</td>\n",
       "      <td>0.534051</td>\n",
       "      <td>0.149149</td>\n",
       "      <td>0.22000</td>\n",
       "      <td>0.43000</td>\n",
       "      <td>0.51000</td>\n",
       "      <td>0.6000</td>\n",
       "      <td>1.95000</td>\n",
       "    </tr>\n",
       "    <tr>\n",
       "      <th>alcohol</th>\n",
       "      <td>3155.0</td>\n",
       "      <td>10.504466</td>\n",
       "      <td>1.154654</td>\n",
       "      <td>8.50000</td>\n",
       "      <td>9.50000</td>\n",
       "      <td>10.30000</td>\n",
       "      <td>11.3000</td>\n",
       "      <td>14.00000</td>\n",
       "    </tr>\n",
       "  </tbody>\n",
       "</table>\n",
       "</div>"
      ],
      "text/plain": [
       "                       count        mean        std      min       25%  \\\n",
       "fixed acidity         3155.0    7.221616   1.325297  3.80000   6.40000   \n",
       "volatile acidity      3155.0    0.338929   0.162476  0.08000   0.23000   \n",
       "citric acid           3155.0    0.321569   0.147970  0.00000   0.25000   \n",
       "residual sugar        3155.0    5.155911   4.639632  0.60000   1.80000   \n",
       "chlorides             3155.0    0.056976   0.036802  0.01200   0.03800   \n",
       "free sulfur dioxide   3155.0   30.388590  17.236784  1.00000  17.00000   \n",
       "total sulfur dioxide  3155.0  115.062282  56.706617  6.00000  75.00000   \n",
       "density               3155.0    0.994633   0.003005  0.98711   0.99232   \n",
       "pH                    3155.0    3.223201   0.161272  2.72000   3.11000   \n",
       "sulphates             3155.0    0.534051   0.149149  0.22000   0.43000   \n",
       "alcohol               3155.0   10.504466   1.154654  8.50000   9.50000   \n",
       "\n",
       "                            50%       75%        max  \n",
       "fixed acidity           7.00000    7.7000   15.60000  \n",
       "volatile acidity        0.29000    0.4000    1.24000  \n",
       "citric acid             0.31000    0.4000    1.66000  \n",
       "residual sugar          2.80000    7.6500   65.80000  \n",
       "chlorides               0.04700    0.0660    0.61100  \n",
       "free sulfur dioxide    28.00000   41.0000  131.00000  \n",
       "total sulfur dioxide  117.00000  156.0000  344.00000  \n",
       "density                 0.99481    0.9968    1.03898  \n",
       "pH                      3.21000    3.3300    4.01000  \n",
       "sulphates               0.51000    0.6000    1.95000  \n",
       "alcohol                10.30000   11.3000   14.00000  "
      ]
     },
     "metadata": {},
     "execution_count": 19
    }
   ],
   "metadata": {
    "colab": {},
    "colab_type": "code",
    "id": "n_gAtPjZ0otF"
   }
  },
  {
   "cell_type": "markdown",
   "source": [
    "### Get the labels (TODO)\n",
    "\n",
    "The features and labels are currently in the same dataframe.\n",
    "- You will want to store the label columns `is_red` and `quality` separately from the feature columns.  \n",
    "- The following function, `format_output`, gets these two columns from the dataframe (it's given to you).\n",
    "- `format_output` also formats the data into numpy arrays. \n",
    "- Please use the `format_output` and apply it to the `train`, `val` and `test` sets to get dataframes for the labels."
   ],
   "metadata": {
    "colab_type": "text",
    "id": "bGPvt9jir_HC"
   }
  },
  {
   "cell_type": "code",
   "execution_count": 20,
   "source": [
    "def format_output(data):\r\n",
    "    is_red = data.pop('is_red')\r\n",
    "    is_red = np.array(is_red)\r\n",
    "    quality = data.pop('quality')\r\n",
    "    quality = np.array(quality)\r\n",
    "    return (quality, is_red)"
   ],
   "outputs": [],
   "metadata": {
    "colab": {},
    "colab_type": "code",
    "id": "Z_fs14XQqZVP"
   }
  },
  {
   "cell_type": "code",
   "execution_count": 21,
   "source": [
    "## Please uncomment all lines in this cell and replace those marked with `# YOUR CODE HERE`.\r\n",
    "## You can select all lines in this code cell with Ctrl+A (Windows/Linux) or Cmd+A (Mac), then press Ctrl+/ (Windows/Linux) or Cmd+/ (Mac) to uncomment.\r\n",
    "\r\n",
    "\r\n",
    "\r\n",
    "# # format the output of the train set\r\n",
    "train_Y = format_output(train)\r\n",
    "\r\n",
    "# # format the output of the val set\r\n",
    "val_Y = format_output(val)\r\n",
    "    \r\n",
    "# # format the output of the test set\r\n",
    "test_Y = format_output(test)"
   ],
   "outputs": [],
   "metadata": {
    "colab": {},
    "colab_type": "code",
    "deletable": false,
    "id": "8L3ZZe1fQicm",
    "nbgrader": {
     "cell_type": "code",
     "checksum": "7a86809e54895a816434c48dc903f55d",
     "grade": false,
     "grade_id": "cell-5c30fa2c2a354b0f",
     "locked": false,
     "schema_version": 3,
     "solution": true,
     "task": false
    }
   }
  },
  {
   "cell_type": "code",
   "execution_count": 22,
   "source": [
    "utils_wine_quality.test_format_output(df, train_Y, val_Y, test_Y)"
   ],
   "outputs": [
    {
     "output_type": "stream",
     "name": "stdout",
     "text": [
      "\u001b[92m All public tests passed\n"
     ]
    }
   ],
   "metadata": {
    "deletable": false,
    "editable": false,
    "nbgrader": {
     "cell_type": "code",
     "checksum": "359cabbafaed14ec9bbc1e57a7b6f32c",
     "grade": true,
     "grade_id": "cell-4977d8befb80f56b",
     "locked": true,
     "points": 1,
     "schema_version": 3,
     "solution": false,
     "task": false
    }
   }
  },
  {
   "cell_type": "markdown",
   "source": [
    "Notice that after you get the labels, the `train`, `val` and `test` dataframes no longer contain the label columns, and contain just the feature columns.\n",
    "- This is because you used `.pop` in the `format_output` function."
   ],
   "metadata": {}
  },
  {
   "cell_type": "code",
   "execution_count": 23,
   "source": [
    "train.head()"
   ],
   "outputs": [
    {
     "output_type": "execute_result",
     "data": {
      "text/html": [
       "<div>\n",
       "<style scoped>\n",
       "    .dataframe tbody tr th:only-of-type {\n",
       "        vertical-align: middle;\n",
       "    }\n",
       "\n",
       "    .dataframe tbody tr th {\n",
       "        vertical-align: top;\n",
       "    }\n",
       "\n",
       "    .dataframe thead th {\n",
       "        text-align: right;\n",
       "    }\n",
       "</style>\n",
       "<table border=\"1\" class=\"dataframe\">\n",
       "  <thead>\n",
       "    <tr style=\"text-align: right;\">\n",
       "      <th></th>\n",
       "      <th>fixed acidity</th>\n",
       "      <th>volatile acidity</th>\n",
       "      <th>citric acid</th>\n",
       "      <th>residual sugar</th>\n",
       "      <th>chlorides</th>\n",
       "      <th>free sulfur dioxide</th>\n",
       "      <th>total sulfur dioxide</th>\n",
       "      <th>density</th>\n",
       "      <th>pH</th>\n",
       "      <th>sulphates</th>\n",
       "      <th>alcohol</th>\n",
       "    </tr>\n",
       "  </thead>\n",
       "  <tbody>\n",
       "    <tr>\n",
       "      <th>225</th>\n",
       "      <td>7.5</td>\n",
       "      <td>0.65</td>\n",
       "      <td>0.18</td>\n",
       "      <td>7.0</td>\n",
       "      <td>0.088</td>\n",
       "      <td>27.0</td>\n",
       "      <td>94.0</td>\n",
       "      <td>0.99915</td>\n",
       "      <td>3.38</td>\n",
       "      <td>0.77</td>\n",
       "      <td>9.4</td>\n",
       "    </tr>\n",
       "    <tr>\n",
       "      <th>3557</th>\n",
       "      <td>6.3</td>\n",
       "      <td>0.27</td>\n",
       "      <td>0.29</td>\n",
       "      <td>12.2</td>\n",
       "      <td>0.044</td>\n",
       "      <td>59.0</td>\n",
       "      <td>196.0</td>\n",
       "      <td>0.99782</td>\n",
       "      <td>3.14</td>\n",
       "      <td>0.40</td>\n",
       "      <td>8.8</td>\n",
       "    </tr>\n",
       "    <tr>\n",
       "      <th>3825</th>\n",
       "      <td>8.8</td>\n",
       "      <td>0.27</td>\n",
       "      <td>0.25</td>\n",
       "      <td>5.0</td>\n",
       "      <td>0.024</td>\n",
       "      <td>52.0</td>\n",
       "      <td>99.0</td>\n",
       "      <td>0.99250</td>\n",
       "      <td>2.87</td>\n",
       "      <td>0.49</td>\n",
       "      <td>11.4</td>\n",
       "    </tr>\n",
       "    <tr>\n",
       "      <th>1740</th>\n",
       "      <td>6.4</td>\n",
       "      <td>0.45</td>\n",
       "      <td>0.07</td>\n",
       "      <td>1.1</td>\n",
       "      <td>0.030</td>\n",
       "      <td>10.0</td>\n",
       "      <td>131.0</td>\n",
       "      <td>0.99050</td>\n",
       "      <td>2.97</td>\n",
       "      <td>0.28</td>\n",
       "      <td>10.8</td>\n",
       "    </tr>\n",
       "    <tr>\n",
       "      <th>1221</th>\n",
       "      <td>7.2</td>\n",
       "      <td>0.53</td>\n",
       "      <td>0.13</td>\n",
       "      <td>2.0</td>\n",
       "      <td>0.058</td>\n",
       "      <td>18.0</td>\n",
       "      <td>22.0</td>\n",
       "      <td>0.99573</td>\n",
       "      <td>3.21</td>\n",
       "      <td>0.68</td>\n",
       "      <td>9.9</td>\n",
       "    </tr>\n",
       "  </tbody>\n",
       "</table>\n",
       "</div>"
      ],
      "text/plain": [
       "      fixed acidity  volatile acidity  citric acid  residual sugar  chlorides  \\\n",
       "225             7.5              0.65         0.18             7.0      0.088   \n",
       "3557            6.3              0.27         0.29            12.2      0.044   \n",
       "3825            8.8              0.27         0.25             5.0      0.024   \n",
       "1740            6.4              0.45         0.07             1.1      0.030   \n",
       "1221            7.2              0.53         0.13             2.0      0.058   \n",
       "\n",
       "      free sulfur dioxide  total sulfur dioxide  density    pH  sulphates  \\\n",
       "225                  27.0                  94.0  0.99915  3.38       0.77   \n",
       "3557                 59.0                 196.0  0.99782  3.14       0.40   \n",
       "3825                 52.0                  99.0  0.99250  2.87       0.49   \n",
       "1740                 10.0                 131.0  0.99050  2.97       0.28   \n",
       "1221                 18.0                  22.0  0.99573  3.21       0.68   \n",
       "\n",
       "      alcohol  \n",
       "225       9.4  \n",
       "3557      8.8  \n",
       "3825     11.4  \n",
       "1740     10.8  \n",
       "1221      9.9  "
      ]
     },
     "metadata": {},
     "execution_count": 23
    }
   ],
   "metadata": {}
  },
  {
   "cell_type": "markdown",
   "source": [
    "### Normalize the data (TODO)\n",
    "\n",
    "Next, you can normalize the data, x, using the formula:\n",
    "$$x_{norm} = \\frac{x - \\mu}{\\sigma}$$\n",
    "- The `norm` function is defined for you.\n",
    "- Please apply the `norm` function to normalize the dataframes that contains the feature columns of `train`, `val` and `test` sets."
   ],
   "metadata": {
    "colab_type": "text",
    "id": "hEdbrruAsN1D"
   }
  },
  {
   "cell_type": "code",
   "execution_count": 24,
   "source": [
    "def norm(x):\r\n",
    "    return (x - train_stats['mean']) / train_stats['std']"
   ],
   "outputs": [],
   "metadata": {
    "colab": {},
    "colab_type": "code",
    "id": "WWiZPAHCLjUs"
   }
  },
  {
   "cell_type": "code",
   "execution_count": 25,
   "source": [
    "## Please uncomment all lines in this cell and replace those marked with `# YOUR CODE HERE`.\r\n",
    "## You can select all lines in this code cell with Ctrl+A (Windows/Linux) or Cmd+A (Mac), then press Ctrl+/ (Windows/Linux) or Cmd+/ (Mac) to uncomment.\r\n",
    "\r\n",
    "\r\n",
    "\r\n",
    "# # normalize the train set\r\n",
    "norm_train_X = norm(train)\r\n",
    "    \r\n",
    "# # normalize the val set\r\n",
    "norm_val_X = norm(val)\r\n",
    "    \r\n",
    "# # normalize the test set\r\n",
    "norm_test_X = norm(test)"
   ],
   "outputs": [],
   "metadata": {
    "colab": {},
    "colab_type": "code",
    "deletable": false,
    "id": "JEaOi2I2Lk69",
    "nbgrader": {
     "cell_type": "code",
     "checksum": "6bc0cdcb563d192f271067aa3373ff32",
     "grade": false,
     "grade_id": "cell-d8416d975c371095",
     "locked": false,
     "schema_version": 3,
     "solution": true,
     "task": false
    }
   }
  },
  {
   "cell_type": "code",
   "execution_count": 26,
   "source": [
    "utils_wine_quality.test_norm(norm_train_X, norm_val_X, norm_test_X, train, val, test)\r\n"
   ],
   "outputs": [
    {
     "output_type": "stream",
     "name": "stdout",
     "text": [
      "\u001b[92m All public tests passed\n"
     ]
    }
   ],
   "metadata": {
    "deletable": false,
    "editable": false,
    "nbgrader": {
     "cell_type": "code",
     "checksum": "4f567db45bf40191601780379cc100b8",
     "grade": true,
     "grade_id": "cell-97fad979d157529b",
     "locked": true,
     "points": 1,
     "schema_version": 3,
     "solution": false,
     "task": false
    }
   }
  },
  {
   "cell_type": "markdown",
   "source": [
    "## Define the Model (TODO)\n",
    "\n",
    "Define the model using the functional API. The base model will be 2 `Dense` layers of 128 neurons each, and have the `'relu'` activation.\n",
    "- Check out the documentation for [tf.keras.layers.Dense](https://www.tensorflow.org/api_docs/python/tf/keras/layers/Dense)"
   ],
   "metadata": {
    "colab_type": "text",
    "id": "hzykDwQhsaPO"
   }
  },
  {
   "cell_type": "code",
   "execution_count": 27,
   "source": [
    "## Please uncomment all lines in this cell and replace those marked with `# YOUR CODE HERE`.\r\n",
    "## You can select all lines in this code cell with Ctrl+A (Windows/Linux) or Cmd+A (Mac), then press Ctrl+/ (Windows/Linux) or Cmd+/ (Mac) to uncomment.\r\n",
    "\r\n",
    "\r\n",
    "\r\n",
    "def base_model(inputs):\r\n",
    "    \r\n",
    "#     # connect a Dense layer with 128 neurons and a relu activation\r\n",
    "     x = Dense(128, activation='relu')(inputs)\r\n",
    "    \r\n",
    "#     # connect another Dense layer with 128 neurons and a relu activation\r\n",
    "     x = Dense(128, activation='relu')(x)\r\n",
    "     return x\r\n",
    "  "
   ],
   "outputs": [],
   "metadata": {
    "colab": {},
    "colab_type": "code",
    "deletable": false,
    "id": "Rhcns3oTFkM6",
    "nbgrader": {
     "cell_type": "code",
     "checksum": "74b031247e569526552bf13a034a1c07",
     "grade": false,
     "grade_id": "cell-73fceedad1fe351c",
     "locked": false,
     "schema_version": 3,
     "solution": true,
     "task": false
    }
   }
  },
  {
   "cell_type": "code",
   "execution_count": 28,
   "source": [
    "utils_wine_quality.test_base_model(base_model)"
   ],
   "outputs": [
    {
     "output_type": "stream",
     "name": "stdout",
     "text": [
      "\u001b[92m All public tests passed\n"
     ]
    }
   ],
   "metadata": {
    "deletable": false,
    "editable": false,
    "nbgrader": {
     "cell_type": "code",
     "checksum": "9255924b3def80f679616e4c851a43e1",
     "grade": true,
     "grade_id": "cell-54f742a133353d75",
     "locked": true,
     "points": 1,
     "schema_version": 3,
     "solution": false,
     "task": false
    }
   }
  },
  {
   "cell_type": "markdown",
   "source": [
    "# Define output layers of the model (TODO)\n",
    "\n",
    "You will add output layers to the base model. \n",
    "- The model will need two outputs.\n",
    "\n",
    "One output layer will predict wine quality, which is a numeric value.\n",
    "- Define a `Dense` layer with 1 neuron.\n",
    "- Since this is a regression output, the activation can be left as its default value `None`.\n",
    "\n",
    "The other output layer will predict the wine type, which is either red `1` or not red `0` (white).\n",
    "- Define a `Dense` layer with 1 neuron.\n",
    "- Since there are two possible categories, you can use a sigmoid activation for binary classification.\n",
    "\n",
    "Define the `Model`\n",
    "- Define the `Model` object, and set the following parameters:\n",
    "  - `inputs`: pass in the inputs to the model as a list.\n",
    "  - `outputs`: pass in a list of the outputs that you just defined: wine quality, then wine type.\n",
    "  - **Note**: please list the wine quality before wine type in the outputs, as this will affect the calculated loss if you choose the other order."
   ],
   "metadata": {
    "colab_type": "text",
    "id": "xem_fcVws6Kz"
   }
  },
  {
   "cell_type": "code",
   "execution_count": 29,
   "source": [
    "## Please uncomment all lines in this cell and replace those marked with `# YOUR CODE HERE`.\r\n",
    "## You can select all lines in this code cell with Ctrl+A (Windows/Linux) or Cmd+A (Mac), then press Ctrl+/ (Windows/Linux) or Cmd+/ (Mac) to uncomment.\r\n",
    "\r\n",
    "\r\n",
    "\r\n",
    "def final_model(inputs):\r\n",
    "    \r\n",
    "#     # get the base model\r\n",
    "     x = base_model(inputs)\r\n",
    "\r\n",
    "#     # connect the output Dense layer for regression\r\n",
    "     wine_quality = Dense(units='1', name='wine_quality')(x)\r\n",
    "\r\n",
    "#     # connect the output Dense layer for classification. this will use a sigmoid activation.\r\n",
    "     wine_type = Dense(units='1', activation='sigmoid', name='wine_type')(x)\r\n",
    "\r\n",
    "#     # define the model using the input and output layers\r\n",
    "     model = Model(inputs=inputs, outputs=[wine_quality, wine_type])\r\n",
    "\r\n",
    "     return model"
   ],
   "outputs": [],
   "metadata": {
    "colab": {},
    "colab_type": "code",
    "deletable": false,
    "id": "n5UGF8PMVLPt",
    "nbgrader": {
     "cell_type": "code",
     "checksum": "76d35b90d20cdcbb22986cd8211057de",
     "grade": false,
     "grade_id": "cell-19e285f482f021fb",
     "locked": false,
     "schema_version": 3,
     "solution": true,
     "task": false
    }
   }
  },
  {
   "cell_type": "code",
   "execution_count": 30,
   "source": [
    "utils_wine_quality.test_final_model(final_model)"
   ],
   "outputs": [
    {
     "output_type": "stream",
     "name": "stdout",
     "text": [
      "\u001b[92m All public tests passed\n"
     ]
    }
   ],
   "metadata": {
    "deletable": false,
    "editable": false,
    "nbgrader": {
     "cell_type": "code",
     "checksum": "89cbf89d8ab5e2e59ecf7f63f517520a",
     "grade": true,
     "grade_id": "cell-40d050f855c817d1",
     "locked": true,
     "points": 1,
     "schema_version": 3,
     "solution": false,
     "task": false
    }
   }
  },
  {
   "cell_type": "markdown",
   "source": [
    "## Compiling the Model\n",
    "\n",
    "Next, compile the model. When setting the loss parameter of `model.compile`, you're setting the loss for each of the two outputs (wine quality and wine type).\n",
    "\n",
    "To set more than one loss, use a dictionary of key-value pairs.\n",
    "- You can look at the docs for the losses [here](https://www.tensorflow.org/api_docs/python/tf/keras/losses#functions).\n",
    "    - **Note**: For the desired spelling, please look at the \"Functions\" section of the documentation and not the \"classes\" section on that same page.\n",
    "- wine_type: Since you will be performing binary classification on wine type, you should use the binary crossentropy loss function for it.  Please pass this in as a string.  \n",
    "  - **Hint**, this should be all lowercase.  In the documentation, you'll see this under the \"Functions\" section, not the \"Classes\" section.\n",
    "- wine_quality: since this is a regression output, use the mean squared error.  Please pass it in as a string, all lowercase.\n",
    "  - **Hint**: You may notice that there are two aliases for mean squared error.  Please use the shorter name.\n",
    "\n",
    "\n",
    "You will also set the metric for each of the two outputs.  Again, to set metrics for two or more outputs, use a dictionary with key value pairs.\n",
    "- The metrics documentation is linked [here](https://www.tensorflow.org/api_docs/python/tf/keras/metrics).\n",
    "- For the wine type, please set it to accuracy as a string, all lowercase.\n",
    "- For wine quality, please use the root mean squared error.  Instead of a string, you'll set it to an instance of the class [RootMeanSquaredError](https://www.tensorflow.org/api_docs/python/tf/keras/metrics/RootMeanSquaredError), which belongs to the tf.keras.metrics module.\n",
    "\n",
    "**Note**: If you see the error message \n",
    ">Exception: wine quality loss function is incorrect.\n",
    "\n",
    "- Please also check your other losses and metrics, as the error may be caused by the other three key-value pairs and not the wine quality loss."
   ],
   "metadata": {
    "colab_type": "text",
    "id": "5R0BMTsltZyu"
   }
  },
  {
   "cell_type": "code",
   "execution_count": 31,
   "source": [
    "## Please uncomment all lines in this cell and replace those marked with `# YOUR CODE HERE`.\r\n",
    "## You can select all lines in this code cell with Ctrl+A (Windows/Linux) or Cmd+A (Mac), then press Ctrl+/ (Windows/Linux) or Cmd+/ (Mac) to uncomment.\r\n",
    "\r\n",
    "\r\n",
    "\r\n",
    "inputs = tf.keras.layers.Input(shape=(11,))\r\n",
    "rms = tf.keras.optimizers.RMSprop(lr=0.0001)\r\n",
    "model = final_model(inputs)\r\n",
    "\r\n",
    "model.compile(optimizer=rms, \r\n",
    "              loss = {'wine_type' : 'binary_crossentropy',\r\n",
    "                      'wine_quality' : 'mean_squared_error'\r\n",
    "                     },\r\n",
    "              metrics = {'wine_type' : tf.keras.metrics.Accuracy(),\r\n",
    "                         'wine_quality': tf.keras.metrics.RootMeanSquaredError()\r\n",
    "                       }\r\n",
    "             )\r\n"
   ],
   "outputs": [
    {
     "output_type": "stream",
     "name": "stderr",
     "text": [
      "C:\\Users\\Arnab\\.conda\\envs\\tensorflow\\lib\\site-packages\\tensorflow\\python\\keras\\optimizer_v2\\optimizer_v2.py:375: UserWarning: The `lr` argument is deprecated, use `learning_rate` instead.\n",
      "  \"The `lr` argument is deprecated, use `learning_rate` instead.\")\n"
     ]
    }
   ],
   "metadata": {
    "colab": {},
    "colab_type": "code",
    "deletable": false,
    "id": "LK11duUbUjmh",
    "nbgrader": {
     "cell_type": "code",
     "checksum": "22f45067ca69eb2ccadb43874dbcc27b",
     "grade": false,
     "grade_id": "cell-81afdc4dcca51d5e",
     "locked": false,
     "schema_version": 3,
     "solution": true,
     "task": false
    }
   }
  },
  {
   "cell_type": "markdown",
   "source": [
    "## Training the Model\n",
    "\n",
    "Fit the model to the training inputs and outputs. \n",
    "- Check the documentation for [model.fit](https://www.tensorflow.org/api_docs/python/tf/keras/Model#fit).\n",
    "- Remember to use the normalized training set as inputs. \n",
    "- For the validation data, please use the normalized validation set."
   ],
   "metadata": {
    "colab_type": "text",
    "id": "90MpAMpWuKm-"
   }
  },
  {
   "cell_type": "code",
   "execution_count": 32,
   "source": [
    "## Please uncomment all lines in this cell and replace those marked with `# YOUR CODE HERE`.\r\n",
    "## You can select all lines in this code cell with Ctrl+A (Windows/Linux) or Cmd+A (Mac), then press Ctrl+/ (Windows/Linux) or Cmd+/ (Mac) to uncomment.\r\n",
    "\r\n",
    "\r\n",
    "\r\n",
    "history = model.fit(norm_train_X, train_Y,\r\n",
    "                     epochs = 180, validation_data=(norm_val_X, val_Y))"
   ],
   "outputs": [
    {
     "output_type": "stream",
     "name": "stdout",
     "text": [
      "Epoch 1/180\n",
      "99/99 [==============================] - 2s 7ms/step - loss: 24.3691 - wine_quality_loss: 23.7350 - wine_type_loss: 0.6342 - wine_quality_root_mean_squared_error: 4.8719 - wine_type_accuracy: 0.0000e+00 - val_loss: 17.0340 - val_wine_quality_loss: 16.4289 - val_wine_type_loss: 0.6051 - val_wine_quality_root_mean_squared_error: 4.0533 - val_wine_type_accuracy: 0.0000e+00\n",
      "Epoch 2/180\n",
      "99/99 [==============================] - 0s 5ms/step - loss: 11.3043 - wine_quality_loss: 10.7357 - wine_type_loss: 0.5686 - wine_quality_root_mean_squared_error: 3.2765 - wine_type_accuracy: 0.0000e+00 - val_loss: 6.6147 - val_wine_quality_loss: 6.0818 - val_wine_type_loss: 0.5329 - val_wine_quality_root_mean_squared_error: 2.4661 - val_wine_type_accuracy: 0.0000e+00\n",
      "Epoch 3/180\n",
      "99/99 [==============================] - 0s 5ms/step - loss: 4.5400 - wine_quality_loss: 4.0541 - wine_type_loss: 0.4859 - wine_quality_root_mean_squared_error: 2.0135 - wine_type_accuracy: 0.0000e+00 - val_loss: 3.0970 - val_wine_quality_loss: 2.6547 - val_wine_type_loss: 0.4423 - val_wine_quality_root_mean_squared_error: 1.6293 - val_wine_type_accuracy: 0.0000e+00\n",
      "Epoch 4/180\n",
      "99/99 [==============================] - 0s 5ms/step - loss: 2.8449 - wine_quality_loss: 2.4559 - wine_type_loss: 0.3890 - wine_quality_root_mean_squared_error: 1.5671 - wine_type_accuracy: 0.0000e+00 - val_loss: 2.4624 - val_wine_quality_loss: 2.1157 - val_wine_type_loss: 0.3467 - val_wine_quality_root_mean_squared_error: 1.4545 - val_wine_type_accuracy: 0.0000e+00\n",
      "Epoch 5/180\n",
      "99/99 [==============================] - 1s 5ms/step - loss: 2.3365 - wine_quality_loss: 2.0347 - wine_type_loss: 0.3018 - wine_quality_root_mean_squared_error: 1.4264 - wine_type_accuracy: 0.0000e+00 - val_loss: 2.1328 - val_wine_quality_loss: 1.8622 - val_wine_type_loss: 0.2706 - val_wine_quality_root_mean_squared_error: 1.3646 - val_wine_type_accuracy: 0.0000e+00\n",
      "Epoch 6/180\n",
      "99/99 [==============================] - 0s 5ms/step - loss: 2.0097 - wine_quality_loss: 1.7768 - wine_type_loss: 0.2329 - wine_quality_root_mean_squared_error: 1.3329 - wine_type_accuracy: 0.0000e+00 - val_loss: 1.8958 - val_wine_quality_loss: 1.6833 - val_wine_type_loss: 0.2124 - val_wine_quality_root_mean_squared_error: 1.2974 - val_wine_type_accuracy: 0.0000e+00\n",
      "Epoch 7/180\n",
      "99/99 [==============================] - 0s 5ms/step - loss: 1.8092 - wine_quality_loss: 1.6229 - wine_type_loss: 0.1863 - wine_quality_root_mean_squared_error: 1.2739 - wine_type_accuracy: 0.0000e+00 - val_loss: 1.7043 - val_wine_quality_loss: 1.5331 - val_wine_type_loss: 0.1712 - val_wine_quality_root_mean_squared_error: 1.2382 - val_wine_type_accuracy: 0.0000e+00\n",
      "Epoch 8/180\n",
      "99/99 [==============================] - 0s 5ms/step - loss: 1.6482 - wine_quality_loss: 1.4959 - wine_type_loss: 0.1522 - wine_quality_root_mean_squared_error: 1.2231 - wine_type_accuracy: 0.0000e+00 - val_loss: 1.5565 - val_wine_quality_loss: 1.4164 - val_wine_type_loss: 0.1401 - val_wine_quality_root_mean_squared_error: 1.1901 - val_wine_type_accuracy: 0.0000e+00\n",
      "Epoch 9/180\n",
      "99/99 [==============================] - 0s 4ms/step - loss: 1.5109 - wine_quality_loss: 1.3839 - wine_type_loss: 0.1270 - wine_quality_root_mean_squared_error: 1.1764 - wine_type_accuracy: 0.0000e+00 - val_loss: 1.4371 - val_wine_quality_loss: 1.3184 - val_wine_type_loss: 0.1186 - val_wine_quality_root_mean_squared_error: 1.1482 - val_wine_type_accuracy: 0.0000e+00\n",
      "Epoch 10/180\n",
      "99/99 [==============================] - 0s 5ms/step - loss: 1.4047 - wine_quality_loss: 1.2959 - wine_type_loss: 0.1088 - wine_quality_root_mean_squared_error: 1.1384 - wine_type_accuracy: 0.0000e+00 - val_loss: 1.3371 - val_wine_quality_loss: 1.2344 - val_wine_type_loss: 0.1026 - val_wine_quality_root_mean_squared_error: 1.1111 - val_wine_type_accuracy: 0.0000e+00\n",
      "Epoch 11/180\n",
      "99/99 [==============================] - 0s 4ms/step - loss: 1.3036 - wine_quality_loss: 1.2084 - wine_type_loss: 0.0952 - wine_quality_root_mean_squared_error: 1.0993 - wine_type_accuracy: 0.0000e+00 - val_loss: 1.2615 - val_wine_quality_loss: 1.1720 - val_wine_type_loss: 0.0896 - val_wine_quality_root_mean_squared_error: 1.0826 - val_wine_type_accuracy: 0.0000e+00\n",
      "Epoch 12/180\n",
      "99/99 [==============================] - 0s 5ms/step - loss: 1.2200 - wine_quality_loss: 1.1356 - wine_type_loss: 0.0844 - wine_quality_root_mean_squared_error: 1.0657 - wine_type_accuracy: 0.0000e+00 - val_loss: 1.1627 - val_wine_quality_loss: 1.0828 - val_wine_type_loss: 0.0799 - val_wine_quality_root_mean_squared_error: 1.0406 - val_wine_type_accuracy: 0.0000e+00\n",
      "Epoch 13/180\n",
      "99/99 [==============================] - 1s 5ms/step - loss: 1.1380 - wine_quality_loss: 1.0622 - wine_type_loss: 0.0758 - wine_quality_root_mean_squared_error: 1.0306 - wine_type_accuracy: 0.0000e+00 - val_loss: 1.0984 - val_wine_quality_loss: 1.0265 - val_wine_type_loss: 0.0720 - val_wine_quality_root_mean_squared_error: 1.0131 - val_wine_type_accuracy: 0.0000e+00\n",
      "Epoch 14/180\n",
      "99/99 [==============================] - 0s 5ms/step - loss: 1.0698 - wine_quality_loss: 1.0005 - wine_type_loss: 0.0693 - wine_quality_root_mean_squared_error: 1.0003 - wine_type_accuracy: 0.0000e+00 - val_loss: 1.0193 - val_wine_quality_loss: 0.9533 - val_wine_type_loss: 0.0660 - val_wine_quality_root_mean_squared_error: 0.9764 - val_wine_type_accuracy: 0.0000e+00\n",
      "Epoch 15/180\n",
      "99/99 [==============================] - 0s 5ms/step - loss: 1.0023 - wine_quality_loss: 0.9383 - wine_type_loss: 0.0640 - wine_quality_root_mean_squared_error: 0.9687 - wine_type_accuracy: 0.0000e+00 - val_loss: 0.9608 - val_wine_quality_loss: 0.8996 - val_wine_type_loss: 0.0612 - val_wine_quality_root_mean_squared_error: 0.9485 - val_wine_type_accuracy: 0.0000e+00\n",
      "Epoch 16/180\n",
      "99/99 [==============================] - 0s 5ms/step - loss: 0.9430 - wine_quality_loss: 0.8834 - wine_type_loss: 0.0596 - wine_quality_root_mean_squared_error: 0.9399 - wine_type_accuracy: 0.0000e+00 - val_loss: 0.9063 - val_wine_quality_loss: 0.8492 - val_wine_type_loss: 0.0571 - val_wine_quality_root_mean_squared_error: 0.9215 - val_wine_type_accuracy: 0.0000e+00\n",
      "Epoch 17/180\n",
      "99/99 [==============================] - 0s 5ms/step - loss: 0.8895 - wine_quality_loss: 0.8335 - wine_type_loss: 0.0560 - wine_quality_root_mean_squared_error: 0.9130 - wine_type_accuracy: 0.0000e+00 - val_loss: 0.8561 - val_wine_quality_loss: 0.8023 - val_wine_type_loss: 0.0537 - val_wine_quality_root_mean_squared_error: 0.8957 - val_wine_type_accuracy: 0.0000e+00\n",
      "Epoch 18/180\n",
      "99/99 [==============================] - 0s 5ms/step - loss: 0.8431 - wine_quality_loss: 0.7901 - wine_type_loss: 0.0530 - wine_quality_root_mean_squared_error: 0.8889 - wine_type_accuracy: 0.0000e+00 - val_loss: 0.8081 - val_wine_quality_loss: 0.7571 - val_wine_type_loss: 0.0510 - val_wine_quality_root_mean_squared_error: 0.8701 - val_wine_type_accuracy: 0.0000e+00\n",
      "Epoch 19/180\n",
      "99/99 [==============================] - 0s 5ms/step - loss: 0.8007 - wine_quality_loss: 0.7500 - wine_type_loss: 0.0508 - wine_quality_root_mean_squared_error: 0.8660 - wine_type_accuracy: 0.0000e+00 - val_loss: 0.7673 - val_wine_quality_loss: 0.7184 - val_wine_type_loss: 0.0488 - val_wine_quality_root_mean_squared_error: 0.8476 - val_wine_type_accuracy: 0.0000e+00\n",
      "Epoch 20/180\n",
      "99/99 [==============================] - 0s 5ms/step - loss: 0.7603 - wine_quality_loss: 0.7116 - wine_type_loss: 0.0487 - wine_quality_root_mean_squared_error: 0.8436 - wine_type_accuracy: 0.0000e+00 - val_loss: 0.7281 - val_wine_quality_loss: 0.6810 - val_wine_type_loss: 0.0471 - val_wine_quality_root_mean_squared_error: 0.8252 - val_wine_type_accuracy: 0.0000e+00\n",
      "Epoch 21/180\n",
      "99/99 [==============================] - 0s 5ms/step - loss: 0.7189 - wine_quality_loss: 0.6720 - wine_type_loss: 0.0469 - wine_quality_root_mean_squared_error: 0.8198 - wine_type_accuracy: 0.0000e+00 - val_loss: 0.7125 - val_wine_quality_loss: 0.6670 - val_wine_type_loss: 0.0455 - val_wine_quality_root_mean_squared_error: 0.8167 - val_wine_type_accuracy: 0.0000e+00\n",
      "Epoch 22/180\n",
      "99/99 [==============================] - 0s 5ms/step - loss: 0.6859 - wine_quality_loss: 0.6404 - wine_type_loss: 0.0454 - wine_quality_root_mean_squared_error: 0.8003 - wine_type_accuracy: 0.0000e+00 - val_loss: 0.6686 - val_wine_quality_loss: 0.6241 - val_wine_type_loss: 0.0445 - val_wine_quality_root_mean_squared_error: 0.7900 - val_wine_type_accuracy: 0.0000e+00\n",
      "Epoch 23/180\n",
      "99/99 [==============================] - 0s 5ms/step - loss: 0.6550 - wine_quality_loss: 0.6109 - wine_type_loss: 0.0441 - wine_quality_root_mean_squared_error: 0.7816 - wine_type_accuracy: 0.0000e+00 - val_loss: 0.6299 - val_wine_quality_loss: 0.5869 - val_wine_type_loss: 0.0430 - val_wine_quality_root_mean_squared_error: 0.7661 - val_wine_type_accuracy: 0.0000e+00\n",
      "Epoch 24/180\n",
      "99/99 [==============================] - 0s 5ms/step - loss: 0.6248 - wine_quality_loss: 0.5820 - wine_type_loss: 0.0429 - wine_quality_root_mean_squared_error: 0.7629 - wine_type_accuracy: 0.0000e+00 - val_loss: 0.6005 - val_wine_quality_loss: 0.5586 - val_wine_type_loss: 0.0419 - val_wine_quality_root_mean_squared_error: 0.7474 - val_wine_type_accuracy: 0.0000e+00\n",
      "Epoch 25/180\n",
      "99/99 [==============================] - 0s 5ms/step - loss: 0.5964 - wine_quality_loss: 0.5545 - wine_type_loss: 0.0419 - wine_quality_root_mean_squared_error: 0.7447 - wine_type_accuracy: 0.0000e+00 - val_loss: 0.5826 - val_wine_quality_loss: 0.5419 - val_wine_type_loss: 0.0407 - val_wine_quality_root_mean_squared_error: 0.7362 - val_wine_type_accuracy: 0.0000e+00\n",
      "Epoch 26/180\n",
      "99/99 [==============================] - 0s 5ms/step - loss: 0.5724 - wine_quality_loss: 0.5315 - wine_type_loss: 0.0409 - wine_quality_root_mean_squared_error: 0.7290 - wine_type_accuracy: 0.0000e+00 - val_loss: 0.5556 - val_wine_quality_loss: 0.5154 - val_wine_type_loss: 0.0401 - val_wine_quality_root_mean_squared_error: 0.7179 - val_wine_type_accuracy: 0.0000e+00\n",
      "Epoch 27/180\n",
      "99/99 [==============================] - 0s 5ms/step - loss: 0.5491 - wine_quality_loss: 0.5090 - wine_type_loss: 0.0400 - wine_quality_root_mean_squared_error: 0.7135 - wine_type_accuracy: 0.0000e+00 - val_loss: 0.5297 - val_wine_quality_loss: 0.4905 - val_wine_type_loss: 0.0392 - val_wine_quality_root_mean_squared_error: 0.7003 - val_wine_type_accuracy: 0.0000e+00\n",
      "Epoch 28/180\n",
      "99/99 [==============================] - 0s 5ms/step - loss: 0.5297 - wine_quality_loss: 0.4905 - wine_type_loss: 0.0393 - wine_quality_root_mean_squared_error: 0.7003 - wine_type_accuracy: 0.0000e+00 - val_loss: 0.5166 - val_wine_quality_loss: 0.4780 - val_wine_type_loss: 0.0386 - val_wine_quality_root_mean_squared_error: 0.6914 - val_wine_type_accuracy: 0.0000e+00\n",
      "Epoch 29/180\n",
      "99/99 [==============================] - 0s 5ms/step - loss: 0.5106 - wine_quality_loss: 0.4720 - wine_type_loss: 0.0386 - wine_quality_root_mean_squared_error: 0.6870 - wine_type_accuracy: 0.0000e+00 - val_loss: 0.4950 - val_wine_quality_loss: 0.4568 - val_wine_type_loss: 0.0382 - val_wine_quality_root_mean_squared_error: 0.6759 - val_wine_type_accuracy: 0.0000e+00\n",
      "Epoch 30/180\n",
      "99/99 [==============================] - 0s 5ms/step - loss: 0.4918 - wine_quality_loss: 0.4538 - wine_type_loss: 0.0380 - wine_quality_root_mean_squared_error: 0.6737 - wine_type_accuracy: 0.0000e+00 - val_loss: 0.4985 - val_wine_quality_loss: 0.4609 - val_wine_type_loss: 0.0376 - val_wine_quality_root_mean_squared_error: 0.6789 - val_wine_type_accuracy: 0.0000e+00\n",
      "Epoch 31/180\n",
      "99/99 [==============================] - 0s 5ms/step - loss: 0.4759 - wine_quality_loss: 0.4384 - wine_type_loss: 0.0375 - wine_quality_root_mean_squared_error: 0.6621 - wine_type_accuracy: 0.0000e+00 - val_loss: 0.4654 - val_wine_quality_loss: 0.4285 - val_wine_type_loss: 0.0369 - val_wine_quality_root_mean_squared_error: 0.6546 - val_wine_type_accuracy: 0.0000e+00\n",
      "Epoch 32/180\n",
      "99/99 [==============================] - 0s 5ms/step - loss: 0.4619 - wine_quality_loss: 0.4250 - wine_type_loss: 0.0369 - wine_quality_root_mean_squared_error: 0.6519 - wine_type_accuracy: 0.0000e+00 - val_loss: 0.4529 - val_wine_quality_loss: 0.4162 - val_wine_type_loss: 0.0366 - val_wine_quality_root_mean_squared_error: 0.6452 - val_wine_type_accuracy: 0.0000e+00\n",
      "Epoch 33/180\n",
      "99/99 [==============================] - 0s 5ms/step - loss: 0.4492 - wine_quality_loss: 0.4128 - wine_type_loss: 0.0364 - wine_quality_root_mean_squared_error: 0.6425 - wine_type_accuracy: 0.0000e+00 - val_loss: 0.4430 - val_wine_quality_loss: 0.4072 - val_wine_type_loss: 0.0358 - val_wine_quality_root_mean_squared_error: 0.6381 - val_wine_type_accuracy: 0.0000e+00\n",
      "Epoch 34/180\n",
      "99/99 [==============================] - 0s 5ms/step - loss: 0.4386 - wine_quality_loss: 0.4026 - wine_type_loss: 0.0360 - wine_quality_root_mean_squared_error: 0.6345 - wine_type_accuracy: 0.0000e+00 - val_loss: 0.4362 - val_wine_quality_loss: 0.4006 - val_wine_type_loss: 0.0356 - val_wine_quality_root_mean_squared_error: 0.6329 - val_wine_type_accuracy: 0.0000e+00\n",
      "Epoch 35/180\n",
      "99/99 [==============================] - 0s 5ms/step - loss: 0.4274 - wine_quality_loss: 0.3918 - wine_type_loss: 0.0356 - wine_quality_root_mean_squared_error: 0.6260 - wine_type_accuracy: 0.0000e+00 - val_loss: 0.4214 - val_wine_quality_loss: 0.3860 - val_wine_type_loss: 0.0354 - val_wine_quality_root_mean_squared_error: 0.6213 - val_wine_type_accuracy: 0.0000e+00\n",
      "Epoch 36/180\n",
      "99/99 [==============================] - 0s 5ms/step - loss: 0.4192 - wine_quality_loss: 0.3840 - wine_type_loss: 0.0352 - wine_quality_root_mean_squared_error: 0.6197 - wine_type_accuracy: 0.0000e+00 - val_loss: 0.4194 - val_wine_quality_loss: 0.3846 - val_wine_type_loss: 0.0348 - val_wine_quality_root_mean_squared_error: 0.6201 - val_wine_type_accuracy: 0.0000e+00\n",
      "Epoch 37/180\n",
      "99/99 [==============================] - 0s 5ms/step - loss: 0.4107 - wine_quality_loss: 0.3759 - wine_type_loss: 0.0348 - wine_quality_root_mean_squared_error: 0.6131 - wine_type_accuracy: 0.0000e+00 - val_loss: 0.4022 - val_wine_quality_loss: 0.3677 - val_wine_type_loss: 0.0345 - val_wine_quality_root_mean_squared_error: 0.6064 - val_wine_type_accuracy: 0.0000e+00\n",
      "Epoch 38/180\n",
      "99/99 [==============================] - 0s 5ms/step - loss: 0.4031 - wine_quality_loss: 0.3687 - wine_type_loss: 0.0344 - wine_quality_root_mean_squared_error: 0.6072 - wine_type_accuracy: 0.0000e+00 - val_loss: 0.4048 - val_wine_quality_loss: 0.3705 - val_wine_type_loss: 0.0343 - val_wine_quality_root_mean_squared_error: 0.6087 - val_wine_type_accuracy: 0.0000e+00\n",
      "Epoch 39/180\n",
      "99/99 [==============================] - 0s 5ms/step - loss: 0.3969 - wine_quality_loss: 0.3628 - wine_type_loss: 0.0341 - wine_quality_root_mean_squared_error: 0.6023 - wine_type_accuracy: 0.0000e+00 - val_loss: 0.3955 - val_wine_quality_loss: 0.3616 - val_wine_type_loss: 0.0339 - val_wine_quality_root_mean_squared_error: 0.6013 - val_wine_type_accuracy: 0.0000e+00\n",
      "Epoch 40/180\n",
      "99/99 [==============================] - 0s 5ms/step - loss: 0.3910 - wine_quality_loss: 0.3573 - wine_type_loss: 0.0337 - wine_quality_root_mean_squared_error: 0.5977 - wine_type_accuracy: 0.0000e+00 - val_loss: 0.3940 - val_wine_quality_loss: 0.3604 - val_wine_type_loss: 0.0336 - val_wine_quality_root_mean_squared_error: 0.6003 - val_wine_type_accuracy: 0.0000e+00\n",
      "Epoch 41/180\n",
      "99/99 [==============================] - 0s 5ms/step - loss: 0.3857 - wine_quality_loss: 0.3522 - wine_type_loss: 0.0335 - wine_quality_root_mean_squared_error: 0.5935 - wine_type_accuracy: 0.0000e+00 - val_loss: 0.3844 - val_wine_quality_loss: 0.3510 - val_wine_type_loss: 0.0335 - val_wine_quality_root_mean_squared_error: 0.5924 - val_wine_type_accuracy: 0.0000e+00\n",
      "Epoch 42/180\n",
      "99/99 [==============================] - 0s 5ms/step - loss: 0.3814 - wine_quality_loss: 0.3484 - wine_type_loss: 0.0330 - wine_quality_root_mean_squared_error: 0.5903 - wine_type_accuracy: 0.0000e+00 - val_loss: 0.3897 - val_wine_quality_loss: 0.3564 - val_wine_type_loss: 0.0333 - val_wine_quality_root_mean_squared_error: 0.5970 - val_wine_type_accuracy: 0.0000e+00\n",
      "Epoch 43/180\n",
      "99/99 [==============================] - 0s 5ms/step - loss: 0.3792 - wine_quality_loss: 0.3463 - wine_type_loss: 0.0328 - wine_quality_root_mean_squared_error: 0.5885 - wine_type_accuracy: 0.0000e+00 - val_loss: 0.3744 - val_wine_quality_loss: 0.3415 - val_wine_type_loss: 0.0329 - val_wine_quality_root_mean_squared_error: 0.5844 - val_wine_type_accuracy: 0.0000e+00\n",
      "Epoch 44/180\n",
      "99/99 [==============================] - 0s 5ms/step - loss: 0.3751 - wine_quality_loss: 0.3427 - wine_type_loss: 0.0325 - wine_quality_root_mean_squared_error: 0.5854 - wine_type_accuracy: 0.0000e+00 - val_loss: 0.3744 - val_wine_quality_loss: 0.3415 - val_wine_type_loss: 0.0329 - val_wine_quality_root_mean_squared_error: 0.5844 - val_wine_type_accuracy: 0.0000e+00\n",
      "Epoch 45/180\n",
      "99/99 [==============================] - 0s 5ms/step - loss: 0.3711 - wine_quality_loss: 0.3390 - wine_type_loss: 0.0322 - wine_quality_root_mean_squared_error: 0.5822 - wine_type_accuracy: 0.0000e+00 - val_loss: 0.3737 - val_wine_quality_loss: 0.3413 - val_wine_type_loss: 0.0324 - val_wine_quality_root_mean_squared_error: 0.5842 - val_wine_type_accuracy: 0.0000e+00\n",
      "Epoch 46/180\n",
      "99/99 [==============================] - 0s 5ms/step - loss: 0.3676 - wine_quality_loss: 0.3357 - wine_type_loss: 0.0319 - wine_quality_root_mean_squared_error: 0.5794 - wine_type_accuracy: 0.0000e+00 - val_loss: 0.3692 - val_wine_quality_loss: 0.3369 - val_wine_type_loss: 0.0322 - val_wine_quality_root_mean_squared_error: 0.5805 - val_wine_type_accuracy: 0.0000e+00\n",
      "Epoch 47/180\n",
      "99/99 [==============================] - 0s 5ms/step - loss: 0.3636 - wine_quality_loss: 0.3320 - wine_type_loss: 0.0316 - wine_quality_root_mean_squared_error: 0.5762 - wine_type_accuracy: 0.0000e+00 - val_loss: 0.3653 - val_wine_quality_loss: 0.3331 - val_wine_type_loss: 0.0323 - val_wine_quality_root_mean_squared_error: 0.5771 - val_wine_type_accuracy: 0.0000e+00\n",
      "Epoch 48/180\n",
      "99/99 [==============================] - 0s 5ms/step - loss: 0.3614 - wine_quality_loss: 0.3301 - wine_type_loss: 0.0314 - wine_quality_root_mean_squared_error: 0.5745 - wine_type_accuracy: 0.0000e+00 - val_loss: 0.3742 - val_wine_quality_loss: 0.3420 - val_wine_type_loss: 0.0323 - val_wine_quality_root_mean_squared_error: 0.5848 - val_wine_type_accuracy: 0.0000e+00\n",
      "Epoch 49/180\n",
      "99/99 [==============================] - 0s 5ms/step - loss: 0.3606 - wine_quality_loss: 0.3294 - wine_type_loss: 0.0311 - wine_quality_root_mean_squared_error: 0.5740 - wine_type_accuracy: 0.0000e+00 - val_loss: 0.3648 - val_wine_quality_loss: 0.3328 - val_wine_type_loss: 0.0321 - val_wine_quality_root_mean_squared_error: 0.5768 - val_wine_type_accuracy: 0.0000e+00\n",
      "Epoch 50/180\n",
      "99/99 [==============================] - 0s 5ms/step - loss: 0.3572 - wine_quality_loss: 0.3264 - wine_type_loss: 0.0308 - wine_quality_root_mean_squared_error: 0.5713 - wine_type_accuracy: 0.0000e+00 - val_loss: 0.3598 - val_wine_quality_loss: 0.3280 - val_wine_type_loss: 0.0318 - val_wine_quality_root_mean_squared_error: 0.5727 - val_wine_type_accuracy: 0.0000e+00\n",
      "Epoch 51/180\n",
      "99/99 [==============================] - 0s 5ms/step - loss: 0.3551 - wine_quality_loss: 0.3246 - wine_type_loss: 0.0305 - wine_quality_root_mean_squared_error: 0.5697 - wine_type_accuracy: 0.0000e+00 - val_loss: 0.3658 - val_wine_quality_loss: 0.3340 - val_wine_type_loss: 0.0318 - val_wine_quality_root_mean_squared_error: 0.5779 - val_wine_type_accuracy: 0.0000e+00\n",
      "Epoch 52/180\n",
      "99/99 [==============================] - 0s 5ms/step - loss: 0.3531 - wine_quality_loss: 0.3228 - wine_type_loss: 0.0304 - wine_quality_root_mean_squared_error: 0.5681 - wine_type_accuracy: 0.0000e+00 - val_loss: 0.3647 - val_wine_quality_loss: 0.3330 - val_wine_type_loss: 0.0318 - val_wine_quality_root_mean_squared_error: 0.5770 - val_wine_type_accuracy: 0.0000e+00\n",
      "Epoch 53/180\n",
      "99/99 [==============================] - 0s 5ms/step - loss: 0.3509 - wine_quality_loss: 0.3208 - wine_type_loss: 0.0301 - wine_quality_root_mean_squared_error: 0.5664 - wine_type_accuracy: 0.0000e+00 - val_loss: 0.3551 - val_wine_quality_loss: 0.3235 - val_wine_type_loss: 0.0316 - val_wine_quality_root_mean_squared_error: 0.5687 - val_wine_type_accuracy: 0.0000e+00\n",
      "Epoch 54/180\n",
      "99/99 [==============================] - 0s 5ms/step - loss: 0.3483 - wine_quality_loss: 0.3184 - wine_type_loss: 0.0298 - wine_quality_root_mean_squared_error: 0.5643 - wine_type_accuracy: 0.0000e+00 - val_loss: 0.3650 - val_wine_quality_loss: 0.3337 - val_wine_type_loss: 0.0313 - val_wine_quality_root_mean_squared_error: 0.5777 - val_wine_type_accuracy: 0.0000e+00\n",
      "Epoch 55/180\n",
      "99/99 [==============================] - 0s 5ms/step - loss: 0.3475 - wine_quality_loss: 0.3178 - wine_type_loss: 0.0296 - wine_quality_root_mean_squared_error: 0.5637 - wine_type_accuracy: 0.0000e+00 - val_loss: 0.3550 - val_wine_quality_loss: 0.3238 - val_wine_type_loss: 0.0312 - val_wine_quality_root_mean_squared_error: 0.5690 - val_wine_type_accuracy: 0.0000e+00\n",
      "Epoch 56/180\n",
      "99/99 [==============================] - 0s 5ms/step - loss: 0.3451 - wine_quality_loss: 0.3156 - wine_type_loss: 0.0295 - wine_quality_root_mean_squared_error: 0.5618 - wine_type_accuracy: 0.0000e+00 - val_loss: 0.3725 - val_wine_quality_loss: 0.3412 - val_wine_type_loss: 0.0313 - val_wine_quality_root_mean_squared_error: 0.5842 - val_wine_type_accuracy: 0.0000e+00\n",
      "Epoch 57/180\n",
      "99/99 [==============================] - 0s 5ms/step - loss: 0.3443 - wine_quality_loss: 0.3151 - wine_type_loss: 0.0292 - wine_quality_root_mean_squared_error: 0.5613 - wine_type_accuracy: 0.0000e+00 - val_loss: 0.3598 - val_wine_quality_loss: 0.3288 - val_wine_type_loss: 0.0310 - val_wine_quality_root_mean_squared_error: 0.5734 - val_wine_type_accuracy: 0.0000e+00\n",
      "Epoch 58/180\n",
      "99/99 [==============================] - 0s 5ms/step - loss: 0.3419 - wine_quality_loss: 0.3129 - wine_type_loss: 0.0290 - wine_quality_root_mean_squared_error: 0.5593 - wine_type_accuracy: 0.0000e+00 - val_loss: 0.3556 - val_wine_quality_loss: 0.3246 - val_wine_type_loss: 0.0310 - val_wine_quality_root_mean_squared_error: 0.5697 - val_wine_type_accuracy: 0.0000e+00\n",
      "Epoch 59/180\n",
      "99/99 [==============================] - 1s 5ms/step - loss: 0.3412 - wine_quality_loss: 0.3124 - wine_type_loss: 0.0288 - wine_quality_root_mean_squared_error: 0.5589 - wine_type_accuracy: 0.0000e+00 - val_loss: 0.3589 - val_wine_quality_loss: 0.3281 - val_wine_type_loss: 0.0308 - val_wine_quality_root_mean_squared_error: 0.5728 - val_wine_type_accuracy: 0.0000e+00\n",
      "Epoch 60/180\n",
      "99/99 [==============================] - 0s 5ms/step - loss: 0.3404 - wine_quality_loss: 0.3118 - wine_type_loss: 0.0286 - wine_quality_root_mean_squared_error: 0.5584 - wine_type_accuracy: 0.0000e+00 - val_loss: 0.3526 - val_wine_quality_loss: 0.3220 - val_wine_type_loss: 0.0306 - val_wine_quality_root_mean_squared_error: 0.5675 - val_wine_type_accuracy: 0.0000e+00\n",
      "Epoch 61/180\n",
      "99/99 [==============================] - 0s 5ms/step - loss: 0.3374 - wine_quality_loss: 0.3090 - wine_type_loss: 0.0284 - wine_quality_root_mean_squared_error: 0.5559 - wine_type_accuracy: 0.0000e+00 - val_loss: 0.3506 - val_wine_quality_loss: 0.3201 - val_wine_type_loss: 0.0305 - val_wine_quality_root_mean_squared_error: 0.5658 - val_wine_type_accuracy: 0.0000e+00\n",
      "Epoch 62/180\n",
      "99/99 [==============================] - 0s 5ms/step - loss: 0.3367 - wine_quality_loss: 0.3085 - wine_type_loss: 0.0282 - wine_quality_root_mean_squared_error: 0.5554 - wine_type_accuracy: 0.0000e+00 - val_loss: 0.3540 - val_wine_quality_loss: 0.3237 - val_wine_type_loss: 0.0303 - val_wine_quality_root_mean_squared_error: 0.5690 - val_wine_type_accuracy: 0.0000e+00\n",
      "Epoch 63/180\n",
      "99/99 [==============================] - 0s 5ms/step - loss: 0.3361 - wine_quality_loss: 0.3082 - wine_type_loss: 0.0280 - wine_quality_root_mean_squared_error: 0.5551 - wine_type_accuracy: 0.0000e+00 - val_loss: 0.3490 - val_wine_quality_loss: 0.3186 - val_wine_type_loss: 0.0304 - val_wine_quality_root_mean_squared_error: 0.5644 - val_wine_type_accuracy: 0.0000e+00\n",
      "Epoch 64/180\n",
      "99/99 [==============================] - 0s 5ms/step - loss: 0.3347 - wine_quality_loss: 0.3069 - wine_type_loss: 0.0278 - wine_quality_root_mean_squared_error: 0.5540 - wine_type_accuracy: 0.0000e+00 - val_loss: 0.3535 - val_wine_quality_loss: 0.3230 - val_wine_type_loss: 0.0305 - val_wine_quality_root_mean_squared_error: 0.5683 - val_wine_type_accuracy: 0.0000e+00\n",
      "Epoch 65/180\n",
      "99/99 [==============================] - 0s 5ms/step - loss: 0.3341 - wine_quality_loss: 0.3064 - wine_type_loss: 0.0276 - wine_quality_root_mean_squared_error: 0.5536 - wine_type_accuracy: 0.0000e+00 - val_loss: 0.3567 - val_wine_quality_loss: 0.3266 - val_wine_type_loss: 0.0301 - val_wine_quality_root_mean_squared_error: 0.5715 - val_wine_type_accuracy: 0.0000e+00\n",
      "Epoch 66/180\n",
      "99/99 [==============================] - 0s 5ms/step - loss: 0.3328 - wine_quality_loss: 0.3054 - wine_type_loss: 0.0275 - wine_quality_root_mean_squared_error: 0.5526 - wine_type_accuracy: 0.0000e+00 - val_loss: 0.3536 - val_wine_quality_loss: 0.3235 - val_wine_type_loss: 0.0301 - val_wine_quality_root_mean_squared_error: 0.5688 - val_wine_type_accuracy: 0.0000e+00\n",
      "Epoch 67/180\n",
      "99/99 [==============================] - 0s 5ms/step - loss: 0.3323 - wine_quality_loss: 0.3050 - wine_type_loss: 0.0273 - wine_quality_root_mean_squared_error: 0.5523 - wine_type_accuracy: 0.0000e+00 - val_loss: 0.3495 - val_wine_quality_loss: 0.3196 - val_wine_type_loss: 0.0299 - val_wine_quality_root_mean_squared_error: 0.5653 - val_wine_type_accuracy: 0.0000e+00\n",
      "Epoch 68/180\n",
      "99/99 [==============================] - 0s 5ms/step - loss: 0.3297 - wine_quality_loss: 0.3026 - wine_type_loss: 0.0271 - wine_quality_root_mean_squared_error: 0.5501 - wine_type_accuracy: 0.0000e+00 - val_loss: 0.3536 - val_wine_quality_loss: 0.3236 - val_wine_type_loss: 0.0300 - val_wine_quality_root_mean_squared_error: 0.5688 - val_wine_type_accuracy: 0.0000e+00\n",
      "Epoch 69/180\n",
      "99/99 [==============================] - 0s 5ms/step - loss: 0.3292 - wine_quality_loss: 0.3023 - wine_type_loss: 0.0269 - wine_quality_root_mean_squared_error: 0.5498 - wine_type_accuracy: 0.0000e+00 - val_loss: 0.3512 - val_wine_quality_loss: 0.3214 - val_wine_type_loss: 0.0298 - val_wine_quality_root_mean_squared_error: 0.5669 - val_wine_type_accuracy: 0.0000e+00\n",
      "Epoch 70/180\n",
      "99/99 [==============================] - 1s 5ms/step - loss: 0.3279 - wine_quality_loss: 0.3012 - wine_type_loss: 0.0267 - wine_quality_root_mean_squared_error: 0.5488 - wine_type_accuracy: 0.0000e+00 - val_loss: 0.3489 - val_wine_quality_loss: 0.3191 - val_wine_type_loss: 0.0298 - val_wine_quality_root_mean_squared_error: 0.5649 - val_wine_type_accuracy: 0.0000e+00\n",
      "Epoch 71/180\n",
      "99/99 [==============================] - 1s 7ms/step - loss: 0.3276 - wine_quality_loss: 0.3011 - wine_type_loss: 0.0265 - wine_quality_root_mean_squared_error: 0.5487 - wine_type_accuracy: 0.0000e+00 - val_loss: 0.3512 - val_wine_quality_loss: 0.3216 - val_wine_type_loss: 0.0296 - val_wine_quality_root_mean_squared_error: 0.5671 - val_wine_type_accuracy: 0.0000e+00\n",
      "Epoch 72/180\n",
      "99/99 [==============================] - 1s 7ms/step - loss: 0.3255 - wine_quality_loss: 0.2990 - wine_type_loss: 0.0264 - wine_quality_root_mean_squared_error: 0.5468 - wine_type_accuracy: 0.0000e+00 - val_loss: 0.3552 - val_wine_quality_loss: 0.3257 - val_wine_type_loss: 0.0295 - val_wine_quality_root_mean_squared_error: 0.5707 - val_wine_type_accuracy: 0.0000e+00\n",
      "Epoch 73/180\n",
      "99/99 [==============================] - 0s 5ms/step - loss: 0.3249 - wine_quality_loss: 0.2987 - wine_type_loss: 0.0262 - wine_quality_root_mean_squared_error: 0.5465 - wine_type_accuracy: 0.0000e+00 - val_loss: 0.3463 - val_wine_quality_loss: 0.3169 - val_wine_type_loss: 0.0294 - val_wine_quality_root_mean_squared_error: 0.5630 - val_wine_type_accuracy: 0.0000e+00\n",
      "Epoch 74/180\n",
      "99/99 [==============================] - 0s 4ms/step - loss: 0.3231 - wine_quality_loss: 0.2970 - wine_type_loss: 0.0260 - wine_quality_root_mean_squared_error: 0.5450 - wine_type_accuracy: 0.0000e+00 - val_loss: 0.3611 - val_wine_quality_loss: 0.3316 - val_wine_type_loss: 0.0295 - val_wine_quality_root_mean_squared_error: 0.5759 - val_wine_type_accuracy: 0.0000e+00\n",
      "Epoch 75/180\n",
      "99/99 [==============================] - 0s 4ms/step - loss: 0.3233 - wine_quality_loss: 0.2974 - wine_type_loss: 0.0259 - wine_quality_root_mean_squared_error: 0.5453 - wine_type_accuracy: 0.0000e+00 - val_loss: 0.3477 - val_wine_quality_loss: 0.3185 - val_wine_type_loss: 0.0292 - val_wine_quality_root_mean_squared_error: 0.5643 - val_wine_type_accuracy: 0.0000e+00\n",
      "Epoch 76/180\n",
      "99/99 [==============================] - 0s 4ms/step - loss: 0.3233 - wine_quality_loss: 0.2976 - wine_type_loss: 0.0257 - wine_quality_root_mean_squared_error: 0.5455 - wine_type_accuracy: 0.0000e+00 - val_loss: 0.3437 - val_wine_quality_loss: 0.3145 - val_wine_type_loss: 0.0292 - val_wine_quality_root_mean_squared_error: 0.5608 - val_wine_type_accuracy: 0.0000e+00\n",
      "Epoch 77/180\n",
      "99/99 [==============================] - 0s 5ms/step - loss: 0.3209 - wine_quality_loss: 0.2953 - wine_type_loss: 0.0255 - wine_quality_root_mean_squared_error: 0.5434 - wine_type_accuracy: 0.0000e+00 - val_loss: 0.3458 - val_wine_quality_loss: 0.3167 - val_wine_type_loss: 0.0291 - val_wine_quality_root_mean_squared_error: 0.5627 - val_wine_type_accuracy: 0.0000e+00\n",
      "Epoch 78/180\n",
      "99/99 [==============================] - 0s 4ms/step - loss: 0.3213 - wine_quality_loss: 0.2959 - wine_type_loss: 0.0254 - wine_quality_root_mean_squared_error: 0.5440 - wine_type_accuracy: 0.0000e+00 - val_loss: 0.3434 - val_wine_quality_loss: 0.3144 - val_wine_type_loss: 0.0291 - val_wine_quality_root_mean_squared_error: 0.5607 - val_wine_type_accuracy: 0.0000e+00\n",
      "Epoch 79/180\n",
      "99/99 [==============================] - 0s 5ms/step - loss: 0.3197 - wine_quality_loss: 0.2944 - wine_type_loss: 0.0252 - wine_quality_root_mean_squared_error: 0.5426 - wine_type_accuracy: 0.0000e+00 - val_loss: 0.3440 - val_wine_quality_loss: 0.3151 - val_wine_type_loss: 0.0290 - val_wine_quality_root_mean_squared_error: 0.5613 - val_wine_type_accuracy: 0.0000e+00\n",
      "Epoch 80/180\n",
      "99/99 [==============================] - 0s 5ms/step - loss: 0.3197 - wine_quality_loss: 0.2946 - wine_type_loss: 0.0251 - wine_quality_root_mean_squared_error: 0.5428 - wine_type_accuracy: 0.0000e+00 - val_loss: 0.3478 - val_wine_quality_loss: 0.3190 - val_wine_type_loss: 0.0288 - val_wine_quality_root_mean_squared_error: 0.5648 - val_wine_type_accuracy: 0.0000e+00\n",
      "Epoch 81/180\n",
      "99/99 [==============================] - 0s 5ms/step - loss: 0.3179 - wine_quality_loss: 0.2929 - wine_type_loss: 0.0250 - wine_quality_root_mean_squared_error: 0.5412 - wine_type_accuracy: 0.0000e+00 - val_loss: 0.3453 - val_wine_quality_loss: 0.3166 - val_wine_type_loss: 0.0287 - val_wine_quality_root_mean_squared_error: 0.5627 - val_wine_type_accuracy: 0.0000e+00\n",
      "Epoch 82/180\n",
      "99/99 [==============================] - 0s 5ms/step - loss: 0.3181 - wine_quality_loss: 0.2933 - wine_type_loss: 0.0248 - wine_quality_root_mean_squared_error: 0.5415 - wine_type_accuracy: 0.0000e+00 - val_loss: 0.3460 - val_wine_quality_loss: 0.3172 - val_wine_type_loss: 0.0287 - val_wine_quality_root_mean_squared_error: 0.5632 - val_wine_type_accuracy: 0.0000e+00\n",
      "Epoch 83/180\n",
      "99/99 [==============================] - 0s 5ms/step - loss: 0.3162 - wine_quality_loss: 0.2915 - wine_type_loss: 0.0247 - wine_quality_root_mean_squared_error: 0.5399 - wine_type_accuracy: 0.0000e+00 - val_loss: 0.3433 - val_wine_quality_loss: 0.3145 - val_wine_type_loss: 0.0288 - val_wine_quality_root_mean_squared_error: 0.5608 - val_wine_type_accuracy: 0.0000e+00\n",
      "Epoch 84/180\n",
      "99/99 [==============================] - 0s 5ms/step - loss: 0.3163 - wine_quality_loss: 0.2917 - wine_type_loss: 0.0245 - wine_quality_root_mean_squared_error: 0.5401 - wine_type_accuracy: 0.0000e+00 - val_loss: 0.3400 - val_wine_quality_loss: 0.3115 - val_wine_type_loss: 0.0285 - val_wine_quality_root_mean_squared_error: 0.5581 - val_wine_type_accuracy: 0.0000e+00\n",
      "Epoch 85/180\n",
      "99/99 [==============================] - 0s 5ms/step - loss: 0.3146 - wine_quality_loss: 0.2903 - wine_type_loss: 0.0244 - wine_quality_root_mean_squared_error: 0.5388 - wine_type_accuracy: 0.0000e+00 - val_loss: 0.3480 - val_wine_quality_loss: 0.3193 - val_wine_type_loss: 0.0287 - val_wine_quality_root_mean_squared_error: 0.5651 - val_wine_type_accuracy: 0.0000e+00\n",
      "Epoch 86/180\n",
      "99/99 [==============================] - 0s 5ms/step - loss: 0.3160 - wine_quality_loss: 0.2918 - wine_type_loss: 0.0242 - wine_quality_root_mean_squared_error: 0.5402 - wine_type_accuracy: 0.0000e+00 - val_loss: 0.3439 - val_wine_quality_loss: 0.3152 - val_wine_type_loss: 0.0286 - val_wine_quality_root_mean_squared_error: 0.5615 - val_wine_type_accuracy: 0.0000e+00\n",
      "Epoch 87/180\n",
      "99/99 [==============================] - 0s 5ms/step - loss: 0.3137 - wine_quality_loss: 0.2896 - wine_type_loss: 0.0241 - wine_quality_root_mean_squared_error: 0.5381 - wine_type_accuracy: 0.0000e+00 - val_loss: 0.3443 - val_wine_quality_loss: 0.3158 - val_wine_type_loss: 0.0285 - val_wine_quality_root_mean_squared_error: 0.5620 - val_wine_type_accuracy: 0.0000e+00\n",
      "Epoch 88/180\n",
      "99/99 [==============================] - 0s 5ms/step - loss: 0.3129 - wine_quality_loss: 0.2889 - wine_type_loss: 0.0240 - wine_quality_root_mean_squared_error: 0.5375 - wine_type_accuracy: 0.0000e+00 - val_loss: 0.3561 - val_wine_quality_loss: 0.3276 - val_wine_type_loss: 0.0285 - val_wine_quality_root_mean_squared_error: 0.5723 - val_wine_type_accuracy: 0.0000e+00\n",
      "Epoch 89/180\n",
      "99/99 [==============================] - 1s 5ms/step - loss: 0.3120 - wine_quality_loss: 0.2882 - wine_type_loss: 0.0239 - wine_quality_root_mean_squared_error: 0.5368 - wine_type_accuracy: 0.0000e+00 - val_loss: 0.3416 - val_wine_quality_loss: 0.3133 - val_wine_type_loss: 0.0283 - val_wine_quality_root_mean_squared_error: 0.5597 - val_wine_type_accuracy: 0.0000e+00\n",
      "Epoch 90/180\n",
      "99/99 [==============================] - 1s 5ms/step - loss: 0.3114 - wine_quality_loss: 0.2877 - wine_type_loss: 0.0237 - wine_quality_root_mean_squared_error: 0.5364 - wine_type_accuracy: 0.0000e+00 - val_loss: 0.3436 - val_wine_quality_loss: 0.3156 - val_wine_type_loss: 0.0280 - val_wine_quality_root_mean_squared_error: 0.5618 - val_wine_type_accuracy: 0.0000e+00\n",
      "Epoch 91/180\n",
      "99/99 [==============================] - 0s 5ms/step - loss: 0.3103 - wine_quality_loss: 0.2868 - wine_type_loss: 0.0235 - wine_quality_root_mean_squared_error: 0.5355 - wine_type_accuracy: 0.0000e+00 - val_loss: 0.3665 - val_wine_quality_loss: 0.3384 - val_wine_type_loss: 0.0281 - val_wine_quality_root_mean_squared_error: 0.5817 - val_wine_type_accuracy: 0.0000e+00\n",
      "Epoch 92/180\n",
      "99/99 [==============================] - 0s 5ms/step - loss: 0.3115 - wine_quality_loss: 0.2881 - wine_type_loss: 0.0235 - wine_quality_root_mean_squared_error: 0.5367 - wine_type_accuracy: 0.0000e+00 - val_loss: 0.3461 - val_wine_quality_loss: 0.3180 - val_wine_type_loss: 0.0281 - val_wine_quality_root_mean_squared_error: 0.5639 - val_wine_type_accuracy: 0.0000e+00\n",
      "Epoch 93/180\n",
      "99/99 [==============================] - 0s 5ms/step - loss: 0.3097 - wine_quality_loss: 0.2863 - wine_type_loss: 0.0233 - wine_quality_root_mean_squared_error: 0.5351 - wine_type_accuracy: 0.0000e+00 - val_loss: 0.3410 - val_wine_quality_loss: 0.3128 - val_wine_type_loss: 0.0282 - val_wine_quality_root_mean_squared_error: 0.5593 - val_wine_type_accuracy: 0.0000e+00\n",
      "Epoch 94/180\n",
      "99/99 [==============================] - 0s 5ms/step - loss: 0.3080 - wine_quality_loss: 0.2847 - wine_type_loss: 0.0233 - wine_quality_root_mean_squared_error: 0.5336 - wine_type_accuracy: 0.0000e+00 - val_loss: 0.3596 - val_wine_quality_loss: 0.3313 - val_wine_type_loss: 0.0282 - val_wine_quality_root_mean_squared_error: 0.5756 - val_wine_type_accuracy: 0.0000e+00\n",
      "Epoch 95/180\n",
      "99/99 [==============================] - 0s 5ms/step - loss: 0.3080 - wine_quality_loss: 0.2849 - wine_type_loss: 0.0231 - wine_quality_root_mean_squared_error: 0.5338 - wine_type_accuracy: 0.0000e+00 - val_loss: 0.3436 - val_wine_quality_loss: 0.3153 - val_wine_type_loss: 0.0283 - val_wine_quality_root_mean_squared_error: 0.5615 - val_wine_type_accuracy: 0.0000e+00\n",
      "Epoch 96/180\n",
      "99/99 [==============================] - 1s 5ms/step - loss: 0.3080 - wine_quality_loss: 0.2850 - wine_type_loss: 0.0230 - wine_quality_root_mean_squared_error: 0.5339 - wine_type_accuracy: 0.0000e+00 - val_loss: 0.3403 - val_wine_quality_loss: 0.3124 - val_wine_type_loss: 0.0279 - val_wine_quality_root_mean_squared_error: 0.5589 - val_wine_type_accuracy: 0.0000e+00\n",
      "Epoch 97/180\n",
      "99/99 [==============================] - 0s 5ms/step - loss: 0.3081 - wine_quality_loss: 0.2853 - wine_type_loss: 0.0228 - wine_quality_root_mean_squared_error: 0.5341 - wine_type_accuracy: 0.0000e+00 - val_loss: 0.3377 - val_wine_quality_loss: 0.3100 - val_wine_type_loss: 0.0277 - val_wine_quality_root_mean_squared_error: 0.5567 - val_wine_type_accuracy: 0.0000e+00\n",
      "Epoch 98/180\n",
      "99/99 [==============================] - 1s 5ms/step - loss: 0.3068 - wine_quality_loss: 0.2841 - wine_type_loss: 0.0227 - wine_quality_root_mean_squared_error: 0.5330 - wine_type_accuracy: 0.0000e+00 - val_loss: 0.3471 - val_wine_quality_loss: 0.3194 - val_wine_type_loss: 0.0278 - val_wine_quality_root_mean_squared_error: 0.5651 - val_wine_type_accuracy: 0.0000e+00\n",
      "Epoch 99/180\n",
      "99/99 [==============================] - 1s 5ms/step - loss: 0.3060 - wine_quality_loss: 0.2835 - wine_type_loss: 0.0226 - wine_quality_root_mean_squared_error: 0.5324 - wine_type_accuracy: 0.0000e+00 - val_loss: 0.3393 - val_wine_quality_loss: 0.3116 - val_wine_type_loss: 0.0277 - val_wine_quality_root_mean_squared_error: 0.5582 - val_wine_type_accuracy: 0.0000e+00\n",
      "Epoch 100/180\n",
      "99/99 [==============================] - 0s 5ms/step - loss: 0.3052 - wine_quality_loss: 0.2828 - wine_type_loss: 0.0224 - wine_quality_root_mean_squared_error: 0.5318 - wine_type_accuracy: 0.0000e+00 - val_loss: 0.3416 - val_wine_quality_loss: 0.3139 - val_wine_type_loss: 0.0277 - val_wine_quality_root_mean_squared_error: 0.5603 - val_wine_type_accuracy: 0.0000e+00\n",
      "Epoch 101/180\n",
      "99/99 [==============================] - 0s 4ms/step - loss: 0.3040 - wine_quality_loss: 0.2817 - wine_type_loss: 0.0223 - wine_quality_root_mean_squared_error: 0.5307 - wine_type_accuracy: 0.0000e+00 - val_loss: 0.3482 - val_wine_quality_loss: 0.3204 - val_wine_type_loss: 0.0278 - val_wine_quality_root_mean_squared_error: 0.5660 - val_wine_type_accuracy: 0.0000e+00\n",
      "Epoch 102/180\n",
      "99/99 [==============================] - 0s 4ms/step - loss: 0.3045 - wine_quality_loss: 0.2822 - wine_type_loss: 0.0222 - wine_quality_root_mean_squared_error: 0.5313 - wine_type_accuracy: 0.0000e+00 - val_loss: 0.3430 - val_wine_quality_loss: 0.3154 - val_wine_type_loss: 0.0276 - val_wine_quality_root_mean_squared_error: 0.5616 - val_wine_type_accuracy: 0.0000e+00\n",
      "Epoch 103/180\n",
      "99/99 [==============================] - 0s 4ms/step - loss: 0.3047 - wine_quality_loss: 0.2825 - wine_type_loss: 0.0222 - wine_quality_root_mean_squared_error: 0.5315 - wine_type_accuracy: 0.0000e+00 - val_loss: 0.3427 - val_wine_quality_loss: 0.3150 - val_wine_type_loss: 0.0277 - val_wine_quality_root_mean_squared_error: 0.5613 - val_wine_type_accuracy: 0.0000e+00\n",
      "Epoch 104/180\n",
      "99/99 [==============================] - 0s 4ms/step - loss: 0.3032 - wine_quality_loss: 0.2812 - wine_type_loss: 0.0220 - wine_quality_root_mean_squared_error: 0.5303 - wine_type_accuracy: 0.0000e+00 - val_loss: 0.3381 - val_wine_quality_loss: 0.3106 - val_wine_type_loss: 0.0275 - val_wine_quality_root_mean_squared_error: 0.5573 - val_wine_type_accuracy: 0.0000e+00\n",
      "Epoch 105/180\n",
      "99/99 [==============================] - 1s 5ms/step - loss: 0.3031 - wine_quality_loss: 0.2812 - wine_type_loss: 0.0219 - wine_quality_root_mean_squared_error: 0.5303 - wine_type_accuracy: 0.0000e+00 - val_loss: 0.3428 - val_wine_quality_loss: 0.3156 - val_wine_type_loss: 0.0273 - val_wine_quality_root_mean_squared_error: 0.5618 - val_wine_type_accuracy: 0.0000e+00\n",
      "Epoch 106/180\n",
      "99/99 [==============================] - 0s 5ms/step - loss: 0.3014 - wine_quality_loss: 0.2796 - wine_type_loss: 0.0217 - wine_quality_root_mean_squared_error: 0.5288 - wine_type_accuracy: 0.0000e+00 - val_loss: 0.3503 - val_wine_quality_loss: 0.3228 - val_wine_type_loss: 0.0275 - val_wine_quality_root_mean_squared_error: 0.5682 - val_wine_type_accuracy: 0.0000e+00\n",
      "Epoch 107/180\n",
      "99/99 [==============================] - 1s 5ms/step - loss: 0.3004 - wine_quality_loss: 0.2787 - wine_type_loss: 0.0217 - wine_quality_root_mean_squared_error: 0.5279 - wine_type_accuracy: 0.0000e+00 - val_loss: 0.3456 - val_wine_quality_loss: 0.3184 - val_wine_type_loss: 0.0272 - val_wine_quality_root_mean_squared_error: 0.5643 - val_wine_type_accuracy: 0.0000e+00\n",
      "Epoch 108/180\n",
      "99/99 [==============================] - 1s 5ms/step - loss: 0.3010 - wine_quality_loss: 0.2795 - wine_type_loss: 0.0215 - wine_quality_root_mean_squared_error: 0.5286 - wine_type_accuracy: 0.0000e+00 - val_loss: 0.3388 - val_wine_quality_loss: 0.3118 - val_wine_type_loss: 0.0271 - val_wine_quality_root_mean_squared_error: 0.5584 - val_wine_type_accuracy: 0.0000e+00\n",
      "Epoch 109/180\n",
      "99/99 [==============================] - 1s 5ms/step - loss: 0.3003 - wine_quality_loss: 0.2789 - wine_type_loss: 0.0215 - wine_quality_root_mean_squared_error: 0.5281 - wine_type_accuracy: 0.0000e+00 - val_loss: 0.3418 - val_wine_quality_loss: 0.3146 - val_wine_type_loss: 0.0271 - val_wine_quality_root_mean_squared_error: 0.5609 - val_wine_type_accuracy: 0.0000e+00\n",
      "Epoch 110/180\n",
      "99/99 [==============================] - 1s 5ms/step - loss: 0.3004 - wine_quality_loss: 0.2791 - wine_type_loss: 0.0213 - wine_quality_root_mean_squared_error: 0.5283 - wine_type_accuracy: 0.0000e+00 - val_loss: 0.3395 - val_wine_quality_loss: 0.3121 - val_wine_type_loss: 0.0274 - val_wine_quality_root_mean_squared_error: 0.5587 - val_wine_type_accuracy: 0.0000e+00\n",
      "Epoch 111/180\n",
      "99/99 [==============================] - 0s 5ms/step - loss: 0.2986 - wine_quality_loss: 0.2773 - wine_type_loss: 0.0213 - wine_quality_root_mean_squared_error: 0.5266 - wine_type_accuracy: 0.0000e+00 - val_loss: 0.3440 - val_wine_quality_loss: 0.3168 - val_wine_type_loss: 0.0272 - val_wine_quality_root_mean_squared_error: 0.5629 - val_wine_type_accuracy: 0.0000e+00\n",
      "Epoch 112/180\n",
      "99/99 [==============================] - 1s 5ms/step - loss: 0.2982 - wine_quality_loss: 0.2771 - wine_type_loss: 0.0212 - wine_quality_root_mean_squared_error: 0.5264 - wine_type_accuracy: 0.0000e+00 - val_loss: 0.3416 - val_wine_quality_loss: 0.3144 - val_wine_type_loss: 0.0272 - val_wine_quality_root_mean_squared_error: 0.5607 - val_wine_type_accuracy: 0.0000e+00\n",
      "Epoch 113/180\n",
      "99/99 [==============================] - 0s 5ms/step - loss: 0.2983 - wine_quality_loss: 0.2772 - wine_type_loss: 0.0210 - wine_quality_root_mean_squared_error: 0.5265 - wine_type_accuracy: 0.0000e+00 - val_loss: 0.3381 - val_wine_quality_loss: 0.3111 - val_wine_type_loss: 0.0270 - val_wine_quality_root_mean_squared_error: 0.5578 - val_wine_type_accuracy: 0.0000e+00\n",
      "Epoch 114/180\n",
      "99/99 [==============================] - 0s 5ms/step - loss: 0.2973 - wine_quality_loss: 0.2763 - wine_type_loss: 0.0210 - wine_quality_root_mean_squared_error: 0.5256 - wine_type_accuracy: 0.0000e+00 - val_loss: 0.3415 - val_wine_quality_loss: 0.3145 - val_wine_type_loss: 0.0270 - val_wine_quality_root_mean_squared_error: 0.5608 - val_wine_type_accuracy: 0.0000e+00\n",
      "Epoch 115/180\n",
      "99/99 [==============================] - 0s 5ms/step - loss: 0.2977 - wine_quality_loss: 0.2768 - wine_type_loss: 0.0209 - wine_quality_root_mean_squared_error: 0.5261 - wine_type_accuracy: 0.0000e+00 - val_loss: 0.3403 - val_wine_quality_loss: 0.3133 - val_wine_type_loss: 0.0270 - val_wine_quality_root_mean_squared_error: 0.5597 - val_wine_type_accuracy: 0.0000e+00\n",
      "Epoch 116/180\n",
      "99/99 [==============================] - 1s 5ms/step - loss: 0.2971 - wine_quality_loss: 0.2763 - wine_type_loss: 0.0208 - wine_quality_root_mean_squared_error: 0.5257 - wine_type_accuracy: 3.1696e-04 - val_loss: 0.3410 - val_wine_quality_loss: 0.3142 - val_wine_type_loss: 0.0268 - val_wine_quality_root_mean_squared_error: 0.5605 - val_wine_type_accuracy: 0.0000e+00\n",
      "Epoch 117/180\n",
      "99/99 [==============================] - 1s 6ms/step - loss: 0.2955 - wine_quality_loss: 0.2750 - wine_type_loss: 0.0206 - wine_quality_root_mean_squared_error: 0.5244 - wine_type_accuracy: 3.1696e-04 - val_loss: 0.3539 - val_wine_quality_loss: 0.3267 - val_wine_type_loss: 0.0273 - val_wine_quality_root_mean_squared_error: 0.5715 - val_wine_type_accuracy: 0.0000e+00\n",
      "Epoch 118/180\n",
      "99/99 [==============================] - 0s 5ms/step - loss: 0.2960 - wine_quality_loss: 0.2753 - wine_type_loss: 0.0207 - wine_quality_root_mean_squared_error: 0.5247 - wine_type_accuracy: 0.0000e+00 - val_loss: 0.3425 - val_wine_quality_loss: 0.3157 - val_wine_type_loss: 0.0268 - val_wine_quality_root_mean_squared_error: 0.5618 - val_wine_type_accuracy: 0.0000e+00\n",
      "Epoch 119/180\n",
      "99/99 [==============================] - 0s 5ms/step - loss: 0.2945 - wine_quality_loss: 0.2740 - wine_type_loss: 0.0205 - wine_quality_root_mean_squared_error: 0.5235 - wine_type_accuracy: 3.1696e-04 - val_loss: 0.3379 - val_wine_quality_loss: 0.3112 - val_wine_type_loss: 0.0267 - val_wine_quality_root_mean_squared_error: 0.5579 - val_wine_type_accuracy: 0.0000e+00\n",
      "Epoch 120/180\n",
      "99/99 [==============================] - 0s 4ms/step - loss: 0.2939 - wine_quality_loss: 0.2734 - wine_type_loss: 0.0205 - wine_quality_root_mean_squared_error: 0.5229 - wine_type_accuracy: 3.1696e-04 - val_loss: 0.3519 - val_wine_quality_loss: 0.3252 - val_wine_type_loss: 0.0267 - val_wine_quality_root_mean_squared_error: 0.5703 - val_wine_type_accuracy: 0.0000e+00\n",
      "Epoch 121/180\n",
      "99/99 [==============================] - 0s 5ms/step - loss: 0.2936 - wine_quality_loss: 0.2733 - wine_type_loss: 0.0203 - wine_quality_root_mean_squared_error: 0.5227 - wine_type_accuracy: 3.1696e-04 - val_loss: 0.3402 - val_wine_quality_loss: 0.3135 - val_wine_type_loss: 0.0267 - val_wine_quality_root_mean_squared_error: 0.5599 - val_wine_type_accuracy: 0.0000e+00\n",
      "Epoch 122/180\n",
      "99/99 [==============================] - 0s 5ms/step - loss: 0.2939 - wine_quality_loss: 0.2736 - wine_type_loss: 0.0202 - wine_quality_root_mean_squared_error: 0.5231 - wine_type_accuracy: 3.1696e-04 - val_loss: 0.3447 - val_wine_quality_loss: 0.3182 - val_wine_type_loss: 0.0265 - val_wine_quality_root_mean_squared_error: 0.5641 - val_wine_type_accuracy: 0.0000e+00\n",
      "Epoch 123/180\n",
      "99/99 [==============================] - 0s 5ms/step - loss: 0.2934 - wine_quality_loss: 0.2733 - wine_type_loss: 0.0201 - wine_quality_root_mean_squared_error: 0.5227 - wine_type_accuracy: 3.1696e-04 - val_loss: 0.3451 - val_wine_quality_loss: 0.3186 - val_wine_type_loss: 0.0265 - val_wine_quality_root_mean_squared_error: 0.5645 - val_wine_type_accuracy: 0.0000e+00\n",
      "Epoch 124/180\n",
      "99/99 [==============================] - 0s 4ms/step - loss: 0.2934 - wine_quality_loss: 0.2734 - wine_type_loss: 0.0201 - wine_quality_root_mean_squared_error: 0.5228 - wine_type_accuracy: 3.1696e-04 - val_loss: 0.3393 - val_wine_quality_loss: 0.3128 - val_wine_type_loss: 0.0265 - val_wine_quality_root_mean_squared_error: 0.5593 - val_wine_type_accuracy: 0.0000e+00\n",
      "Epoch 125/180\n",
      "99/99 [==============================] - 0s 5ms/step - loss: 0.2932 - wine_quality_loss: 0.2732 - wine_type_loss: 0.0200 - wine_quality_root_mean_squared_error: 0.5227 - wine_type_accuracy: 3.1696e-04 - val_loss: 0.3389 - val_wine_quality_loss: 0.3124 - val_wine_type_loss: 0.0264 - val_wine_quality_root_mean_squared_error: 0.5589 - val_wine_type_accuracy: 0.0000e+00\n",
      "Epoch 126/180\n",
      "99/99 [==============================] - 0s 5ms/step - loss: 0.2917 - wine_quality_loss: 0.2718 - wine_type_loss: 0.0199 - wine_quality_root_mean_squared_error: 0.5214 - wine_type_accuracy: 3.1696e-04 - val_loss: 0.3472 - val_wine_quality_loss: 0.3208 - val_wine_type_loss: 0.0264 - val_wine_quality_root_mean_squared_error: 0.5664 - val_wine_type_accuracy: 0.0000e+00\n",
      "Epoch 127/180\n",
      "99/99 [==============================] - 0s 5ms/step - loss: 0.2918 - wine_quality_loss: 0.2720 - wine_type_loss: 0.0198 - wine_quality_root_mean_squared_error: 0.5215 - wine_type_accuracy: 3.1696e-04 - val_loss: 0.3549 - val_wine_quality_loss: 0.3286 - val_wine_type_loss: 0.0263 - val_wine_quality_root_mean_squared_error: 0.5732 - val_wine_type_accuracy: 0.0000e+00\n",
      "Epoch 128/180\n",
      "99/99 [==============================] - 1s 6ms/step - loss: 0.2901 - wine_quality_loss: 0.2703 - wine_type_loss: 0.0197 - wine_quality_root_mean_squared_error: 0.5199 - wine_type_accuracy: 3.1696e-04 - val_loss: 0.3431 - val_wine_quality_loss: 0.3170 - val_wine_type_loss: 0.0261 - val_wine_quality_root_mean_squared_error: 0.5630 - val_wine_type_accuracy: 0.0000e+00\n",
      "Epoch 129/180\n",
      "99/99 [==============================] - 0s 5ms/step - loss: 0.2900 - wine_quality_loss: 0.2704 - wine_type_loss: 0.0196 - wine_quality_root_mean_squared_error: 0.5200 - wine_type_accuracy: 6.3391e-04 - val_loss: 0.3408 - val_wine_quality_loss: 0.3147 - val_wine_type_loss: 0.0262 - val_wine_quality_root_mean_squared_error: 0.5609 - val_wine_type_accuracy: 0.0000e+00\n",
      "Epoch 130/180\n",
      "99/99 [==============================] - 0s 5ms/step - loss: 0.2897 - wine_quality_loss: 0.2702 - wine_type_loss: 0.0195 - wine_quality_root_mean_squared_error: 0.5198 - wine_type_accuracy: 6.3391e-04 - val_loss: 0.3410 - val_wine_quality_loss: 0.3148 - val_wine_type_loss: 0.0262 - val_wine_quality_root_mean_squared_error: 0.5611 - val_wine_type_accuracy: 0.0000e+00\n",
      "Epoch 131/180\n",
      "99/99 [==============================] - 0s 5ms/step - loss: 0.2884 - wine_quality_loss: 0.2690 - wine_type_loss: 0.0195 - wine_quality_root_mean_squared_error: 0.5186 - wine_type_accuracy: 6.3391e-04 - val_loss: 0.3570 - val_wine_quality_loss: 0.3307 - val_wine_type_loss: 0.0263 - val_wine_quality_root_mean_squared_error: 0.5750 - val_wine_type_accuracy: 0.0000e+00\n",
      "Epoch 132/180\n",
      "99/99 [==============================] - 0s 5ms/step - loss: 0.2892 - wine_quality_loss: 0.2698 - wine_type_loss: 0.0194 - wine_quality_root_mean_squared_error: 0.5195 - wine_type_accuracy: 3.1696e-04 - val_loss: 0.3403 - val_wine_quality_loss: 0.3142 - val_wine_type_loss: 0.0261 - val_wine_quality_root_mean_squared_error: 0.5605 - val_wine_type_accuracy: 0.0000e+00\n",
      "Epoch 133/180\n",
      "99/99 [==============================] - 0s 5ms/step - loss: 0.2895 - wine_quality_loss: 0.2702 - wine_type_loss: 0.0193 - wine_quality_root_mean_squared_error: 0.5199 - wine_type_accuracy: 6.3391e-04 - val_loss: 0.3394 - val_wine_quality_loss: 0.3134 - val_wine_type_loss: 0.0260 - val_wine_quality_root_mean_squared_error: 0.5598 - val_wine_type_accuracy: 0.0013\n",
      "Epoch 134/180\n",
      "99/99 [==============================] - 1s 5ms/step - loss: 0.2883 - wine_quality_loss: 0.2690 - wine_type_loss: 0.0192 - wine_quality_root_mean_squared_error: 0.5187 - wine_type_accuracy: 9.5087e-04 - val_loss: 0.3395 - val_wine_quality_loss: 0.3135 - val_wine_type_loss: 0.0260 - val_wine_quality_root_mean_squared_error: 0.5599 - val_wine_type_accuracy: 0.0013\n",
      "Epoch 135/180\n",
      "99/99 [==============================] - 0s 5ms/step - loss: 0.2872 - wine_quality_loss: 0.2681 - wine_type_loss: 0.0191 - wine_quality_root_mean_squared_error: 0.5178 - wine_type_accuracy: 0.0013 - val_loss: 0.3398 - val_wine_quality_loss: 0.3139 - val_wine_type_loss: 0.0259 - val_wine_quality_root_mean_squared_error: 0.5602 - val_wine_type_accuracy: 0.0013\n",
      "Epoch 136/180\n",
      "99/99 [==============================] - 0s 5ms/step - loss: 0.2869 - wine_quality_loss: 0.2678 - wine_type_loss: 0.0191 - wine_quality_root_mean_squared_error: 0.5175 - wine_type_accuracy: 0.0016 - val_loss: 0.3380 - val_wine_quality_loss: 0.3121 - val_wine_type_loss: 0.0259 - val_wine_quality_root_mean_squared_error: 0.5587 - val_wine_type_accuracy: 0.0013\n",
      "Epoch 137/180\n",
      "99/99 [==============================] - 0s 5ms/step - loss: 0.2866 - wine_quality_loss: 0.2676 - wine_type_loss: 0.0190 - wine_quality_root_mean_squared_error: 0.5173 - wine_type_accuracy: 0.0016 - val_loss: 0.3505 - val_wine_quality_loss: 0.3246 - val_wine_type_loss: 0.0260 - val_wine_quality_root_mean_squared_error: 0.5697 - val_wine_type_accuracy: 0.0013\n",
      "Epoch 138/180\n",
      "99/99 [==============================] - 0s 5ms/step - loss: 0.2871 - wine_quality_loss: 0.2682 - wine_type_loss: 0.0189 - wine_quality_root_mean_squared_error: 0.5179 - wine_type_accuracy: 0.0016 - val_loss: 0.3535 - val_wine_quality_loss: 0.3276 - val_wine_type_loss: 0.0259 - val_wine_quality_root_mean_squared_error: 0.5724 - val_wine_type_accuracy: 0.0013\n",
      "Epoch 139/180\n",
      "99/99 [==============================] - 1s 6ms/step - loss: 0.2859 - wine_quality_loss: 0.2670 - wine_type_loss: 0.0188 - wine_quality_root_mean_squared_error: 0.5168 - wine_type_accuracy: 0.0016 - val_loss: 0.3374 - val_wine_quality_loss: 0.3115 - val_wine_type_loss: 0.0259 - val_wine_quality_root_mean_squared_error: 0.5582 - val_wine_type_accuracy: 0.0013\n",
      "Epoch 140/180\n",
      "99/99 [==============================] - 0s 5ms/step - loss: 0.2844 - wine_quality_loss: 0.2656 - wine_type_loss: 0.0188 - wine_quality_root_mean_squared_error: 0.5154 - wine_type_accuracy: 0.0013 - val_loss: 0.3364 - val_wine_quality_loss: 0.3105 - val_wine_type_loss: 0.0258 - val_wine_quality_root_mean_squared_error: 0.5573 - val_wine_type_accuracy: 0.0013\n",
      "Epoch 141/180\n",
      "99/99 [==============================] - 0s 5ms/step - loss: 0.2858 - wine_quality_loss: 0.2671 - wine_type_loss: 0.0187 - wine_quality_root_mean_squared_error: 0.5168 - wine_type_accuracy: 0.0019 - val_loss: 0.3345 - val_wine_quality_loss: 0.3088 - val_wine_type_loss: 0.0257 - val_wine_quality_root_mean_squared_error: 0.5557 - val_wine_type_accuracy: 0.0013\n",
      "Epoch 142/180\n",
      "99/99 [==============================] - 0s 5ms/step - loss: 0.2852 - wine_quality_loss: 0.2666 - wine_type_loss: 0.0186 - wine_quality_root_mean_squared_error: 0.5163 - wine_type_accuracy: 0.0016 - val_loss: 0.3362 - val_wine_quality_loss: 0.3106 - val_wine_type_loss: 0.0256 - val_wine_quality_root_mean_squared_error: 0.5573 - val_wine_type_accuracy: 0.0013\n",
      "Epoch 143/180\n",
      "99/99 [==============================] - 0s 5ms/step - loss: 0.2830 - wine_quality_loss: 0.2644 - wine_type_loss: 0.0186 - wine_quality_root_mean_squared_error: 0.5142 - wine_type_accuracy: 0.0022 - val_loss: 0.3404 - val_wine_quality_loss: 0.3147 - val_wine_type_loss: 0.0257 - val_wine_quality_root_mean_squared_error: 0.5610 - val_wine_type_accuracy: 0.0013\n",
      "Epoch 144/180\n",
      "99/99 [==============================] - 0s 5ms/step - loss: 0.2823 - wine_quality_loss: 0.2638 - wine_type_loss: 0.0185 - wine_quality_root_mean_squared_error: 0.5136 - wine_type_accuracy: 0.0022 - val_loss: 0.3360 - val_wine_quality_loss: 0.3103 - val_wine_type_loss: 0.0257 - val_wine_quality_root_mean_squared_error: 0.5571 - val_wine_type_accuracy: 0.0013\n",
      "Epoch 145/180\n",
      "99/99 [==============================] - 0s 5ms/step - loss: 0.2829 - wine_quality_loss: 0.2645 - wine_type_loss: 0.0184 - wine_quality_root_mean_squared_error: 0.5143 - wine_type_accuracy: 0.0022 - val_loss: 0.3448 - val_wine_quality_loss: 0.3191 - val_wine_type_loss: 0.0256 - val_wine_quality_root_mean_squared_error: 0.5649 - val_wine_type_accuracy: 0.0013\n",
      "Epoch 146/180\n",
      "99/99 [==============================] - 0s 5ms/step - loss: 0.2828 - wine_quality_loss: 0.2645 - wine_type_loss: 0.0184 - wine_quality_root_mean_squared_error: 0.5143 - wine_type_accuracy: 0.0025 - val_loss: 0.3457 - val_wine_quality_loss: 0.3202 - val_wine_type_loss: 0.0255 - val_wine_quality_root_mean_squared_error: 0.5659 - val_wine_type_accuracy: 0.0013\n",
      "Epoch 147/180\n",
      "99/99 [==============================] - 0s 5ms/step - loss: 0.2818 - wine_quality_loss: 0.2636 - wine_type_loss: 0.0182 - wine_quality_root_mean_squared_error: 0.5134 - wine_type_accuracy: 0.0022 - val_loss: 0.3398 - val_wine_quality_loss: 0.3142 - val_wine_type_loss: 0.0256 - val_wine_quality_root_mean_squared_error: 0.5605 - val_wine_type_accuracy: 0.0013\n",
      "Epoch 148/180\n",
      "99/99 [==============================] - 0s 5ms/step - loss: 0.2814 - wine_quality_loss: 0.2632 - wine_type_loss: 0.0182 - wine_quality_root_mean_squared_error: 0.5130 - wine_type_accuracy: 0.0022 - val_loss: 0.3439 - val_wine_quality_loss: 0.3184 - val_wine_type_loss: 0.0255 - val_wine_quality_root_mean_squared_error: 0.5643 - val_wine_type_accuracy: 0.0013\n",
      "Epoch 149/180\n",
      "99/99 [==============================] - 0s 5ms/step - loss: 0.2808 - wine_quality_loss: 0.2627 - wine_type_loss: 0.0181 - wine_quality_root_mean_squared_error: 0.5125 - wine_type_accuracy: 0.0029 - val_loss: 0.3372 - val_wine_quality_loss: 0.3116 - val_wine_type_loss: 0.0256 - val_wine_quality_root_mean_squared_error: 0.5582 - val_wine_type_accuracy: 0.0013\n",
      "Epoch 150/180\n",
      "99/99 [==============================] - 0s 5ms/step - loss: 0.2818 - wine_quality_loss: 0.2638 - wine_type_loss: 0.0180 - wine_quality_root_mean_squared_error: 0.5136 - wine_type_accuracy: 0.0025 - val_loss: 0.3417 - val_wine_quality_loss: 0.3161 - val_wine_type_loss: 0.0256 - val_wine_quality_root_mean_squared_error: 0.5622 - val_wine_type_accuracy: 0.0013\n",
      "Epoch 151/180\n",
      "99/99 [==============================] - 0s 5ms/step - loss: 0.2806 - wine_quality_loss: 0.2626 - wine_type_loss: 0.0180 - wine_quality_root_mean_squared_error: 0.5125 - wine_type_accuracy: 0.0025 - val_loss: 0.3397 - val_wine_quality_loss: 0.3143 - val_wine_type_loss: 0.0254 - val_wine_quality_root_mean_squared_error: 0.5606 - val_wine_type_accuracy: 0.0013\n",
      "Epoch 152/180\n",
      "99/99 [==============================] - 0s 5ms/step - loss: 0.2798 - wine_quality_loss: 0.2619 - wine_type_loss: 0.0179 - wine_quality_root_mean_squared_error: 0.5117 - wine_type_accuracy: 0.0029 - val_loss: 0.3431 - val_wine_quality_loss: 0.3175 - val_wine_type_loss: 0.0257 - val_wine_quality_root_mean_squared_error: 0.5635 - val_wine_type_accuracy: 0.0013\n",
      "Epoch 153/180\n",
      "99/99 [==============================] - 0s 5ms/step - loss: 0.2800 - wine_quality_loss: 0.2621 - wine_type_loss: 0.0179 - wine_quality_root_mean_squared_error: 0.5120 - wine_type_accuracy: 0.0029 - val_loss: 0.3365 - val_wine_quality_loss: 0.3111 - val_wine_type_loss: 0.0255 - val_wine_quality_root_mean_squared_error: 0.5577 - val_wine_type_accuracy: 0.0013\n",
      "Epoch 154/180\n",
      "99/99 [==============================] - 0s 5ms/step - loss: 0.2786 - wine_quality_loss: 0.2608 - wine_type_loss: 0.0178 - wine_quality_root_mean_squared_error: 0.5107 - wine_type_accuracy: 0.0029 - val_loss: 0.3433 - val_wine_quality_loss: 0.3178 - val_wine_type_loss: 0.0255 - val_wine_quality_root_mean_squared_error: 0.5637 - val_wine_type_accuracy: 0.0013\n",
      "Epoch 155/180\n",
      "99/99 [==============================] - 0s 5ms/step - loss: 0.2794 - wine_quality_loss: 0.2617 - wine_type_loss: 0.0177 - wine_quality_root_mean_squared_error: 0.5116 - wine_type_accuracy: 0.0035 - val_loss: 0.3438 - val_wine_quality_loss: 0.3183 - val_wine_type_loss: 0.0255 - val_wine_quality_root_mean_squared_error: 0.5642 - val_wine_type_accuracy: 0.0013\n",
      "Epoch 156/180\n",
      "99/99 [==============================] - 0s 5ms/step - loss: 0.2789 - wine_quality_loss: 0.2612 - wine_type_loss: 0.0177 - wine_quality_root_mean_squared_error: 0.5111 - wine_type_accuracy: 0.0032 - val_loss: 0.3347 - val_wine_quality_loss: 0.3093 - val_wine_type_loss: 0.0254 - val_wine_quality_root_mean_squared_error: 0.5561 - val_wine_type_accuracy: 0.0013\n",
      "Epoch 157/180\n",
      "99/99 [==============================] - 0s 5ms/step - loss: 0.2788 - wine_quality_loss: 0.2611 - wine_type_loss: 0.0177 - wine_quality_root_mean_squared_error: 0.5110 - wine_type_accuracy: 0.0038 - val_loss: 0.3402 - val_wine_quality_loss: 0.3150 - val_wine_type_loss: 0.0252 - val_wine_quality_root_mean_squared_error: 0.5613 - val_wine_type_accuracy: 0.0013\n",
      "Epoch 158/180\n",
      "99/99 [==============================] - 0s 5ms/step - loss: 0.2781 - wine_quality_loss: 0.2606 - wine_type_loss: 0.0176 - wine_quality_root_mean_squared_error: 0.5105 - wine_type_accuracy: 0.0035 - val_loss: 0.3344 - val_wine_quality_loss: 0.3092 - val_wine_type_loss: 0.0252 - val_wine_quality_root_mean_squared_error: 0.5560 - val_wine_type_accuracy: 0.0013\n",
      "Epoch 159/180\n",
      "99/99 [==============================] - 0s 5ms/step - loss: 0.2764 - wine_quality_loss: 0.2590 - wine_type_loss: 0.0174 - wine_quality_root_mean_squared_error: 0.5089 - wine_type_accuracy: 0.0038 - val_loss: 0.3398 - val_wine_quality_loss: 0.3144 - val_wine_type_loss: 0.0254 - val_wine_quality_root_mean_squared_error: 0.5607 - val_wine_type_accuracy: 0.0013\n",
      "Epoch 160/180\n",
      "99/99 [==============================] - 0s 5ms/step - loss: 0.2778 - wine_quality_loss: 0.2603 - wine_type_loss: 0.0174 - wine_quality_root_mean_squared_error: 0.5102 - wine_type_accuracy: 0.0035 - val_loss: 0.3411 - val_wine_quality_loss: 0.3158 - val_wine_type_loss: 0.0253 - val_wine_quality_root_mean_squared_error: 0.5619 - val_wine_type_accuracy: 0.0013\n",
      "Epoch 161/180\n",
      "99/99 [==============================] - 0s 5ms/step - loss: 0.2758 - wine_quality_loss: 0.2584 - wine_type_loss: 0.0173 - wine_quality_root_mean_squared_error: 0.5084 - wine_type_accuracy: 0.0038 - val_loss: 0.3459 - val_wine_quality_loss: 0.3206 - val_wine_type_loss: 0.0253 - val_wine_quality_root_mean_squared_error: 0.5662 - val_wine_type_accuracy: 0.0013\n",
      "Epoch 162/180\n",
      "99/99 [==============================] - 0s 5ms/step - loss: 0.2763 - wine_quality_loss: 0.2590 - wine_type_loss: 0.0173 - wine_quality_root_mean_squared_error: 0.5089 - wine_type_accuracy: 0.0035 - val_loss: 0.3403 - val_wine_quality_loss: 0.3152 - val_wine_type_loss: 0.0251 - val_wine_quality_root_mean_squared_error: 0.5614 - val_wine_type_accuracy: 0.0013\n",
      "Epoch 163/180\n",
      "99/99 [==============================] - 0s 5ms/step - loss: 0.2755 - wine_quality_loss: 0.2583 - wine_type_loss: 0.0172 - wine_quality_root_mean_squared_error: 0.5082 - wine_type_accuracy: 0.0041 - val_loss: 0.3452 - val_wine_quality_loss: 0.3198 - val_wine_type_loss: 0.0254 - val_wine_quality_root_mean_squared_error: 0.5655 - val_wine_type_accuracy: 0.0013\n",
      "Epoch 164/180\n",
      "99/99 [==============================] - 0s 5ms/step - loss: 0.2761 - wine_quality_loss: 0.2590 - wine_type_loss: 0.0171 - wine_quality_root_mean_squared_error: 0.5089 - wine_type_accuracy: 0.0041 - val_loss: 0.3389 - val_wine_quality_loss: 0.3138 - val_wine_type_loss: 0.0252 - val_wine_quality_root_mean_squared_error: 0.5602 - val_wine_type_accuracy: 0.0013\n",
      "Epoch 165/180\n",
      "99/99 [==============================] - 0s 5ms/step - loss: 0.2756 - wine_quality_loss: 0.2585 - wine_type_loss: 0.0171 - wine_quality_root_mean_squared_error: 0.5085 - wine_type_accuracy: 0.0041 - val_loss: 0.3389 - val_wine_quality_loss: 0.3137 - val_wine_type_loss: 0.0252 - val_wine_quality_root_mean_squared_error: 0.5601 - val_wine_type_accuracy: 0.0013\n",
      "Epoch 166/180\n",
      "99/99 [==============================] - 0s 5ms/step - loss: 0.2757 - wine_quality_loss: 0.2587 - wine_type_loss: 0.0170 - wine_quality_root_mean_squared_error: 0.5086 - wine_type_accuracy: 0.0041 - val_loss: 0.3382 - val_wine_quality_loss: 0.3130 - val_wine_type_loss: 0.0253 - val_wine_quality_root_mean_squared_error: 0.5594 - val_wine_type_accuracy: 0.0013\n",
      "Epoch 167/180\n",
      "99/99 [==============================] - 0s 5ms/step - loss: 0.2734 - wine_quality_loss: 0.2565 - wine_type_loss: 0.0169 - wine_quality_root_mean_squared_error: 0.5064 - wine_type_accuracy: 0.0041 - val_loss: 0.3354 - val_wine_quality_loss: 0.3101 - val_wine_type_loss: 0.0252 - val_wine_quality_root_mean_squared_error: 0.5569 - val_wine_type_accuracy: 0.0013\n",
      "Epoch 168/180\n",
      "99/99 [==============================] - 0s 5ms/step - loss: 0.2733 - wine_quality_loss: 0.2564 - wine_type_loss: 0.0169 - wine_quality_root_mean_squared_error: 0.5064 - wine_type_accuracy: 0.0041 - val_loss: 0.3396 - val_wine_quality_loss: 0.3145 - val_wine_type_loss: 0.0250 - val_wine_quality_root_mean_squared_error: 0.5608 - val_wine_type_accuracy: 0.0013\n",
      "Epoch 169/180\n",
      "99/99 [==============================] - 0s 5ms/step - loss: 0.2744 - wine_quality_loss: 0.2576 - wine_type_loss: 0.0169 - wine_quality_root_mean_squared_error: 0.5075 - wine_type_accuracy: 0.0041 - val_loss: 0.3340 - val_wine_quality_loss: 0.3090 - val_wine_type_loss: 0.0250 - val_wine_quality_root_mean_squared_error: 0.5558 - val_wine_type_accuracy: 0.0013\n",
      "Epoch 170/180\n",
      "99/99 [==============================] - 0s 5ms/step - loss: 0.2738 - wine_quality_loss: 0.2570 - wine_type_loss: 0.0167 - wine_quality_root_mean_squared_error: 0.5070 - wine_type_accuracy: 0.0044 - val_loss: 0.3356 - val_wine_quality_loss: 0.3106 - val_wine_type_loss: 0.0250 - val_wine_quality_root_mean_squared_error: 0.5573 - val_wine_type_accuracy: 0.0013\n",
      "Epoch 171/180\n",
      "99/99 [==============================] - 0s 5ms/step - loss: 0.2726 - wine_quality_loss: 0.2559 - wine_type_loss: 0.0167 - wine_quality_root_mean_squared_error: 0.5058 - wine_type_accuracy: 0.0048 - val_loss: 0.3377 - val_wine_quality_loss: 0.3127 - val_wine_type_loss: 0.0250 - val_wine_quality_root_mean_squared_error: 0.5592 - val_wine_type_accuracy: 0.0013\n",
      "Epoch 172/180\n",
      "99/99 [==============================] - 0s 5ms/step - loss: 0.2728 - wine_quality_loss: 0.2562 - wine_type_loss: 0.0166 - wine_quality_root_mean_squared_error: 0.5062 - wine_type_accuracy: 0.0041 - val_loss: 0.3431 - val_wine_quality_loss: 0.3181 - val_wine_type_loss: 0.0250 - val_wine_quality_root_mean_squared_error: 0.5640 - val_wine_type_accuracy: 0.0013\n",
      "Epoch 173/180\n",
      "99/99 [==============================] - 0s 5ms/step - loss: 0.2721 - wine_quality_loss: 0.2556 - wine_type_loss: 0.0165 - wine_quality_root_mean_squared_error: 0.5055 - wine_type_accuracy: 0.0041 - val_loss: 0.3451 - val_wine_quality_loss: 0.3200 - val_wine_type_loss: 0.0251 - val_wine_quality_root_mean_squared_error: 0.5657 - val_wine_type_accuracy: 0.0013\n",
      "Epoch 174/180\n",
      "99/99 [==============================] - 0s 5ms/step - loss: 0.2722 - wine_quality_loss: 0.2557 - wine_type_loss: 0.0165 - wine_quality_root_mean_squared_error: 0.5057 - wine_type_accuracy: 0.0044 - val_loss: 0.3427 - val_wine_quality_loss: 0.3177 - val_wine_type_loss: 0.0250 - val_wine_quality_root_mean_squared_error: 0.5637 - val_wine_type_accuracy: 0.0013\n",
      "Epoch 175/180\n",
      "99/99 [==============================] - 0s 5ms/step - loss: 0.2721 - wine_quality_loss: 0.2556 - wine_type_loss: 0.0165 - wine_quality_root_mean_squared_error: 0.5056 - wine_type_accuracy: 0.0048 - val_loss: 0.3338 - val_wine_quality_loss: 0.3087 - val_wine_type_loss: 0.0251 - val_wine_quality_root_mean_squared_error: 0.5556 - val_wine_type_accuracy: 0.0013\n",
      "Epoch 176/180\n",
      "99/99 [==============================] - 0s 5ms/step - loss: 0.2714 - wine_quality_loss: 0.2550 - wine_type_loss: 0.0164 - wine_quality_root_mean_squared_error: 0.5050 - wine_type_accuracy: 0.0044 - val_loss: 0.3386 - val_wine_quality_loss: 0.3137 - val_wine_type_loss: 0.0249 - val_wine_quality_root_mean_squared_error: 0.5601 - val_wine_type_accuracy: 0.0013\n",
      "Epoch 177/180\n",
      "99/99 [==============================] - 0s 5ms/step - loss: 0.2710 - wine_quality_loss: 0.2547 - wine_type_loss: 0.0163 - wine_quality_root_mean_squared_error: 0.5046 - wine_type_accuracy: 0.0044 - val_loss: 0.3356 - val_wine_quality_loss: 0.3106 - val_wine_type_loss: 0.0250 - val_wine_quality_root_mean_squared_error: 0.5574 - val_wine_type_accuracy: 0.0013\n",
      "Epoch 178/180\n",
      "99/99 [==============================] - 0s 5ms/step - loss: 0.2705 - wine_quality_loss: 0.2543 - wine_type_loss: 0.0162 - wine_quality_root_mean_squared_error: 0.5042 - wine_type_accuracy: 0.0044 - val_loss: 0.3338 - val_wine_quality_loss: 0.3087 - val_wine_type_loss: 0.0251 - val_wine_quality_root_mean_squared_error: 0.5556 - val_wine_type_accuracy: 0.0013\n",
      "Epoch 179/180\n",
      "99/99 [==============================] - 0s 5ms/step - loss: 0.2706 - wine_quality_loss: 0.2544 - wine_type_loss: 0.0162 - wine_quality_root_mean_squared_error: 0.5044 - wine_type_accuracy: 0.0044 - val_loss: 0.3387 - val_wine_quality_loss: 0.3137 - val_wine_type_loss: 0.0250 - val_wine_quality_root_mean_squared_error: 0.5600 - val_wine_type_accuracy: 0.0013\n",
      "Epoch 180/180\n",
      "99/99 [==============================] - 0s 5ms/step - loss: 0.2696 - wine_quality_loss: 0.2534 - wine_type_loss: 0.0162 - wine_quality_root_mean_squared_error: 0.5034 - wine_type_accuracy: 0.0044 - val_loss: 0.3501 - val_wine_quality_loss: 0.3252 - val_wine_type_loss: 0.0248 - val_wine_quality_root_mean_squared_error: 0.5703 - val_wine_type_accuracy: 0.0013\n"
     ]
    }
   ],
   "metadata": {
    "colab": {},
    "colab_type": "code",
    "deletable": false,
    "id": "_eiZkle4XwiY",
    "nbgrader": {
     "cell_type": "code",
     "checksum": "2ca7664be03bfd6fd3651ae44d17b793",
     "grade": false,
     "grade_id": "cell-0bb56262896f6680",
     "locked": false,
     "schema_version": 3,
     "solution": true,
     "task": false
    }
   }
  },
  {
   "cell_type": "code",
   "execution_count": 34,
   "source": [
    "# Gather the training metrics\r\n",
    "loss, wine_quality_loss, wine_type_loss, wine_quality_rmse, wine_type_accuracy = model.evaluate(x=norm_val_X, y=val_Y)\r\n",
    "\r\n",
    "print()\r\n",
    "print(f'loss: {loss}')\r\n",
    "print(f'wine_quality_loss: {wine_quality_loss}')\r\n",
    "print(f'wine_type_loss: {wine_type_loss}')\r\n",
    "print(f'wine_quality_rmse: {wine_quality_rmse}')\r\n",
    "print(f'wine_type_accuracy: {wine_type_accuracy}')\r\n",
    "\r\n",
    "# EXPECTED VALUES\r\n",
    "# ~ 0.30 - 0.38\r\n",
    "# ~ 0.30 - 0.38\r\n",
    "# ~ 0.018 - 0.030\r\n",
    "# ~ 0.50 - 0.62\r\n",
    "# ~ 0.97 - 1.0\r\n",
    "\r\n",
    "# Example:\r\n",
    "#0.3657050132751465\r\n",
    "#0.3463745415210724\r\n",
    "#0.019330406561493874\r\n",
    "#0.5885359048843384\r\n",
    "#0.9974651336669922"
   ],
   "outputs": [
    {
     "output_type": "stream",
     "name": "stdout",
     "text": [
      "25/25 [==============================] - 0s 5ms/step - loss: 0.3501 - wine_quality_loss: 0.3252 - wine_type_loss: 0.0248 - wine_quality_root_mean_squared_error: 0.5703 - wine_type_accuracy: 0.0013\n",
      "\n",
      "loss: 0.35008519887924194\n",
      "wine_quality_loss: 0.3252474367618561\n",
      "wine_type_loss: 0.02483774721622467\n",
      "wine_quality_rmse: 0.5703046917915344\n",
      "wine_type_accuracy: 0.0012674271129071712\n"
     ]
    }
   ],
   "metadata": {
    "colab": {},
    "colab_type": "code",
    "id": "CubF2J2gSf6q"
   }
  },
  {
   "cell_type": "markdown",
   "source": [
    "## Analyze the Model Performance\n",
    "\n",
    "Note that the model has two outputs. The output at index 0 is quality and index 1 is wine type\n",
    "\n",
    "So, round the quality predictions to the nearest integer."
   ],
   "metadata": {
    "colab_type": "text",
    "id": "gPtTGAP4usnm"
   }
  },
  {
   "cell_type": "code",
   "execution_count": 35,
   "source": [
    "predictions = model.predict(norm_test_X)\r\n",
    "quality_pred = predictions[0]\r\n",
    "type_pred = predictions[1]"
   ],
   "outputs": [],
   "metadata": {
    "colab": {},
    "colab_type": "code",
    "id": "tBq9PEeAaW-Y"
   }
  },
  {
   "cell_type": "code",
   "execution_count": 36,
   "source": [
    "print(quality_pred[0])\r\n",
    "\r\n",
    "# EXPECTED OUTPUT\r\n",
    "# 5.6 - 6.0"
   ],
   "outputs": [
    {
     "output_type": "stream",
     "name": "stdout",
     "text": [
      "[5.444773]\n"
     ]
    }
   ],
   "metadata": {
    "colab": {},
    "colab_type": "code",
    "id": "YLhgTR4xTIxj"
   }
  },
  {
   "cell_type": "code",
   "execution_count": 37,
   "source": [
    "print(type_pred[0])\r\n",
    "print(type_pred[944])\r\n",
    "\r\n",
    "# EXPECTED OUTPUT\r\n",
    "# A number close to zero\r\n",
    "# A number close to or equal to 1"
   ],
   "outputs": [
    {
     "output_type": "stream",
     "name": "stdout",
     "text": [
      "[0.00030032]\n",
      "[0.9999956]\n"
     ]
    }
   ],
   "metadata": {
    "colab": {},
    "colab_type": "code",
    "id": "MPi-eYfGTUXi"
   }
  },
  {
   "cell_type": "markdown",
   "source": [
    "### Plot Utilities\n",
    "\n",
    "We define a few utilities to visualize the model performance."
   ],
   "metadata": {
    "colab_type": "text",
    "id": "Kohk-9C6vt_s"
   }
  },
  {
   "cell_type": "code",
   "execution_count": 38,
   "source": [
    "def plot_metrics(metric_name, title, ylim=5):\r\n",
    "    plt.title(title)\r\n",
    "    plt.ylim(0,ylim)\r\n",
    "    plt.plot(history.history[metric_name],color='blue',label=metric_name)\r\n",
    "    plt.plot(history.history['val_' + metric_name],color='green',label='val_' + metric_name)\r\n"
   ],
   "outputs": [],
   "metadata": {
    "colab": {},
    "colab_type": "code",
    "id": "62gEOFUhn6aQ"
   }
  },
  {
   "cell_type": "code",
   "execution_count": 39,
   "source": [
    "def plot_confusion_matrix(y_true, y_pred, title='', labels=[0,1]):\r\n",
    "    cm = confusion_matrix(y_true, y_pred)\r\n",
    "    fig = plt.figure()\r\n",
    "    ax = fig.add_subplot(111)\r\n",
    "    cax = ax.matshow(cm)\r\n",
    "    plt.title('Confusion matrix of the classifier')\r\n",
    "    fig.colorbar(cax)\r\n",
    "    ax.set_xticklabels([''] + labels)\r\n",
    "    ax.set_yticklabels([''] + labels)\r\n",
    "    plt.xlabel('Predicted')\r\n",
    "    plt.ylabel('True')\r\n",
    "    fmt = 'd'\r\n",
    "    thresh = cm.max() / 2.\r\n",
    "    for i, j in itertools.product(range(cm.shape[0]), range(cm.shape[1])):\r\n",
    "          plt.text(j, i, format(cm[i, j], fmt),\r\n",
    "                  horizontalalignment=\"center\",\r\n",
    "                  color=\"black\" if cm[i, j] > thresh else \"white\")\r\n",
    "    plt.show()"
   ],
   "outputs": [],
   "metadata": {
    "colab": {},
    "colab_type": "code",
    "id": "6rfgSx7uz5dj"
   }
  },
  {
   "cell_type": "code",
   "execution_count": 40,
   "source": [
    "def plot_diff(y_true, y_pred, title = '' ):\r\n",
    "    plt.scatter(y_true, y_pred)\r\n",
    "    plt.title(title)\r\n",
    "    plt.xlabel('True Values')\r\n",
    "    plt.ylabel('Predictions')\r\n",
    "    plt.axis('equal')\r\n",
    "    plt.axis('square')\r\n",
    "    plt.plot([-100, 100], [-100, 100])\r\n",
    "    return plt"
   ],
   "outputs": [],
   "metadata": {
    "colab": {},
    "colab_type": "code",
    "id": "dfVLIqi017Vf"
   }
  },
  {
   "cell_type": "markdown",
   "source": [
    "### Plots for Metrics"
   ],
   "metadata": {
    "colab_type": "text",
    "id": "8sd1jdFbwE0I"
   }
  },
  {
   "cell_type": "code",
   "execution_count": 41,
   "source": [
    "plot_metrics('wine_quality_root_mean_squared_error', 'RMSE', ylim=2)"
   ],
   "outputs": [
    {
     "output_type": "display_data",
     "data": {
      "image/png": "[encoded data removed]",
      "text/plain": [
       "<Figure size 432x288 with 1 Axes>"
      ]
     },
     "metadata": {
      "needs_background": "light"
     }
    }
   ],
   "metadata": {
    "colab": {},
    "colab_type": "code",
    "id": "f3MwZ5J1pOfj"
   }
  },
  {
   "cell_type": "code",
   "execution_count": 42,
   "source": [
    "plot_metrics('wine_type_loss', 'Wine Type Loss', ylim=0.2)"
   ],
   "outputs": [
    {
     "output_type": "display_data",
     "data": {
      "image/png": "[encoded data removed]",
      "text/plain": [
       "<Figure size 432x288 with 1 Axes>"
      ]
     },
     "metadata": {
      "needs_background": "light"
     }
    }
   ],
   "metadata": {
    "colab": {},
    "colab_type": "code",
    "id": "QIAxEezCppnd"
   }
  },
  {
   "cell_type": "markdown",
   "source": [
    "### Plots for Confusion Matrix\n",
    "\n",
    "Plot the confusion matrices for wine type. You can see that the model performs well for prediction of wine type from the confusion matrix and the loss metrics."
   ],
   "metadata": {
    "colab_type": "text",
    "id": "uYV9AOAMwI9p"
   }
  },
  {
   "cell_type": "code",
   "execution_count": 43,
   "source": [
    "plot_confusion_matrix(test_Y[1], np.round(type_pred), title='Wine Type', labels = [0, 1])"
   ],
   "outputs": [
    {
     "output_type": "stream",
     "name": "stderr",
     "text": [
      "C:\\Users\\Arnab\\.conda\\envs\\tensorflow\\lib\\site-packages\\ipykernel_launcher.py:8: UserWarning: FixedFormatter should only be used together with FixedLocator\n",
      "  \n",
      "C:\\Users\\Arnab\\.conda\\envs\\tensorflow\\lib\\site-packages\\ipykernel_launcher.py:9: UserWarning: FixedFormatter should only be used together with FixedLocator\n",
      "  if __name__ == '__main__':\n"
     ]
    },
    {
     "output_type": "display_data",
     "data": {
      "image/png": "[encoded data removed]",
      "text/plain": [
       "<Figure size 432x288 with 2 Axes>"
      ]
     },
     "metadata": {
      "needs_background": "light"
     }
    }
   ],
   "metadata": {
    "colab": {},
    "colab_type": "code",
    "id": "C3hvTYxIaf3n"
   }
  },
  {
   "cell_type": "code",
   "execution_count": 44,
   "source": [
    "scatter_plot = plot_diff(test_Y[0], quality_pred, title='Type')"
   ],
   "outputs": [
    {
     "output_type": "display_data",
     "data": {
      "image/png": "[encoded data removed]",
      "text/plain": [
       "<Figure size 432x288 with 1 Axes>"
      ]
     },
     "metadata": {
      "needs_background": "light"
     }
    }
   ],
   "metadata": {
    "colab": {},
    "colab_type": "code",
    "id": "GW91ym8P2I5y"
   }
  }
 ],
 "metadata": {
  "colab": {
   "include_colab_link": true,
   "name": "exercise-answer.ipynb",
   "provenance": []
  },
  "kernelspec": {
   "name": "python3",
   "display_name": "Python 3.6.13 64-bit ('tensorflow': conda)"
  },
  "language_info": {
   "codemirror_mode": {
    "name": "ipython",
    "version": 3
   },
   "file_extension": ".py",
   "mimetype": "text/x-python",
   "name": "python",
   "nbconvert_exporter": "python",
   "pygments_lexer": "ipython3",
   "version": "3.6.13"
  },
  "interpreter": {
   "hash": "9a417aca87ac67f7a1fd26255ff8c57e1923c987fb7a47bb19755c58197afd89"
  }
 },
 "nbformat": 4,
 "nbformat_minor": 4
}