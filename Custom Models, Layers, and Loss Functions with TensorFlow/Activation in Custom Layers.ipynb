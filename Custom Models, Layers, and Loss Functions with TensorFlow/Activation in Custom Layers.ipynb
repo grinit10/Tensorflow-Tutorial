{
 "cells": [
  {
   "cell_type": "markdown",
   "source": [
    "# Ungraded Lab: Activation in Custom Layers\n",
    "\n",
    "In this lab, we extend our knowledge of building custom layers by adding an activation parameter. The implementation is pretty straightforward as you'll see below."
   ],
   "metadata": {}
  },
  {
   "cell_type": "markdown",
   "source": [
    "## Imports"
   ],
   "metadata": {}
  },
  {
   "cell_type": "code",
   "execution_count": 1,
   "source": [
    "try:\r\n",
    "    # %tensorflow_version only exists in Colab.\r\n",
    "    %tensorflow_version 2.x\r\n",
    "except Exception:\r\n",
    "    pass\r\n",
    "\r\n",
    "import tensorflow as tf\r\n",
    "from tensorflow.keras.layers import Layer"
   ],
   "outputs": [],
   "metadata": {
    "colab": {},
    "colab_type": "code",
    "id": "DpioxwFXD9Is"
   }
  },
  {
   "cell_type": "markdown",
   "source": [
    "## Adding an activation layer\n",
    "\n",
    "To use the built-in activations in Keras, we can specify an `activation` parameter in the `__init__()` method of our custom layer class. From there, we can initialize it by using the `tf.keras.activations.get()` method. This takes in a string identifier that corresponds to one of the [available activations](https://keras.io/api/layers/activations/#available-activations) in Keras. Next, you can now pass in the forward computation to this activation in the `call()` method."
   ],
   "metadata": {}
  },
  {
   "cell_type": "code",
   "execution_count": 2,
   "source": [
    "class SimpleDense(Layer):\r\n",
    "\r\n",
    "    # add an activation parameter\r\n",
    "    def __init__(self, units=32, activation=None):\r\n",
    "        super(SimpleDense, self).__init__()\r\n",
    "        self.units = units\r\n",
    "        \r\n",
    "        # define the activation to get from the built-in activation layers in Keras\r\n",
    "        self.activation = tf.keras.activations.get(activation)\r\n",
    "\r\n",
    "\r\n",
    "    def build(self, input_shape):\r\n",
    "        w_init = tf.random_normal_initializer()\r\n",
    "        self.w = tf.Variable(name=\"kernel\",\r\n",
    "            initial_value=w_init(shape=(input_shape[-1], self.units),\r\n",
    "                                 dtype='float32'),\r\n",
    "            trainable=True)\r\n",
    "        b_init = tf.zeros_initializer()\r\n",
    "        self.b = tf.Variable(name=\"bias\",\r\n",
    "            initial_value=b_init(shape=(self.units,), dtype='float32'),\r\n",
    "            trainable=True)\r\n",
    "        super().build(input_shape)\r\n",
    "\r\n",
    "\r\n",
    "    def call(self, inputs):\r\n",
    "        \r\n",
    "        # pass the computation to the activation layer\r\n",
    "        return self.activation(tf.matmul(inputs, self.w) + self.b)"
   ],
   "outputs": [],
   "metadata": {
    "colab": {},
    "colab_type": "code",
    "id": "jnVrzRT6BPWl"
   }
  },
  {
   "cell_type": "markdown",
   "source": [
    "We can now pass in an activation parameter to our custom layer. The string identifier is mostly the same as the function name so 'relu' below will get `tf.keras.activations.relu`."
   ],
   "metadata": {}
  },
  {
   "cell_type": "code",
   "execution_count": 3,
   "source": [
    "mnist = tf.keras.datasets.mnist\r\n",
    "\r\n",
    "(x_train, y_train),(x_test, y_test) = mnist.load_data()\r\n",
    "x_train, x_test = x_train / 255.0, x_test / 255.0\r\n",
    "\r\n",
    "model = tf.keras.models.Sequential([\r\n",
    "    tf.keras.layers.Flatten(input_shape=(28, 28)),\r\n",
    "    SimpleDense(128, activation='relu'),\r\n",
    "    tf.keras.layers.Dropout(0.2),\r\n",
    "    tf.keras.layers.Dense(10, activation='softmax')\r\n",
    "])\r\n",
    "\r\n",
    "model.compile(optimizer='adam',\r\n",
    "              loss='sparse_categorical_crossentropy',\r\n",
    "              metrics=['accuracy'])\r\n",
    "\r\n",
    "model.fit(x_train, y_train, epochs=5)\r\n",
    "model.evaluate(x_test, y_test)"
   ],
   "outputs": [
    {
     "output_type": "stream",
     "name": "stdout",
     "text": [
      "Epoch 1/5\n",
      "1875/1875 [==============================] - 4s 1ms/step - loss: 0.3017 - accuracy: 0.9121\n",
      "Epoch 2/5\n",
      "1875/1875 [==============================] - 3s 1ms/step - loss: 0.1461 - accuracy: 0.9566\n",
      "Epoch 3/5\n",
      "1875/1875 [==============================] - 3s 1ms/step - loss: 0.1125 - accuracy: 0.9657\n",
      "Epoch 4/5\n",
      "1875/1875 [==============================] - 3s 1ms/step - loss: 0.0927 - accuracy: 0.9718\n",
      "Epoch 5/5\n",
      "1875/1875 [==============================] - 3s 2ms/step - loss: 0.0779 - accuracy: 0.9752\n",
      "313/313 [==============================] - 1s 1ms/step - loss: 0.0781 - accuracy: 0.9754\n"
     ]
    },
    {
     "output_type": "execute_result",
     "data": {
      "text/plain": [
       "[0.07813876122236252, 0.9753999710083008]"
      ]
     },
     "metadata": {},
     "execution_count": 3
    }
   ],
   "metadata": {
    "colab": {},
    "colab_type": "code",
    "id": "WwTPJT4DkTyW"
   }
  }
 ],
 "metadata": {
  "colab": {
   "authorship_tag": "ABX9TyNuZnKsU8CXVWlkaCl0Um5Q",
   "collapsed_sections": [],
   "include_colab_link": true,
   "name": "CustomWithActivation.ipynb",
   "provenance": []
  },
  "kernelspec": {
   "name": "python3",
   "display_name": "Python 3.6.13 64-bit ('tensorflow': conda)"
  },
  "language_info": {
   "codemirror_mode": {
    "name": "ipython",
    "version": 3
   },
   "file_extension": ".py",
   "mimetype": "text/x-python",
   "name": "python",
   "nbconvert_exporter": "python",
   "pygments_lexer": "ipython3",
   "version": "3.6.13"
  },
  "interpreter": {
   "hash": "9a417aca87ac67f7a1fd26255ff8c57e1923c987fb7a47bb19755c58197afd89"
  }
 },
 "nbformat": 4,
 "nbformat_minor": 4
}